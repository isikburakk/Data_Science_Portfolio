{
 "cells": [
  {
   "cell_type": "markdown",
   "metadata": {},
   "source": [
    "## Soru 1: Ürün Etki Analizi"
   ]
  },
  {
   "cell_type": "markdown",
   "metadata": {},
   "source": [
    "**A- UI açısından, ekranda yapılacak değişikliklerin satın alma davranışını\n",
    "etkilemesi mümkün müdür?**"
   ]
  },
  {
   "cell_type": "markdown",
   "metadata": {},
   "source": [
    "Evet mümkündür. Kullanıcı arayüzü üzerinde yapılan değişikliklerin kullanıcı davranışlarını etkilemesi mümkündür ve satın alma bu davranışlardan birisidir. Özellikle akış üzerine eklenecek adım yada eklenecek fazladan bir seçenek satın alma oranlarını değiştirebilir. "
   ]
  },
  {
   "cell_type": "markdown",
   "metadata": {},
   "source": [
    "**B- UI değişikliklerinin potansiyel etkisini, değişikliği yayına almadan önce\n",
    "yukarıda bahsedilen kullanıcı hareketleri verisinden çıkarılması nasıl\n",
    "sağlanabilir?**"
   ]
  },
  {
   "cell_type": "markdown",
   "metadata": {},
   "source": [
    "\n",
    "\n",
    "Birinci adımda diğer checkbox'ların verilerine bakarak ekleyeceğimiz checkbox'ın sonuçlarını çıkarmak için öncelikle checkbox'ı işaretledikten sonra açılacak sayfanın ne olduğunu bilmemiz gerekir. \n",
    "\n",
    "1. Checkbox işaretlendikten sonra yeni bir sayfaya yönlendirilecek ve/veya bir mesaj gelecekse davranışları 3DS ile yakınlık gösterecektir.\n",
    "2. Checkbox işaretlendikten sonra sayfada taksit seçenekleri gibi ekstra bir seçim panosu açılacaksa davranışları Taksit checkbox'ı ile yakınlık gösterilecektir. \n",
    "3. Checkbox işaretlendikten sonra herhangi bir ektra aksiyon almamız gerekmiyorsa ad, soyad textbox'ları ile yakınlık gösterebilir. \n",
    "\n",
    "İkinci adımda hangi verileri nasıl yorumlamalıyız?\n",
    "\n",
    "Aslında çıkarım yapmak istediğimiz asıl veri conversion rate. Elimizdeki veriler ile sayfanın conversion rate'ini hesaplayabiliriz ancak içerisindeki bir elementin etkisini anlamaya çalışmamız gerekiyor. \n",
    "\n",
    "1. Elimizde varsa diğer checkboxların A/B test sonuçları bizi sonuca götürebilir.\n",
    "2. Bu sayfada seçtiğimiz checkbox'a hiç dokunmamış kullanıcıların conversion rate'ini checkbox'a tıklayanlar ile karşılaştırmak checkbox'ın etkisini bize gösterecektir.\n",
    "3. Checkbox'a tıklayıp ardından sayfayı terk edenlerin oranlarına bakmak.\n"
   ]
  },
  {
   "cell_type": "markdown",
   "metadata": {},
   "source": [
    "**C- \"Yeni\" isimli checkbox yerleştirildikten ve canlıya alındıktan sonra, yapılan\n",
    "değişikliğin ödeme davranışına etkisi ne gibi bir etki testi ile ölçülebilir?**"
   ]
  },
  {
   "cell_type": "markdown",
   "metadata": {},
   "source": [
    "Üründe yapılan bir değişikliğin sonuçlarını ölçmek için A/B test yapmamız gerekir. Temelde ana grubu iyi yansıttığını düşündüğümüz gruplara sayfanın yeni halini gösterip conversion rate'leri ölçümlememiz gerekiyor. Bu deneyin daha sağlıklı sonuçlar vermesi için örnek grupların sayısını arttırmamız gerekir. Bu sayede confidence interval'ı daha yüksek bir test yapmış oluruz. "
   ]
  },
  {
   "cell_type": "markdown",
   "metadata": {},
   "source": [
    "## Soru 2: Öznitelik Oluşturma"
   ]
  },
  {
   "cell_type": "code",
   "execution_count": 1,
   "metadata": {},
   "outputs": [],
   "source": [
    "import pandas as pd\n",
    "import numpy as np\n",
    "import re\n",
    "import warnings\n",
    "warnings.filterwarnings(\"ignore\")\n"
   ]
  },
  {
   "cell_type": "code",
   "execution_count": 2,
   "metadata": {},
   "outputs": [],
   "source": [
    "df=pd.read_csv(\"Dataset.csv\")"
   ]
  },
  {
   "cell_type": "code",
   "execution_count": 3,
   "metadata": {},
   "outputs": [
    {
     "data": {
      "text/html": [
       "<div>\n",
       "<style scoped>\n",
       "    .dataframe tbody tr th:only-of-type {\n",
       "        vertical-align: middle;\n",
       "    }\n",
       "\n",
       "    .dataframe tbody tr th {\n",
       "        vertical-align: top;\n",
       "    }\n",
       "\n",
       "    .dataframe thead th {\n",
       "        text-align: right;\n",
       "    }\n",
       "</style>\n",
       "<table border=\"1\" class=\"dataframe\">\n",
       "  <thead>\n",
       "    <tr style=\"text-align: right;\">\n",
       "      <th></th>\n",
       "      <th>transaction_id</th>\n",
       "      <th>email</th>\n",
       "      <th>is_fraud</th>\n",
       "    </tr>\n",
       "  </thead>\n",
       "  <tbody>\n",
       "    <tr>\n",
       "      <th>0</th>\n",
       "      <td>1</td>\n",
       "      <td>david@gmail.com</td>\n",
       "      <td>0</td>\n",
       "    </tr>\n",
       "    <tr>\n",
       "      <th>1</th>\n",
       "      <td>2</td>\n",
       "      <td>david@gmail.com</td>\n",
       "      <td>0</td>\n",
       "    </tr>\n",
       "    <tr>\n",
       "      <th>2</th>\n",
       "      <td>3</td>\n",
       "      <td>ryan@hotmail.com</td>\n",
       "      <td>1</td>\n",
       "    </tr>\n",
       "    <tr>\n",
       "      <th>3</th>\n",
       "      <td>4</td>\n",
       "      <td>andy@yahoo.com</td>\n",
       "      <td>1</td>\n",
       "    </tr>\n",
       "    <tr>\n",
       "      <th>4</th>\n",
       "      <td>5</td>\n",
       "      <td>peter@gmail.com</td>\n",
       "      <td>1</td>\n",
       "    </tr>\n",
       "    <tr>\n",
       "      <th>5</th>\n",
       "      <td>6</td>\n",
       "      <td>andy@yahoo.com</td>\n",
       "      <td>0</td>\n",
       "    </tr>\n",
       "    <tr>\n",
       "      <th>6</th>\n",
       "      <td>7</td>\n",
       "      <td>andy@yahoo.com</td>\n",
       "      <td>1</td>\n",
       "    </tr>\n",
       "    <tr>\n",
       "      <th>7</th>\n",
       "      <td>8</td>\n",
       "      <td>ryan@hotmail.com</td>\n",
       "      <td>0</td>\n",
       "    </tr>\n",
       "    <tr>\n",
       "      <th>8</th>\n",
       "      <td>9</td>\n",
       "      <td>teddy@iyzico.com</td>\n",
       "      <td>1</td>\n",
       "    </tr>\n",
       "    <tr>\n",
       "      <th>9</th>\n",
       "      <td>10</td>\n",
       "      <td>ryan@hotmail.com</td>\n",
       "      <td>1</td>\n",
       "    </tr>\n",
       "    <tr>\n",
       "      <th>10</th>\n",
       "      <td>11</td>\n",
       "      <td>peter@gmail.com</td>\n",
       "      <td>1</td>\n",
       "    </tr>\n",
       "    <tr>\n",
       "      <th>11</th>\n",
       "      <td>12</td>\n",
       "      <td>david@gmail.com</td>\n",
       "      <td>0</td>\n",
       "    </tr>\n",
       "    <tr>\n",
       "      <th>12</th>\n",
       "      <td>13</td>\n",
       "      <td>eric@stanford.edu.tr</td>\n",
       "      <td>0</td>\n",
       "    </tr>\n",
       "    <tr>\n",
       "      <th>13</th>\n",
       "      <td>14</td>\n",
       "      <td>ryan@hotmail.com</td>\n",
       "      <td>1</td>\n",
       "    </tr>\n",
       "  </tbody>\n",
       "</table>\n",
       "</div>"
      ],
      "text/plain": [
       "    transaction_id                 email  is_fraud\n",
       "0                1       david@gmail.com         0\n",
       "1                2       david@gmail.com         0\n",
       "2                3      ryan@hotmail.com         1\n",
       "3                4        andy@yahoo.com         1\n",
       "4                5       peter@gmail.com         1\n",
       "5                6        andy@yahoo.com         0\n",
       "6                7        andy@yahoo.com         1\n",
       "7                8      ryan@hotmail.com         0\n",
       "8                9      teddy@iyzico.com         1\n",
       "9               10      ryan@hotmail.com         1\n",
       "10              11       peter@gmail.com         1\n",
       "11              12       david@gmail.com         0\n",
       "12              13  eric@stanford.edu.tr         0\n",
       "13              14      ryan@hotmail.com         1"
      ]
     },
     "execution_count": 3,
     "metadata": {},
     "output_type": "execute_result"
    }
   ],
   "source": [
    "df"
   ]
  },
  {
   "cell_type": "markdown",
   "metadata": {},
   "source": [
    "##### Fonksiyonlar\n",
    "\n",
    "Veriyi oluştururken veri setinin tamamından değil gelen işlemden önceki işlemleri göz önünde bulundurun bir yaklaşım izledim. Kredi kartından sahtekarlık saptama işlemi bulk veri ile değilde o veri geldiği anda yapıldığı için böyle bir yaklaşım izledim. \n",
    "\n",
    "1. CountFraud\n",
    "\n",
    "        Bu fonksiyon her bir işlem için aynı kullanıcının daha önce kaç adet fraudlu işlem yaptığını hesaplıyor.\n",
    "    \n",
    "     \n",
    "2. CountOrder\n",
    "\n",
    "        Kullanıcının bu işleme kadar yaptığı toplam işlem sayısı\n",
    "    \n",
    "     \n",
    "3. FraudRate\n",
    "\n",
    "        Kullanıcının yaptığı fraud sayısı/toplam sipariş sayısı\n",
    "    \n",
    "    \n",
    "4. FirstTimer\n",
    "\n",
    "        Kullanıcının ilk alışverişi olup olmadığına bakıyor\n",
    "    \n",
    "    \n",
    "5. MailQuality\n",
    "\n",
    "        Aşağıda belirttiğim kaynaktan aldığım ve herkes tarafından elde edilebilir mailler ile kullanıcıların maillerini karşılaştırdım. mailleri public yada değil şeklinde işaretledim.\n",
    "    \n",
    "\n",
    "6. Frequency\n",
    "\n",
    "        Son 5 işlemin kaçının bu kullanıcıyaait olduğunu çıkardım. Normal şartlarda bunu zaman tagleri üzeirnden yapmak daha sağlıkllı olurdu ancak elde veri ile bu tarz bir yaklaşım geliştirdim.\n",
    "    \n",
    "    \n",
    "7. PrepareData\n",
    "\n",
    "        Dİğer fonksiyonların tamamını çalıştırıp veriyi son haline getirdiğim fonksiyon."
   ]
  },
  {
   "cell_type": "code",
   "execution_count": 4,
   "metadata": {},
   "outputs": [],
   "source": [
    "def CountFraud(df):\n",
    "    if \"count_fraud\" not in df.columns:\n",
    "        df[\"count_fraud\"]=0\n",
    "    \n",
    "    for i in range(1,len(df)+1):\n",
    "        df[\"count_fraud\"][i-1]=np.sum((df[(df.transaction_id<i) & (df.email==df.iloc[i-1,1])].is_fraud))"
   ]
  },
  {
   "cell_type": "code",
   "execution_count": 5,
   "metadata": {},
   "outputs": [],
   "source": [
    "def CountOrder(df):\n",
    "    if \"order_count\" not in df.columns:\n",
    "        df[\"order_count\"]=0\n",
    "    \n",
    "    for i in range(1,len(df)+1):\n",
    "\n",
    "        df[\"order_count\"][i-1]=len(df[(df.transaction_id<i) & (df.email==df.iloc[i-1,1])]) "
   ]
  },
  {
   "cell_type": "code",
   "execution_count": 6,
   "metadata": {},
   "outputs": [],
   "source": [
    "def FraudRate(df):\n",
    "    if \"fraud_rate\" not in df.columns:\n",
    "        df[\"fraud_rate\"]=0\n",
    "    \n",
    "    for i in range(1,len(df)+1):\n",
    "\n",
    "        df[\"fraud_rate\"][i-1]=df[\"count_fraud\"][i-1]/len(df[(df.transaction_id<i) & (df.email==df.iloc[i-1,1])])\n",
    "    df.fillna(0,inplace=True)"
   ]
  },
  {
   "cell_type": "code",
   "execution_count": 7,
   "metadata": {},
   "outputs": [],
   "source": [
    "def FirstTimer(df):\n",
    "    if \"first_time\" not in df.columns:\n",
    "        df[\"first_time\"]=0\n",
    "        \n",
    "    for i in range(1,len(df)+1):\n",
    "        if df[\"order_count\"][i-1] >0: \n",
    "            df[\"first_time\"][i-1]=0\n",
    "        else:\n",
    "            df[\"first_time\"][i-1]=1    \n",
    "       "
   ]
  },
  {
   "cell_type": "code",
   "execution_count": 8,
   "metadata": {},
   "outputs": [],
   "source": [
    "def MailQuality(df):\n",
    "    domains = [\n",
    "    # Default domains included */\n",
    "    \"aol.com\", \"att.net\", \"comcast.net\", \"facebook.com\", \"gmail.com\", \"gmx.com\", \"googlemail.com\",\n",
    "    \"google.com\", \"hotmail.com\", \"hotmail.co.uk\", \"mac.com\", \"me.com\", \"mail.com\", \"msn.com\",\n",
    "    \"live.com\", \"sbcglobal.net\", \"verizon.net\", \"yahoo.com\", \"yahoo.co.uk\",\n",
    "    \n",
    "    # Other global domains */\n",
    "    \"email.com\", \"fastmail.fm\", \"games.com\" , \"gmx.net\", \"hush.com\", \"hushmail.com\", \"icloud.com\",\n",
    "    \"iname.com\", \"inbox.com\", \"lavabit.com\", \"love.com\" , \"outlook.com\", \"pobox.com\", \"protonmail.ch\", \"protonmail.com\", \"tutanota.de\", \"tutanota.com\", \"tutamail.com\", \"tuta.io\",\n",
    "    \"keemail.me\", \"rocketmail.com\" , \"safe-mail.net\", \"wow.com\", \"ygm.com\",\n",
    "    \"ymail.com\" , \"zoho.com\", \"yandex.com\",\n",
    "    \n",
    "    # United States ISP domains */\n",
    "    \"bellsouth.net\", \"charter.net\", \"cox.net\", \"earthlink.net\", \"juno.com\",\n",
    "    \n",
    "    # British ISP domains */\n",
    "    \"btinternet.com\", \"virginmedia.com\", \"blueyonder.co.uk\", \"freeserve.co.uk\", \"live.co.uk\",\n",
    "    \"ntlworld.com\", \"o2.co.uk\", \"orange.net\", \"sky.com\", \"talktalk.co.uk\", \"tiscali.co.uk\",\n",
    "    \"virgin.net\", \"wanadoo.co.uk\", \"bt.com\",\n",
    "    \n",
    "    # Domains used in Asia */\n",
    "    \"sina.com\", \"sina.cn\", \"qq.com\", \"naver.com\", \"hanmail.net\", \"daum.net\", \"nate.com\", \"yahoo.co.jp\", \"yahoo.co.kr\", \"yahoo.co.id\", \"yahoo.co.in\", \"yahoo.com.sg\", \"yahoo.com.ph\", \"163.com\", \"yeah.net\", \"126.com\", \"21cn.com\", \"aliyun.com\", \"foxmail.com\",\n",
    "    \n",
    "    # French ISP domains */\n",
    "    \"hotmail.fr\", \"live.fr\", \"laposte.net\", \"yahoo.fr\", \"wanadoo.fr\", \"orange.fr\", \"gmx.fr\", \"sfr.fr\", \"neuf.fr\", \"free.fr\",\n",
    "    \n",
    "    # German ISP domains */\n",
    "    \"gmx.de\", \"hotmail.de\", \"live.de\", \"online.de\", \"t-online.de\" , \"web.de\", \"yahoo.de\",\n",
    "    \n",
    "    # Italian ISP domains */\n",
    "    \"libero.it\", \"virgilio.it\", \"hotmail.it\", \"aol.it\", \"tiscali.it\", \"alice.it\", \"live.it\", \"yahoo.it\", \"email.it\", \"tin.it\", \"poste.it\", \"teletu.it\",\n",
    "    \n",
    "    # Russian ISP domains */\n",
    "    \"mail.ru\", \"rambler.ru\", \"yandex.ru\", \"ya.ru\", \"list.ru\",\n",
    "    \n",
    "    # Belgian ISP domains */\n",
    "    \"hotmail.be\", \"live.be\", \"skynet.be\", \"voo.be\", \"tvcablenet.be\", \"telenet.be\",\n",
    "    \n",
    "    # Argentinian ISP domains */\n",
    "    \"hotmail.com.ar\", \"live.com.ar\", \"yahoo.com.ar\", \"fibertel.com.ar\", \"speedy.com.ar\", \"arnet.com.ar\",\n",
    "    \n",
    "    # Domains used in Mexico */\n",
    "    \"yahoo.com.mx\", \"live.com.mx\", \"hotmail.es\", \"hotmail.com.mx\", \"prodigy.net.mx\",\n",
    "    \n",
    "    # Domains used in Brazil */\n",
    "    \"yahoo.com.br\", \"hotmail.com.br\", \"outlook.com.br\", \"uol.com.br\", \"bol.com.br\", \"terra.com.br\", \"ig.com.br\", \"itelefonica.com.br\", \"r7.com\", \"zipmail.com.br\", \"globo.com\", \"globomail.com\", \"oi.com.br\"\n",
    "    ]\n",
    "    \n",
    "    if \"public_mail\" not in df.columns:\n",
    "        df[\"public_mail\"]=0\n",
    "    \n",
    "    for i in range(len(df)):\n",
    "        match = re.search(r'@[\\w\\.-]+', df[\"email\"][i])\n",
    "        match.group(0)\n",
    "        \n",
    "        if match.group(0)[1:] in domains:\n",
    "            df[\"public_mail\"][i]=1\n",
    "        else:\n",
    "            df[\"public_mail\"][i]=0"
   ]
  },
  {
   "cell_type": "code",
   "execution_count": 9,
   "metadata": {},
   "outputs": [],
   "source": [
    "def frequency(df):\n",
    "    if \"frequency\" not in df.columns:\n",
    "        df[\"frequency\"]=0\n",
    "        \n",
    "    for i in range(1,len(df)+1):\n",
    "        df[\"frequency\"][i-1]=len(df[(df.transaction_id>i-5)&(df.transaction_id<i) & (df.email==df.iloc[i-1,1])]) "
   ]
  },
  {
   "cell_type": "code",
   "execution_count": 10,
   "metadata": {},
   "outputs": [],
   "source": [
    "def PrepareData(df):\n",
    "    CountFraud(df)\n",
    "    CountOrder(df)\n",
    "    FraudRate(df)\n",
    "    FirstTimer(df)\n",
    "    MailQuality(df)\n",
    "    frequency(df)\n",
    "    df=df[['transaction_id', 'email', 'count_fraud', 'fraud_rate',\n",
    "       'order_count', 'first_time', 'public_mail', 'frequency','is_fraud']]\n",
    "    return(df)"
   ]
  },
  {
   "cell_type": "code",
   "execution_count": 11,
   "metadata": {},
   "outputs": [],
   "source": [
    "frequency(df)"
   ]
  },
  {
   "cell_type": "code",
   "execution_count": 12,
   "metadata": {},
   "outputs": [],
   "source": [
    "df=PrepareData(df)"
   ]
  },
  {
   "cell_type": "code",
   "execution_count": 13,
   "metadata": {},
   "outputs": [
    {
     "data": {
      "text/html": [
       "<div>\n",
       "<style scoped>\n",
       "    .dataframe tbody tr th:only-of-type {\n",
       "        vertical-align: middle;\n",
       "    }\n",
       "\n",
       "    .dataframe tbody tr th {\n",
       "        vertical-align: top;\n",
       "    }\n",
       "\n",
       "    .dataframe thead th {\n",
       "        text-align: right;\n",
       "    }\n",
       "</style>\n",
       "<table border=\"1\" class=\"dataframe\">\n",
       "  <thead>\n",
       "    <tr style=\"text-align: right;\">\n",
       "      <th></th>\n",
       "      <th>transaction_id</th>\n",
       "      <th>email</th>\n",
       "      <th>count_fraud</th>\n",
       "      <th>fraud_rate</th>\n",
       "      <th>order_count</th>\n",
       "      <th>first_time</th>\n",
       "      <th>public_mail</th>\n",
       "      <th>frequency</th>\n",
       "      <th>is_fraud</th>\n",
       "    </tr>\n",
       "  </thead>\n",
       "  <tbody>\n",
       "    <tr>\n",
       "      <th>0</th>\n",
       "      <td>1</td>\n",
       "      <td>david@gmail.com</td>\n",
       "      <td>0</td>\n",
       "      <td>0.000000</td>\n",
       "      <td>0</td>\n",
       "      <td>1</td>\n",
       "      <td>1</td>\n",
       "      <td>0</td>\n",
       "      <td>0</td>\n",
       "    </tr>\n",
       "    <tr>\n",
       "      <th>1</th>\n",
       "      <td>2</td>\n",
       "      <td>david@gmail.com</td>\n",
       "      <td>0</td>\n",
       "      <td>0.000000</td>\n",
       "      <td>1</td>\n",
       "      <td>0</td>\n",
       "      <td>1</td>\n",
       "      <td>1</td>\n",
       "      <td>0</td>\n",
       "    </tr>\n",
       "    <tr>\n",
       "      <th>2</th>\n",
       "      <td>3</td>\n",
       "      <td>ryan@hotmail.com</td>\n",
       "      <td>0</td>\n",
       "      <td>0.000000</td>\n",
       "      <td>0</td>\n",
       "      <td>1</td>\n",
       "      <td>1</td>\n",
       "      <td>0</td>\n",
       "      <td>1</td>\n",
       "    </tr>\n",
       "    <tr>\n",
       "      <th>3</th>\n",
       "      <td>4</td>\n",
       "      <td>andy@yahoo.com</td>\n",
       "      <td>0</td>\n",
       "      <td>0.000000</td>\n",
       "      <td>0</td>\n",
       "      <td>1</td>\n",
       "      <td>1</td>\n",
       "      <td>0</td>\n",
       "      <td>1</td>\n",
       "    </tr>\n",
       "    <tr>\n",
       "      <th>4</th>\n",
       "      <td>5</td>\n",
       "      <td>peter@gmail.com</td>\n",
       "      <td>0</td>\n",
       "      <td>0.000000</td>\n",
       "      <td>0</td>\n",
       "      <td>1</td>\n",
       "      <td>1</td>\n",
       "      <td>0</td>\n",
       "      <td>1</td>\n",
       "    </tr>\n",
       "    <tr>\n",
       "      <th>5</th>\n",
       "      <td>6</td>\n",
       "      <td>andy@yahoo.com</td>\n",
       "      <td>1</td>\n",
       "      <td>1.000000</td>\n",
       "      <td>1</td>\n",
       "      <td>0</td>\n",
       "      <td>1</td>\n",
       "      <td>1</td>\n",
       "      <td>0</td>\n",
       "    </tr>\n",
       "    <tr>\n",
       "      <th>6</th>\n",
       "      <td>7</td>\n",
       "      <td>andy@yahoo.com</td>\n",
       "      <td>1</td>\n",
       "      <td>0.500000</td>\n",
       "      <td>2</td>\n",
       "      <td>0</td>\n",
       "      <td>1</td>\n",
       "      <td>2</td>\n",
       "      <td>1</td>\n",
       "    </tr>\n",
       "    <tr>\n",
       "      <th>7</th>\n",
       "      <td>8</td>\n",
       "      <td>ryan@hotmail.com</td>\n",
       "      <td>1</td>\n",
       "      <td>1.000000</td>\n",
       "      <td>1</td>\n",
       "      <td>0</td>\n",
       "      <td>1</td>\n",
       "      <td>0</td>\n",
       "      <td>0</td>\n",
       "    </tr>\n",
       "    <tr>\n",
       "      <th>8</th>\n",
       "      <td>9</td>\n",
       "      <td>teddy@iyzico.com</td>\n",
       "      <td>0</td>\n",
       "      <td>0.000000</td>\n",
       "      <td>0</td>\n",
       "      <td>1</td>\n",
       "      <td>0</td>\n",
       "      <td>0</td>\n",
       "      <td>1</td>\n",
       "    </tr>\n",
       "    <tr>\n",
       "      <th>9</th>\n",
       "      <td>10</td>\n",
       "      <td>ryan@hotmail.com</td>\n",
       "      <td>1</td>\n",
       "      <td>0.500000</td>\n",
       "      <td>2</td>\n",
       "      <td>0</td>\n",
       "      <td>1</td>\n",
       "      <td>1</td>\n",
       "      <td>1</td>\n",
       "    </tr>\n",
       "    <tr>\n",
       "      <th>10</th>\n",
       "      <td>11</td>\n",
       "      <td>peter@gmail.com</td>\n",
       "      <td>1</td>\n",
       "      <td>1.000000</td>\n",
       "      <td>1</td>\n",
       "      <td>0</td>\n",
       "      <td>1</td>\n",
       "      <td>0</td>\n",
       "      <td>1</td>\n",
       "    </tr>\n",
       "    <tr>\n",
       "      <th>11</th>\n",
       "      <td>12</td>\n",
       "      <td>david@gmail.com</td>\n",
       "      <td>0</td>\n",
       "      <td>0.000000</td>\n",
       "      <td>2</td>\n",
       "      <td>0</td>\n",
       "      <td>1</td>\n",
       "      <td>0</td>\n",
       "      <td>0</td>\n",
       "    </tr>\n",
       "    <tr>\n",
       "      <th>12</th>\n",
       "      <td>13</td>\n",
       "      <td>eric@stanford.edu.tr</td>\n",
       "      <td>0</td>\n",
       "      <td>0.000000</td>\n",
       "      <td>0</td>\n",
       "      <td>1</td>\n",
       "      <td>0</td>\n",
       "      <td>0</td>\n",
       "      <td>0</td>\n",
       "    </tr>\n",
       "    <tr>\n",
       "      <th>13</th>\n",
       "      <td>14</td>\n",
       "      <td>ryan@hotmail.com</td>\n",
       "      <td>2</td>\n",
       "      <td>0.666667</td>\n",
       "      <td>3</td>\n",
       "      <td>0</td>\n",
       "      <td>1</td>\n",
       "      <td>1</td>\n",
       "      <td>1</td>\n",
       "    </tr>\n",
       "  </tbody>\n",
       "</table>\n",
       "</div>"
      ],
      "text/plain": [
       "    transaction_id                 email  count_fraud  fraud_rate  \\\n",
       "0                1       david@gmail.com            0    0.000000   \n",
       "1                2       david@gmail.com            0    0.000000   \n",
       "2                3      ryan@hotmail.com            0    0.000000   \n",
       "3                4        andy@yahoo.com            0    0.000000   \n",
       "4                5       peter@gmail.com            0    0.000000   \n",
       "5                6        andy@yahoo.com            1    1.000000   \n",
       "6                7        andy@yahoo.com            1    0.500000   \n",
       "7                8      ryan@hotmail.com            1    1.000000   \n",
       "8                9      teddy@iyzico.com            0    0.000000   \n",
       "9               10      ryan@hotmail.com            1    0.500000   \n",
       "10              11       peter@gmail.com            1    1.000000   \n",
       "11              12       david@gmail.com            0    0.000000   \n",
       "12              13  eric@stanford.edu.tr            0    0.000000   \n",
       "13              14      ryan@hotmail.com            2    0.666667   \n",
       "\n",
       "    order_count  first_time  public_mail  frequency  is_fraud  \n",
       "0             0           1            1          0         0  \n",
       "1             1           0            1          1         0  \n",
       "2             0           1            1          0         1  \n",
       "3             0           1            1          0         1  \n",
       "4             0           1            1          0         1  \n",
       "5             1           0            1          1         0  \n",
       "6             2           0            1          2         1  \n",
       "7             1           0            1          0         0  \n",
       "8             0           1            0          0         1  \n",
       "9             2           0            1          1         1  \n",
       "10            1           0            1          0         1  \n",
       "11            2           0            1          0         0  \n",
       "12            0           1            0          0         0  \n",
       "13            3           0            1          1         1  "
      ]
     },
     "execution_count": 13,
     "metadata": {},
     "output_type": "execute_result"
    }
   ],
   "source": [
    "df"
   ]
  },
  {
   "cell_type": "markdown",
   "metadata": {},
   "source": [
    "## Soru 3: Sınıflandırma"
   ]
  },
  {
   "cell_type": "code",
   "execution_count": 15,
   "metadata": {},
   "outputs": [],
   "source": [
    "from sklearn.metrics import accuracy_score, classification_report, confusion_matrix\n",
    "from sklearn.tree import DecisionTreeClassifier\n",
    "from sklearn.model_selection import train_test_split\n",
    "import matplotlib.pyplot as plt\n",
    "#import seaborn as sns\n",
    "from sklearn.model_selection import train_test_split # Split data as test and train test size=0.3"
   ]
  },
  {
   "cell_type": "code",
   "execution_count": 16,
   "metadata": {},
   "outputs": [],
   "source": [
    "mldf=df.iloc[:,2:]"
   ]
  },
  {
   "cell_type": "code",
   "execution_count": null,
   "metadata": {},
   "outputs": [],
   "source": [
    "sns_plot=sns.countplot(x='is_fraud', data=mldf).get_figure()\n",
    "#Balaced enough"
   ]
  },
  {
   "cell_type": "code",
   "execution_count": null,
   "metadata": {},
   "outputs": [],
   "source": [
    "corr = mldf.corr()\n",
    "\n",
    "f,ax = plt.subplots(figsize=(9,6))\n",
    "sns.heatmap(corr, annot = True, linewidths=1.5 , fmt = '.2f',ax=ax)\n",
    "plt.show()"
   ]
  },
  {
   "cell_type": "code",
   "execution_count": 17,
   "metadata": {},
   "outputs": [],
   "source": [
    "# drop order_count to stay away from multicolinarity\n",
    "mldf.drop(columns=['order_count'],inplace=True)"
   ]
  },
  {
   "cell_type": "markdown",
   "metadata": {},
   "source": [
    "###### Veriyi ilk denemede test ve train olarak ayırdım ancak veri setinin küçüklüğü anlamsız sonuçlar bulmamıza sebep oldu."
   ]
  },
  {
   "cell_type": "code",
   "execution_count": 18,
   "metadata": {},
   "outputs": [
    {
     "name": "stdout",
     "output_type": "stream",
     "text": [
      "[[1 2]\n",
      " [1 3]]\n",
      "              precision    recall  f1-score   support\n",
      "\n",
      "           0       0.50      0.33      0.40         3\n",
      "           1       0.60      0.75      0.67         4\n",
      "\n",
      "    accuracy                           0.57         7\n",
      "   macro avg       0.55      0.54      0.53         7\n",
      "weighted avg       0.56      0.57      0.55         7\n",
      "\n",
      "0.5714285714285714\n"
     ]
    }
   ],
   "source": [
    "X_train, X_test, y_train, y_test = train_test_split(mldf.drop('is_fraud',axis=1), mldf['is_fraud'], test_size=0.50, random_state=101)\n",
    "\n",
    "dtc = DecisionTreeClassifier()\n",
    "dtc.fit(X_train, y_train)\n",
    "pred_rfc = dtc.predict(X_test)\n",
    "print(confusion_matrix(y_test, pred_rfc))\n",
    "print(classification_report(y_test, pred_rfc))\n",
    "print(accuracy_score(y_test, pred_rfc))"
   ]
  },
  {
   "cell_type": "markdown",
   "metadata": {},
   "source": [
    "###### İkinci denemede verinin tamamını hem eğitmek hemde test etmek için kullandım. Normal şartlarda bu tarz bir test için geçerli diyemeyiz ancak en azından test skorlarını görebildim. "
   ]
  },
  {
   "cell_type": "code",
   "execution_count": 19,
   "metadata": {},
   "outputs": [],
   "source": [
    "y=['is_fraud']\n",
    "X=[i for i in mldf if i not in y]\n",
    "y=mldf[y]\n",
    "X=mldf[X]"
   ]
  },
  {
   "cell_type": "code",
   "execution_count": 20,
   "metadata": {},
   "outputs": [
    {
     "name": "stdout",
     "output_type": "stream",
     "text": [
      "[[5 1]\n",
      " [2 6]]\n",
      "              precision    recall  f1-score   support\n",
      "\n",
      "           0       0.71      0.83      0.77         6\n",
      "           1       0.86      0.75      0.80         8\n",
      "\n",
      "    accuracy                           0.79        14\n",
      "   macro avg       0.79      0.79      0.78        14\n",
      "weighted avg       0.80      0.79      0.79        14\n",
      "\n",
      "0.7857142857142857\n"
     ]
    }
   ],
   "source": [
    "dtc = DecisionTreeClassifier()\n",
    "dtc.fit(X, y)\n",
    "pred_rfc = dtc.predict(X) \n",
    "print(confusion_matrix(y, pred_rfc))\n",
    "print(classification_report(y, pred_rfc))\n",
    "print(accuracy_score(y, pred_rfc))"
   ]
  },
  {
   "cell_type": "code",
   "execution_count": 22,
   "metadata": {},
   "outputs": [
    {
     "data": {
      "text/plain": [
       "array([1, 0, 1, 1, 1, 0, 1, 0, 0, 1, 0, 0, 0, 1], dtype=int64)"
      ]
     },
     "execution_count": 22,
     "metadata": {},
     "output_type": "execute_result"
    }
   ],
   "source": [
    "dtc.predict(X) "
   ]
  },
  {
   "cell_type": "code",
   "execution_count": 21,
   "metadata": {},
   "outputs": [
    {
     "data": {
      "image/png": "[encoded data removed]",
      "text/plain": [
       "<Figure size 432x288 with 1 Axes>"
      ]
     },
     "metadata": {
      "needs_background": "light"
     },
     "output_type": "display_data"
    }
   ],
   "source": [
    "from sklearn.metrics import roc_auc_score\n",
    "from sklearn.metrics import roc_curve\n",
    "logit_roc_auc = roc_auc_score(y, dtc.predict(X))\n",
    "fpr, tpr, thresholds = roc_curve(y, dtc.predict_proba(X)[:,1])\n",
    "plt.figure()\n",
    "plt.plot(fpr, tpr, label='Decision Tree (area = %0.2f)' % logit_roc_auc)\n",
    "plt.plot([0, 1], [0, 1],'r--')\n",
    "plt.xlim([0.0, 1.0])\n",
    "plt.ylim([0.0, 1.0])\n",
    "plt.xlabel('False Positive Rate')\n",
    "plt.ylabel('True Positive Rate')\n",
    "plt.title('Receiver operating characteristic')\n",
    "plt.legend(loc=\"lower right\")\n",
    "plt.savefig('Log_ROC')\n",
    "plt.show()"
   ]
  },
  {
   "cell_type": "code",
   "execution_count": 27,
   "metadata": {},
   "outputs": [],
   "source": [
    "fpr, tpr, thresholds = roc_curve(y, dtc.predict_proba(X)[:,1])"
   ]
  },
  {
   "cell_type": "code",
   "execution_count": 28,
   "metadata": {},
   "outputs": [
    {
     "data": {
      "text/plain": [
       "array([0.        , 0.        , 0.16666667, 0.5       , 1.        ])"
      ]
     },
     "execution_count": 28,
     "metadata": {},
     "output_type": "execute_result"
    }
   ],
   "source": [
    "fpr"
   ]
  },
  {
   "cell_type": "code",
   "execution_count": 29,
   "metadata": {},
   "outputs": [
    {
     "data": {
      "text/plain": [
       "array([2.  , 1.  , 0.75, 0.5 , 0.  ])"
      ]
     },
     "execution_count": 29,
     "metadata": {},
     "output_type": "execute_result"
    }
   ],
   "source": [
    "thresholds"
   ]
  },
  {
   "cell_type": "markdown",
   "metadata": {},
   "source": [
    "## Soru 4: Yazılı Anlatım"
   ]
  },
  {
   "cell_type": "markdown",
   "metadata": {},
   "source": [
    "Yüksek lisans programı kapsamında aldığım Big Data dersinde yaptığım, 1.6 TB'lık veri ile çalıştığım proje bugüne kadar en zorlandığım projeydi.Projenin zorlayıcı olmasının ana sebebi projeyi tamamlamak için ihtiyacım olan bir çok teknik yeterliliğin daha önce tecrübe etmediğim alanlarda oluşuydu. \n",
    "\n",
    "Projeyi tamamlamak için adımlar;\n",
    "    \n",
    "1. Microsoft Azure üzerinde bulunan 1.6 TB'lik datanın S3 Bucketlara taşınması\n",
    "2. Bu veriyi işleyebileceğim parallel computing clusterlarının ayağa kaldırılması\n",
    "3. S3 Bucket ile clusterların birbirine bağlanması \n",
    "4. Pyspark ile verimliliği yüksek bir kod yazılması\n",
    "\n",
    "Bu maddelerin sırası ile benim için neden zor oldukları;\n",
    "\n",
    "1. Veri toplam 24 parça halinde bulunuyordu. S3 Bucketa veriyi çektikten sonra açmak mümkün olmadığı için önce yüksek kapasiteli bir EC2 açıp terminal üzerinden her parçayı indirip açıp sonrasın S3'ye yüklemem gerekti.\n",
    "2. EMR clusterları oldukça maliyetli ürünler oldukları için yerel makinamda pseudo cluster Hadoop ve Spark kurmam gerekti. Böylece verinin küçük bir kısmı ile kodumu hazırlayıp sonrasında gerçek EMR clusterlar üzerinde çalıştırabilecektim. Ancak yerel makina üzerine bu programları kurmak için ciddi seviyede bash scripting yapmam gerekti.\n",
    "3. Normal şartlarda S3 bucketları bir makineye bağlamak istediğinizde IAM role adında bir yetki ile ilerlemeniz gerekiyordu. Ancak kullandığımız hesabın en üst seviye adminleri yüksek lisansa sponsor olan şirketin verilerinede ulaşabileceğimiz için bu rolü bizlere tanımlayamıyorlardı. Sonuç olarak S3 Bucketlar'ı tamamen public yaparak bir link üzerinden bağlandım. Ancak bu çözümü bulmak zaman aldı.\n",
    "4. Alışık olduğum Python dilinde bulunmayan RDD ve Dataframe formatları ile çalışmam gerekti. Buna ek olarak Pyspark üzerinde kodlama yaparken alışık olduğum high level python dilinden farklı olarak clusterların yönetiminide sizin yapmanız gerekiyor. Parralelization, mapreduce, broadcasting gibi performans odaklı fonksiyonlar ile çalışmam gerekti.\n",
    "\n",
    "Bu projede oldukça tecrübesiz olduğum altyapı problemleri olduğu için problemleri çözmeden önce tanımlamam gerekti. Bu kısımda daha çok hocalara danışıp aynı problemleri yaşayan sınıf arkadaşlarım ile konuştum. Ardından ilk 3 problemi Google üzerinde çok sayıda arama yaparak çözdüm. Özellikle konu derinleştikçe çözüm sunan tek kaynak stackoverflow.com ve dökümanlar oldu. 4. problem ise diğerleri gibi tek problemi çözmekten öte bütün konsepte hakim olmayı gerektiren bir problemdi. Bu sebep ile pluralsight.com üzerinden aldığım bir ders ile bilgi birikimimi arttırarak bu problemi çözdüm. "
   ]
  },
  {
   "cell_type": "code",
   "execution_count": null,
   "metadata": {},
   "outputs": [],
   "source": []
  }
 ],
 "metadata": {
  "kernelspec": {
   "display_name": "Python 3",
   "language": "python",
   "name": "python3"
  },
  "language_info": {
   "codemirror_mode": {
    "name": "ipython",
    "version": 3
   },
   "file_extension": ".py",
   "mimetype": "text/x-python",
   "name": "python",
   "nbconvert_exporter": "python",
   "pygments_lexer": "ipython3",
   "version": "3.6.8"
  }
 },
 "nbformat": 4,
 "nbformat_minor": 2
}
