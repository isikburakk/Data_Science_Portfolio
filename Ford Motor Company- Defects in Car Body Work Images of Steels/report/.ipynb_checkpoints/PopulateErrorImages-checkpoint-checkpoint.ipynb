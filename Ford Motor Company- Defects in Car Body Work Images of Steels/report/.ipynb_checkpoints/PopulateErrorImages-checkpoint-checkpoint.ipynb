{
 "cells": [
  {
   "cell_type": "markdown",
   "metadata": {
    "collapsed": true
   },
   "source": [
    "# Reads Files and Populates Error Images\n",
    "1) Loop to read files in folder one by one\n",
    "\n",
    "2) Open image file and its filter file\n",
    "\n",
    "3) Group failuremodes by color codes in filter, Red: Pimple, Green: Dent, Blue: Scrach\n",
    "\n",
    "4) Find the center location of each color group and create square images based on that center and save image "
   ]
  },
  {
   "cell_type": "code",
   "execution_count": 5,
   "metadata": {},
   "outputs": [
    {
     "name": "stdout",
     "output_type": "stream",
     "text": [
      "Requirement already satisfied: opencv-python in c:\\programdata\\anaconda3\\lib\\site-packages (4.1.0.25)\n",
      "Requirement already satisfied: numpy>=1.11.3 in c:\\programdata\\anaconda3\\lib\\site-packages (from opencv-python) (1.15.4)\n",
      "Requirement already satisfied: xlsxwriter in c:\\programdata\\anaconda3\\lib\\site-packages (1.1.2)\n"
     ]
    }
   ],
   "source": [
    "!pip install opencv-python\n",
    "!pip install xlsxwriter "
   ]
  },
  {
   "cell_type": "code",
   "execution_count": 6,
   "metadata": {},
   "outputs": [],
   "source": [
    "import numpy as np\n",
    "import cv2\n",
    "import os\n",
    "import matplotlib.pyplot as plt\n",
    "import xlsxwriter \n",
    "import time as tm\n",
    "#e1 = cv2.getTickCount() # To count time\n",
    "from tqdm import tqdm\n",
    "\n"
   ]
  },
  {
   "cell_type": "code",
   "execution_count": 11,
   "metadata": {},
   "outputs": [],
   "source": [
    "Temptale = cv2.imread(\"./ColorTemplate.tif\",1)\n",
    "Rwi,Cli,Colori =  Temptale.shape\n",
    "#for i  in range(Rwi):\n",
    "#    for j  in range(Cli):\n",
    "#        print Temptale[i,j]"
   ]
  },
  {
   "cell_type": "code",
   "execution_count": 12,
   "metadata": {},
   "outputs": [],
   "source": [
    "#Definitions\n",
    "Images_Directory = \"./Images/\"\n",
    "Filters_Directory = \"./Filters/\"\n",
    "Marked_Directory = \"./Marked/\"\n",
    "Directory_P = \"./Pimples/\"\n",
    "Directory_D = \"./Dents/\"\n",
    "Directory_S = \"./Scratch/\"\n",
    "\n",
    "\n",
    "# Below color codes are based on RGB\n",
    "PimpleColor = [237,28,36] # Red\n",
    "DentColor = [34,177,76] # Green\n",
    "ScratchColor = [0,162,232] #Ligth Blue\n",
    "\n",
    "SizeFilter = 20\n",
    "FilterError = 10\n",
    "\n",
    "PopulationSize=50\n",
    "# OpenCV follows BGR order, while matplotlib likely follows RGB order.\n"
   ]
  },
  {
   "cell_type": "code",
   "execution_count": 20,
   "metadata": {},
   "outputs": [
    {
     "name": "stdout",
     "output_type": "stream",
     "text": [
      "Image Size: 3000 4096\n"
     ]
    },
    {
     "name": "stderr",
     "output_type": "stream",
     "text": [
      "100%|██████████| 3000/3000 [00:17<00:00, 170.16it/s]\n"
     ]
    },
    {
     "name": "stdout",
     "output_type": "stream",
     "text": [
      "Total Found: 27\n"
     ]
    }
   ],
   "source": [
    "#workbook = xlsxwriter.Workbook('./hello.xlsx')\n",
    "#worksheet = workbook.add_worksheet() \n",
    "\n",
    "for filename in os.listdir(Images_Directory):\n",
    "    if filename.endswith(\".tiff\"):\n",
    "        BaseName = filename[0:-5]\n",
    "        img_bw = cv2.imread(Images_Directory+filename,0) #read in greyscale\n",
    "        filt1 = cv2.imread(Filters_Directory+BaseName+\".tiff\",1) #read in color\n",
    "        # OpenCV follows BGR order, while matplotlib likely follows RGB order.\n",
    "        b1,g1,r1 = cv2.split(filt1)\n",
    "        filt1_rgb = cv2.merge([r1,g1,b1])\n",
    "        Rw,Cl,Not =  filt1.shape\n",
    "        #plt.imshow(filt1_rgb)\n",
    "        print (\"Image Size: \" + str(Rw) + \" \" + str (Cl))\n",
    "        tm.sleep(1)\n",
    "        Pimple=1\n",
    "        Dent=1\n",
    "        Scrtch=1\n",
    "        Unknown = 1\n",
    "        Total = 0\n",
    "        Prev_Pimple = [0,0]\n",
    "        Prev_Dent = [0,0]\n",
    "        Prev_Scrtch = [0,0]\n",
    "        Prev_Unknown = [0,0]\n",
    "        FaultLocations = []\n",
    "        FaultLocations_Pimple = []\n",
    "        FaultLocations_Scrtch = []\n",
    "        FaultLocations_Dent = []\n",
    "        \n",
    "       \n",
    "        \n",
    "        #FindCenterPoints\n",
    "        for i  in tqdm(range(Rw)):\n",
    "            for j  in range(Cl):\n",
    "                b,g,r = filt1[i,j]\n",
    "                #worksheet.write(i, j, str([r,g,b])) \n",
    "                if not (b==g and b==r):\n",
    "                    if Total>0:\n",
    "                        Diff=np.sum(np.square(np.array(FaultLocations)-np.array([i,j])),1)\n",
    "                        Diff_Bool = np.size(Diff[Diff<SizeFilter**2])\n",
    "                    else:\n",
    "                        Diff_Bool = False\n",
    "                    if np.sum(np.square(np.array([r,g,b])-np.array(PimpleColor)))<FilterError**2 and not Diff_Bool:\n",
    "                       #print \"Found Pimple \" + str(Pimple) + \" -- \"+ str(i) + \",\" + str (j) \n",
    "                        Prev_Pimple = [i,j]\n",
    "                        FaultLocations_Pimple.append([i,j])\n",
    "                        FaultLocations.append([i,j])\n",
    "                        Pimple+=1\n",
    "                        Total+=1\n",
    "                    elif np.sum(np.square(np.array([r,g,b])-np.array(DentColor)))<FilterError**2 and not Diff_Bool:\n",
    "                        #print \"Found Dent \" + str(Dent)+ \" -- \"+ str(i) + \",\" + str (j)\n",
    "                        Prev_Dent = [i,j]\n",
    "                        FaultLocations_Dent.append([i,j])\n",
    "                        FaultLocations.append([i,j])\n",
    "                        Dent +=1\n",
    "                        Total+=1\n",
    "                    elif np.sum(np.square(np.array([r,g,b])-np.array(ScratchColor)))<FilterError**2 and not Diff_Bool:\n",
    "                        #print \"Found Scratch \" + str(Scrtch)+ \" -- \"+ str(i) + \",\" + str (j)\n",
    "                        Prev_Scrtch = [i,j]\n",
    "                        FaultLocations_Scrtch.append([i,j])\n",
    "                        FaultLocations.append([i,j])\n",
    "                        Scrtch+=1\n",
    "                        Total+=1\n",
    "                    #elif ((i-Prev_Unknown[0])**2+(j-Prev_Unknown[1])**2)>SizeFilter**2:\n",
    "                    #    print \"Found Unknown \" + str(Unknown)+ \" -- \"+ str(i) + \",\" + str (j)\n",
    "                    #    Prev_Unknown = [i,j]\n",
    "                    #    FaultLocations.append([i,j])  \n",
    "                    #    Unknown+=1\n",
    "                    #    Total+=1\n",
    "                    #    break \n",
    "        print (\"Total Found: \" + str(Total))\n",
    "\n",
    "        img_clr = cv2.imread(Images_Directory+filename,1) #read in greyscale\n",
    "        for k in range(len(FaultLocations_Pimple)):\n",
    "            cntr = FaultLocations_Pimple[k]\n",
    "            cv2.rectangle(img_clr,(cntr[1]-PopulationSize,cntr[0]+PopulationSize),(cntr[1]+PopulationSize,cntr[0]-PopulationSize),(PimpleColor[2], PimpleColor[1],PimpleColor[0]),3)\n",
    "            cutfig = img_bw[cntr[0]-PopulationSize:cntr[0]+PopulationSize,cntr[1]-PopulationSize:cntr[1]+PopulationSize].copy()\n",
    "            cv2.imwrite(Directory_P+BaseName+\"_\"+str(k)+\".tiff\",cutfig)\n",
    "        for k in range(len(FaultLocations_Dent)):\n",
    "            cntr = FaultLocations_Dent[k]\n",
    "            cv2.rectangle(img_clr,(top[1]-PopulationSize,cntr[0]+PopulationSize),(cntr[1]+PopulationSize,cntr[0]-PopulationSize),(DentColor[2], DentColor[1],DentColor[0]),3)\n",
    "            cutfig = img_bw[cntr[0]-PopulationSize:cntr[0]+PopulationSize,cntr[1]-PopulationSize:cntr[1]+PopulationSize].copy()\n",
    "            cv2.imwrite(Directory_D+BaseName+\"_\"+str(k)+\".tiff\",cutfig)\n",
    "        for k in range(len(FaultLocations_Scrtch)):\n",
    "            cntr = FaultLocations_Scrtch[k]\n",
    "            cv2.rectangle(img_clr,(top[1]-PopulationSize,cntr[0]+PopulationSize),(cntr[1]+PopulationSize,cntr[0]-PopulationSize),(ScratchColor[2], ScratchColor[1],ScratchColor[0]),3)\n",
    "            cutfig = img_bw[cntr[0]-PopulationSize:cntr[0]+PopulationSize,cntr[1]-PopulationSize:cntr[1]+PopulationSize].copy()\n",
    "            cv2.imwrite(Directory_S+BaseName+\"_\"+str(k)+\".tiff\",cutfig)\n",
    "        cv2.imwrite(Marked_Directory+BaseName+\"_marked.tiff\",img_clr)\n",
    "    continue\n",
    "#workbook.close() "
   ]
  },
  {
   "cell_type": "code",
   "execution_count": 8,
   "metadata": {
    "scrolled": true
   },
   "outputs": [
    {
     "name": "stdout",
     "output_type": "stream",
     "text": [
      "27\n"
     ]
    },
    {
     "data": {
      "text/plain": [
       "<matplotlib.image.AxesImage at 0x86ba908>"
      ]
     },
     "execution_count": 8,
     "metadata": {},
     "output_type": "execute_result"
    },
    {
     "data": {
      "image/png": "[encoded data removed]",
      "text/plain": [
       "<Figure size 432x288 with 1 Axes>"
      ]
     },
     "metadata": {
      "needs_background": "light"
     },
     "output_type": "display_data"
    }
   ],
   "source": [
    "plt.imshow(img_clr)\n"
   ]
  },
  {
   "cell_type": "code",
   "execution_count": null,
   "metadata": {},
   "outputs": [],
   "source": []
  },
  {
   "cell_type": "code",
   "execution_count": null,
   "metadata": {},
   "outputs": [],
   "source": []
  },
  {
   "cell_type": "code",
   "execution_count": null,
   "metadata": {},
   "outputs": [],
   "source": []
  }
 ],
 "metadata": {
  "kernelspec": {
   "display_name": "Python 3",
   "language": "python",
   "name": "python3"
  },
  "language_info": {
   "codemirror_mode": {
    "name": "ipython",
    "version": 3
   },
   "file_extension": ".py",
   "mimetype": "text/x-python",
   "name": "python",
   "nbconvert_exporter": "python",
   "pygments_lexer": "ipython3",
   "version": "3.6.8"
  }
 },
 "nbformat": 4,
 "nbformat_minor": 2
}
