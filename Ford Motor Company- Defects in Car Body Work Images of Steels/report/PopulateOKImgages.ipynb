{
 "cells": [
  {
   "cell_type": "code",
   "execution_count": null,
   "metadata": {},
   "outputs": [],
   "source": [
    "!pip install opencv-python\n",
    "!pip install xlsxwriter "
   ]
  },
  {
   "cell_type": "code",
   "execution_count": null,
   "metadata": {},
   "outputs": [],
   "source": [
    "import numpy as np\n",
    "import cv2\n",
    "import os\n",
    "import matplotlib.pyplot as plt\n",
    "import xlsxwriter \n",
    "import time as tm\n",
    "#e1 = cv2.getTickCount() # To count time\n",
    "from tqdm import tqdm\n",
    "\n"
   ]
  },
  {
   "cell_type": "code",
   "execution_count": null,
   "metadata": {},
   "outputs": [],
   "source": [
    "#Definitions\n",
    "Images_Directory = \"./Images/\"\n",
    "Filters_Directory = \"./Filters/\"\n",
    "Marked_Directory = \"./Marked/\"\n",
    "Directory_P = \"./Pimples/\"\n",
    "Directory_D = \"./Dents/\"\n",
    "Directory_S = \"./Scratch/\"\n",
    "\n",
    "\n",
    "# Below color codes are based on RGB\n",
    "PimpleColor = [237,28,36] # Red\n",
    "DentColor = [34,177,76] # Green\n",
    "ScratchColor = [0,162,232] #Ligth Blue\n",
    "\n",
    "SizeFilter = 20\n",
    "FilterError = 10\n",
    "\n",
    "PopulationSize=50\n",
    "# OpenCV follows BGR order, while matplotlib likely follows RGB order."
   ]
  },
  {
   "cell_type": "code",
   "execution_count": null,
   "metadata": {},
   "outputs": [],
   "source": [
    "#workbook = xlsxwriter.Workbook('./hello.xlsx')\n",
    "#worksheet = workbook.add_worksheet() \n",
    "\n",
    "for filename in os.listdir(Images_Directory):\n",
    "    if filename.endswith(\".tiff\"):\n",
    "        BaseName = filename[0:-5]\n",
    "        img_bw = cv2.imread(Images_Directory+filename,0) #read in greyscale\n",
    "        \n",
    "        \n",
    "        \n",
    "        print img_bw.shape\n",
    "        img = img_bw\n",
    "\n",
    "        blur = cv2.bilateralFilter(img,9,100,100) #Large filters (d > 5) are very slow\n",
    "        #Bilateral filter removes textures and makes it easier to filter\n",
    "        # by that way, we are not removing and detail over the part.\n",
    "\n",
    "        ret,thresh2 = cv2.threshold(blur,250,255,cv2.THRESH_TOZERO_INV)\n",
    "        ret, thresh4_bw = cv2.threshold(thresh2,5,250,cv2.THRESH_BINARY_INV)\n",
    "        #Otsu or other binary else tresholds did not work as good as expected.\n",
    "        #We are filtering BW colors  over 250\n",
    "        kernel = np.ones((5,5),np.uint8)\n",
    "        erosion = cv2.erode(thresh4_bw,kernel,iterations = 1)\n",
    "        img_dilated = cv2.dilate(erosion,kernel,iterations=3)\n",
    "        img_dilated_inv_marker = (255-img_dilated)\n",
    "        mask = img_dilated_inv_marker+2\n",
    "        mask[mask>1] = 0\n",
    "        ## Segmented image, masked pixels are 0\n",
    "        filtered_img = img*mask\n",
    "        \n",
    "        for j  in range(19):\n",
    "            for i  in range(15):\n",
    "                img2 = img1[(j)*150+75:(j+1)*150+75,(i)*256+128:(i+1)*256+128]           \n",
    "                mask_patch = img2.copy()\n",
    "                tmp1 = np.zeros((150, 256))\n",
    "                tmp2 = np.zeros((150, 256))\n",
    "                mean, std_dev = cv2.meanStdDev(img2, tmp1, tmp2, mask_patch)\n",
    "\n",
    "                if mean>8:\n",
    "                    print str(FileSuffix) +' .. ' + str(mean)\n",
    "                    cv2.imwrite(directory+basename+str(FileSuffix)+'.tiff',img2)                  \n",
    "                    FileSuffix=FileSuffix+1\n",
    "        \n",
    "        \n",
    "        \n",
    "    continue\n",
    "#workbook.close() "
   ]
  },
  {
   "cell_type": "code",
   "execution_count": null,
   "metadata": {},
   "outputs": [],
   "source": [
    "plt.imshow(img_clr)"
   ]
  }
 ],
 "metadata": {
  "kernelspec": {
   "display_name": "Python 2",
   "language": "python",
   "name": "python2"
  },
  "language_info": {
   "codemirror_mode": {
    "name": "ipython",
    "version": 2
   },
   "file_extension": ".py",
   "mimetype": "text/x-python",
   "name": "python",
   "nbconvert_exporter": "python",
   "pygments_lexer": "ipython2",
   "version": "2.7.16"
  }
 },
 "nbformat": 4,
 "nbformat_minor": 2
}
