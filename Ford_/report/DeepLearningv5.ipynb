{
 "cells": [
  {
   "cell_type": "markdown",
   "metadata": {},
   "source": [
    "#  1. Import Python libraries"
   ]
  },
  {
   "cell_type": "code",
   "execution_count": 1,
   "metadata": {},
   "outputs": [
    {
     "data": {
      "text/plain": [
       "'C:\\\\Users\\\\burak\\\\Desktop\\\\Burak\\\\itu\\\\3. Semester\\\\Project\\\\tahsin_fırıncı'"
      ]
     },
     "execution_count": 1,
     "metadata": {},
     "output_type": "execute_result"
    }
   ],
   "source": [
    "pwd\n"
   ]
  },
  {
   "cell_type": "code",
   "execution_count": 2,
   "metadata": {},
   "outputs": [],
   "source": [
    "import os\n",
    "import csv\n",
    "import matplotlib as mpl\n",
    "import matplotlib.pyplot as plt\n",
    "from IPython.display import display\n",
    "%matplotlib inline\n",
    "\n",
    "import pandas as pd\n",
    "import numpy as np\n",
    "\n",
    "from PIL import Image\n",
    "from random import shuffle\n",
    "\n",
    "from skimage.feature import hog\n",
    "from skimage.color import rgb2grey\n",
    "\n",
    "from sklearn.model_selection import train_test_split\n",
    "from sklearn.metrics import accuracy_score\n",
    "from sklearn.preprocessing import StandardScaler\n",
    "from sklearn.decomposition import PCA\n",
    "from sklearn.svm import SVC\n",
    "\n",
    "from sklearn.metrics import roc_curve, auc"
   ]
  },
  {
   "cell_type": "code",
   "execution_count": 3,
   "metadata": {},
   "outputs": [
    {
     "name": "stderr",
     "output_type": "stream",
     "text": [
      "Using TensorFlow backend.\n"
     ]
    }
   ],
   "source": [
    "import keras\n",
    "from keras.models import Sequential\n",
    "from keras.layers import Dense, Dropout, Flatten\n",
    "from keras.layers import Conv2D, MaxPooling2D\n",
    "from keras.layers. normalization import BatchNormalization\n",
    "import numpy as np "
   ]
  },
  {
   "cell_type": "markdown",
   "metadata": {},
   "source": [
    "# 2. Create csv file"
   ]
  },
  {
   "cell_type": "code",
   "execution_count": 4,
   "metadata": {},
   "outputs": [],
   "source": [
    "Ok_Images_Directory = r\"C:\\\\Users\\\\burak\\\\Desktop\\\\Burak\\\\itu\\\\3. Semester\\\\Project\\\\tahsin_fırıncı\\\\OK_data_set\\\\\"\n",
    "NOk_Dents_Images_Directory = r\"C:\\\\Users\\\\burak\\\\Desktop\\\\Burak\\\\itu\\\\3. Semester\\\\Project\\\\tahsin_fırıncı\\\\NOK_data_set\\\\\"\n",
    "\n",
    "#NOk_Pimples_Images_Directory = r\"C:/Users/admin/Desktop/data_set/Pimples_2/\"\n",
    "#NOk_Scratch_Images_Directory = r\"C:/Users/admin/Desktop/data_set/Scratch_3/\"\n",
    "#NOk_Dents_Images_Directory = r\"C:/Users/admin/Desktop/data_set/Dents_1/\"\n",
    "\n"
   ]
  },
  {
   "cell_type": "code",
   "execution_count": 5,
   "metadata": {
    "scrolled": true
   },
   "outputs": [
    {
     "data": {
      "text/plain": [
       "['part5_ok_cam1_deg0_102.tiff',\n",
       " 'part5_ok_cam1_deg0_103.tiff',\n",
       " 'part5_ok_cam1_deg0_106.tiff',\n",
       " 'part5_ok_cam1_deg0_107.tiff',\n",
       " 'part5_ok_cam1_deg0_108.tiff',\n",
       " 'part5_ok_cam1_deg0_109.tiff',\n",
       " 'part5_ok_cam1_deg0_110.tiff',\n",
       " 'part5_ok_cam1_deg0_134.tiff',\n",
       " 'part5_ok_cam1_deg0_135.tiff',\n",
       " 'part5_ok_cam1_deg0_136.tiff',\n",
       " 'part5_ok_cam1_deg0_137.tiff',\n",
       " 'part5_ok_cam1_deg0_138.tiff',\n",
       " 'part5_ok_cam1_deg0_139.tiff',\n",
       " 'part5_ok_cam1_deg0_140.tiff',\n",
       " 'part5_ok_cam1_deg0_141.tiff',\n",
       " 'part5_ok_cam1_deg0_142.tiff',\n",
       " 'part5_ok_cam1_deg0_143.tiff',\n",
       " 'part5_ok_cam1_deg0_144.tiff',\n",
       " 'part5_ok_cam1_deg0_145.tiff',\n",
       " 'part5_ok_cam1_deg0_146.tiff',\n",
       " 'part5_ok_cam1_deg0_147.tiff',\n",
       " 'part5_ok_cam1_deg0_148.tiff',\n",
       " 'part5_ok_cam1_deg0_149.tiff',\n",
       " 'part5_ok_cam1_deg0_150.tiff',\n",
       " 'part5_ok_cam1_deg0_151.tiff',\n",
       " 'part5_ok_cam1_deg0_152.tiff',\n",
       " 'part5_ok_cam1_deg0_153.tiff',\n",
       " 'part5_ok_cam1_deg0_154.tiff',\n",
       " 'part5_ok_cam1_deg0_160.tiff',\n",
       " 'part5_ok_cam1_deg0_164.tiff',\n",
       " 'part5_ok_cam1_deg0_165.tiff',\n",
       " 'part5_ok_cam1_deg0_166.tiff',\n",
       " 'part5_ok_cam1_deg0_167.tiff',\n",
       " 'part5_ok_cam1_deg0_191.tiff',\n",
       " 'part5_ok_cam1_deg0_192.tiff',\n",
       " 'part5_ok_cam1_deg0_193.tiff',\n",
       " 'part5_ok_cam1_deg0_194.tiff',\n",
       " 'part5_ok_cam1_deg0_195.tiff',\n",
       " 'part5_ok_cam1_deg0_196.tiff',\n",
       " 'part5_ok_cam1_deg0_197.tiff',\n",
       " 'part5_ok_cam1_deg0_198.tiff',\n",
       " 'part5_ok_cam1_deg0_199.tiff',\n",
       " 'part5_ok_cam1_deg0_200.tiff',\n",
       " 'part5_ok_cam1_deg0_201.tiff',\n",
       " 'part5_ok_cam1_deg0_202.tiff',\n",
       " 'part5_ok_cam1_deg0_203.tiff',\n",
       " 'part5_ok_cam1_deg0_204.tiff',\n",
       " 'part5_ok_cam1_deg0_205.tiff',\n",
       " 'part5_ok_cam1_deg0_206.tiff',\n",
       " 'part5_ok_cam1_deg0_207.tiff',\n",
       " 'part5_ok_cam1_deg0_208.tiff',\n",
       " 'part5_ok_cam1_deg0_209.tiff',\n",
       " 'part5_ok_cam1_deg0_210.tiff',\n",
       " 'part5_ok_cam1_deg0_217.tiff',\n",
       " 'part5_ok_cam1_deg0_220.tiff',\n",
       " 'part5_ok_cam1_deg0_221.tiff',\n",
       " 'part5_ok_cam1_deg0_222.tiff',\n",
       " 'part5_ok_cam1_deg0_223.tiff',\n",
       " 'part5_ok_cam1_deg0_29.tiff',\n",
       " 'part5_ok_cam1_deg0_30.tiff',\n",
       " 'part5_ok_cam1_deg0_31.tiff',\n",
       " 'part5_ok_cam1_deg0_32.tiff',\n",
       " 'part5_ok_cam1_deg0_33.tiff',\n",
       " 'part5_ok_cam1_deg0_34.tiff',\n",
       " 'part5_ok_cam1_deg0_35.tiff',\n",
       " 'part5_ok_cam1_deg0_36.tiff',\n",
       " 'part5_ok_cam1_deg0_37.tiff',\n",
       " 'part5_ok_cam1_deg0_38.tiff',\n",
       " 'part5_ok_cam1_deg0_39.tiff',\n",
       " 'part5_ok_cam1_deg0_4.tiff',\n",
       " 'part5_ok_cam1_deg0_40.tiff',\n",
       " 'part5_ok_cam1_deg0_45.tiff',\n",
       " 'part5_ok_cam1_deg0_48.tiff',\n",
       " 'part5_ok_cam1_deg0_49.tiff',\n",
       " 'part5_ok_cam1_deg0_5.tiff',\n",
       " 'part5_ok_cam1_deg0_50.tiff',\n",
       " 'part5_ok_cam1_deg0_51.tiff',\n",
       " 'part5_ok_cam1_deg0_6.tiff',\n",
       " 'part5_ok_cam1_deg0_76.tiff',\n",
       " 'part5_ok_cam1_deg0_77.tiff',\n",
       " 'part5_ok_cam1_deg0_78.tiff',\n",
       " 'part5_ok_cam1_deg0_79.tiff',\n",
       " 'part5_ok_cam1_deg0_80.tiff',\n",
       " 'part5_ok_cam1_deg0_81.tiff',\n",
       " 'part5_ok_cam1_deg0_82.tiff',\n",
       " 'part5_ok_cam1_deg0_83.tiff',\n",
       " 'part5_ok_cam1_deg0_84.tiff',\n",
       " 'part5_ok_cam1_deg0_85.tiff',\n",
       " 'part5_ok_cam1_deg0_86.tiff',\n",
       " 'part5_ok_cam1_deg0_87.tiff',\n",
       " 'part5_ok_cam1_deg0_88.tiff',\n",
       " 'part5_ok_cam1_deg0_89.tiff',\n",
       " 'part5_ok_cam1_deg0_90.tiff',\n",
       " 'part5_ok_cam1_deg0_91.tiff',\n",
       " 'part5_ok_cam1_deg0_92.tiff',\n",
       " 'part5_ok_cam1_deg0_93.tiff',\n",
       " 'part5_ok_cam1_deg0_94.tiff',\n",
       " 'part5_ok_cam1_deg0_95.tiff',\n",
       " 'part5_ok_cam1_deg0_96.tiff',\n",
       " 'part5_ok_cam1_deg0_97.tiff']"
      ]
     },
     "execution_count": 5,
     "metadata": {},
     "output_type": "execute_result"
    }
   ],
   "source": [
    "os.listdir(Ok_Images_Directory)"
   ]
  },
  {
   "cell_type": "code",
   "execution_count": 6,
   "metadata": {},
   "outputs": [],
   "source": [
    "dic={}\n",
    "for filename in os.listdir(Ok_Images_Directory):\n",
    "    dic[filename[0:-5]]=1\n",
    "for filename in os.listdir(NOk_Dents_Images_Directory):\n",
    "    dic[filename[0:-5]]=0\n",
    "    \n",
    "#for filename in os.listdir(Ok_Images_Directory):\n",
    " #   dic['Ok_'+filename]=1\n",
    "#for filename in os.listdir(NOk_Pimples_Images_Directory):\n",
    " #   dic['NOk_'+\"P_\"+filename]=0\n",
    "#for filename in os.listdir(NOk_Scratch_Images_Directory):\n",
    " #   dic['NOk_'+\"S_\"+filename]=0\n",
    "#for filename in os.listdir(NOk_Dents_Images_Directory):\n",
    " #   dic['NOk_'+\"D_\"+filename]=0"
   ]
  },
  {
   "cell_type": "code",
   "execution_count": 7,
   "metadata": {},
   "outputs": [
    {
     "data": {
      "text/plain": [
       "1"
      ]
     },
     "execution_count": 7,
     "metadata": {},
     "output_type": "execute_result"
    }
   ],
   "source": [
    "dic[\"part5_ok_cam1_deg0_102\"]"
   ]
  },
  {
   "cell_type": "code",
   "execution_count": 8,
   "metadata": {},
   "outputs": [],
   "source": [
    "with open('mycsvfile.csv','wt') as f:\n",
    "    w = csv.writer(f)\n",
    "    w.writerows(dic.items())\n",
    "    \n"
   ]
  },
  {
   "cell_type": "markdown",
   "metadata": {},
   "source": [
    "# 3. Display image of each ok/nok metal sheet type"
   ]
  },
  {
   "cell_type": "code",
   "execution_count": 9,
   "metadata": {},
   "outputs": [],
   "source": [
    "labels = pd.read_csv(\"mycsvfile.csv\",names=[\"Image_File_Name\", \"class\"], index_col=0)"
   ]
  },
  {
   "cell_type": "code",
   "execution_count": 10,
   "metadata": {},
   "outputs": [
    {
     "data": {
      "text/html": [
       "<div>\n",
       "<style scoped>\n",
       "    .dataframe tbody tr th:only-of-type {\n",
       "        vertical-align: middle;\n",
       "    }\n",
       "\n",
       "    .dataframe tbody tr th {\n",
       "        vertical-align: top;\n",
       "    }\n",
       "\n",
       "    .dataframe thead th {\n",
       "        text-align: right;\n",
       "    }\n",
       "</style>\n",
       "<table border=\"1\" class=\"dataframe\">\n",
       "  <thead>\n",
       "    <tr style=\"text-align: right;\">\n",
       "      <th></th>\n",
       "      <th>class</th>\n",
       "    </tr>\n",
       "    <tr>\n",
       "      <th>Image_File_Name</th>\n",
       "      <th></th>\n",
       "    </tr>\n",
       "  </thead>\n",
       "  <tbody>\n",
       "    <tr>\n",
       "      <th>part5_ok_cam1_deg0_102</th>\n",
       "      <td>1</td>\n",
       "    </tr>\n",
       "    <tr>\n",
       "      <th>part5_ok_cam1_deg0_103</th>\n",
       "      <td>1</td>\n",
       "    </tr>\n",
       "    <tr>\n",
       "      <th>part5_ok_cam1_deg0_106</th>\n",
       "      <td>1</td>\n",
       "    </tr>\n",
       "    <tr>\n",
       "      <th>part5_ok_cam1_deg0_107</th>\n",
       "      <td>1</td>\n",
       "    </tr>\n",
       "    <tr>\n",
       "      <th>part5_ok_cam1_deg0_108</th>\n",
       "      <td>1</td>\n",
       "    </tr>\n",
       "  </tbody>\n",
       "</table>\n",
       "</div>"
      ],
      "text/plain": [
       "                        class\n",
       "Image_File_Name              \n",
       "part5_ok_cam1_deg0_102      1\n",
       "part5_ok_cam1_deg0_103      1\n",
       "part5_ok_cam1_deg0_106      1\n",
       "part5_ok_cam1_deg0_107      1\n",
       "part5_ok_cam1_deg0_108      1"
      ]
     },
     "execution_count": 10,
     "metadata": {},
     "output_type": "execute_result"
    }
   ],
   "source": [
    "labels.head()"
   ]
  },
  {
   "cell_type": "code",
   "execution_count": 11,
   "metadata": {},
   "outputs": [],
   "source": [
    "def get_image(row_id, root=\"data_set/\"):\n",
    "    \"\"\"\n",
    "    Converts an image number into the file path where the image is located, \n",
    "    opens the image, and returns the image as a numpy array.\n",
    "    \"\"\"\n",
    "    filename = \"{}.tiff\".format(row_id)\n",
    "    file_path = os.path.join(root, filename)\n",
    "    img = Image.open(file_path)\n",
    "    grey_Ok_part = rgb2grey(np.array(img))\n",
    "    \n",
    "    return np.array(grey_Ok_part)"
   ]
  },
  {
   "cell_type": "code",
   "execution_count": 12,
   "metadata": {},
   "outputs": [],
   "source": [
    "labels1=labels.reset_index()"
   ]
  },
  {
   "cell_type": "code",
   "execution_count": 13,
   "metadata": {},
   "outputs": [],
   "source": [
    "img_list_arr=[]\n",
    "for part_name in labels.index:\n",
    "    img_list_arr.append([get_image(part_name),labels1[labels1.Image_File_Name==part_name][\"class\"].values])"
   ]
  },
  {
   "cell_type": "code",
   "execution_count": 14,
   "metadata": {},
   "outputs": [],
   "source": [
    "img_list_arr = np.array([i[0] for i in img_list_arr]).reshape(-1,100, 100,1)"
   ]
  },
  {
   "cell_type": "code",
   "execution_count": 15,
   "metadata": {},
   "outputs": [],
   "source": [
    "labels_arr = pd.get_dummies(labels['class'])"
   ]
  },
  {
   "cell_type": "code",
   "execution_count": 16,
   "metadata": {},
   "outputs": [],
   "source": [
    "X_train, X_test, y_train, y_test = train_test_split(img_list_arr, labels_arr, test_size=0.33, random_state=42)"
   ]
  },
  {
   "cell_type": "code",
   "execution_count": 17,
   "metadata": {},
   "outputs": [
    {
     "name": "stdout",
     "output_type": "stream",
     "text": [
      "WARNING:tensorflow:From C:\\Users\\burak\\Anaconda3\\envs\\PythonCPU\\lib\\site-packages\\tensorflow\\python\\framework\\op_def_library.py:263: colocate_with (from tensorflow.python.framework.ops) is deprecated and will be removed in a future version.\n",
      "Instructions for updating:\n",
      "Colocations handled automatically by placer.\n",
      "WARNING:tensorflow:From C:\\Users\\burak\\Anaconda3\\envs\\PythonCPU\\lib\\site-packages\\keras\\backend\\tensorflow_backend.py:3445: calling dropout (from tensorflow.python.ops.nn_ops) with keep_prob is deprecated and will be removed in a future version.\n",
      "Instructions for updating:\n",
      "Please use `rate` instead of `keep_prob`. Rate should be set to `rate = 1 - keep_prob`.\n"
     ]
    }
   ],
   "source": [
    "model = Sequential()\n",
    "model.add(Conv2D(32, kernel_size = (3, 3), activation='relu', input_shape=(100, 100, 1)))\n",
    "model.add(MaxPooling2D(pool_size=(2,2)))\n",
    "model.add(BatchNormalization())\n",
    "model.add(Conv2D(64, kernel_size=(3,3), activation='relu'))\n",
    "model.add(MaxPooling2D(pool_size=(2,2)))\n",
    "model.add(BatchNormalization())\n",
    "model.add(Conv2D(96, kernel_size=(3,3), activation='relu'))\n",
    "model.add(MaxPooling2D(pool_size=(2,2)))\n",
    "model.add(BatchNormalization())\n",
    "model.add(Conv2D(96, kernel_size=(3,3), activation='relu'))\n",
    "model.add(MaxPooling2D(pool_size=(2,2)))\n",
    "model.add(BatchNormalization())\n",
    "model.add(Conv2D(64, kernel_size=(3,3), activation='relu'))\n",
    "model.add(MaxPooling2D(pool_size=(2,2)))\n",
    "model.add(BatchNormalization())\n",
    "model.add(Dropout(0.2))\n",
    "model.add(Flatten())\n",
    "model.add(Dense(256, activation='relu'))\n",
    "model.add(Dropout(0.2))\n",
    "model.add(Dense(128, activation='relu'))\n",
    "#model.add(Dropout(0.3))\n",
    "model.add(Dense(2, activation = 'softmax'))"
   ]
  },
  {
   "cell_type": "code",
   "execution_count": 18,
   "metadata": {},
   "outputs": [],
   "source": [
    "model.compile(loss='binary_crossentropy', optimizer='adam', metrics = ['accuracy'])"
   ]
  },
  {
   "cell_type": "code",
   "execution_count": 19,
   "metadata": {},
   "outputs": [
    {
     "name": "stdout",
     "output_type": "stream",
     "text": [
      "_________________________________________________________________\n",
      "Layer (type)                 Output Shape              Param #   \n",
      "=================================================================\n",
      "conv2d_1 (Conv2D)            (None, 98, 98, 32)        320       \n",
      "_________________________________________________________________\n",
      "max_pooling2d_1 (MaxPooling2 (None, 49, 49, 32)        0         \n",
      "_________________________________________________________________\n",
      "batch_normalization_1 (Batch (None, 49, 49, 32)        128       \n",
      "_________________________________________________________________\n",
      "conv2d_2 (Conv2D)            (None, 47, 47, 64)        18496     \n",
      "_________________________________________________________________\n",
      "max_pooling2d_2 (MaxPooling2 (None, 23, 23, 64)        0         \n",
      "_________________________________________________________________\n",
      "batch_normalization_2 (Batch (None, 23, 23, 64)        256       \n",
      "_________________________________________________________________\n",
      "conv2d_3 (Conv2D)            (None, 21, 21, 96)        55392     \n",
      "_________________________________________________________________\n",
      "max_pooling2d_3 (MaxPooling2 (None, 10, 10, 96)        0         \n",
      "_________________________________________________________________\n",
      "batch_normalization_3 (Batch (None, 10, 10, 96)        384       \n",
      "_________________________________________________________________\n",
      "conv2d_4 (Conv2D)            (None, 8, 8, 96)          83040     \n",
      "_________________________________________________________________\n",
      "max_pooling2d_4 (MaxPooling2 (None, 4, 4, 96)          0         \n",
      "_________________________________________________________________\n",
      "batch_normalization_4 (Batch (None, 4, 4, 96)          384       \n",
      "_________________________________________________________________\n",
      "conv2d_5 (Conv2D)            (None, 2, 2, 64)          55360     \n",
      "_________________________________________________________________\n",
      "max_pooling2d_5 (MaxPooling2 (None, 1, 1, 64)          0         \n",
      "_________________________________________________________________\n",
      "batch_normalization_5 (Batch (None, 1, 1, 64)          256       \n",
      "_________________________________________________________________\n",
      "dropout_1 (Dropout)          (None, 1, 1, 64)          0         \n",
      "_________________________________________________________________\n",
      "flatten_1 (Flatten)          (None, 64)                0         \n",
      "_________________________________________________________________\n",
      "dense_1 (Dense)              (None, 256)               16640     \n",
      "_________________________________________________________________\n",
      "dropout_2 (Dropout)          (None, 256)               0         \n",
      "_________________________________________________________________\n",
      "dense_2 (Dense)              (None, 128)               32896     \n",
      "_________________________________________________________________\n",
      "dense_3 (Dense)              (None, 2)                 258       \n",
      "=================================================================\n",
      "Total params: 263,810\n",
      "Trainable params: 263,106\n",
      "Non-trainable params: 704\n",
      "_________________________________________________________________\n"
     ]
    }
   ],
   "source": [
    "model.summary()"
   ]
  },
  {
   "cell_type": "code",
   "execution_count": 20,
   "metadata": {},
   "outputs": [
    {
     "name": "stdout",
     "output_type": "stream",
     "text": [
      "WARNING:tensorflow:From C:\\Users\\burak\\Anaconda3\\envs\\PythonCPU\\lib\\site-packages\\tensorflow\\python\\ops\\math_ops.py:3066: to_int32 (from tensorflow.python.ops.math_ops) is deprecated and will be removed in a future version.\n",
      "Instructions for updating:\n",
      "Use tf.cast instead.\n",
      "Epoch 1/10\n",
      "134/134 [==============================] - 6s 43ms/step - loss: 0.7319 - acc: 0.5448\n",
      "Epoch 2/10\n",
      "134/134 [==============================] - 2s 17ms/step - loss: 0.5319 - acc: 0.7164\n",
      "Epoch 3/10\n",
      "134/134 [==============================] - 2s 17ms/step - loss: 0.5757 - acc: 0.7239\n",
      "Epoch 4/10\n",
      "134/134 [==============================] - 2s 17ms/step - loss: 0.6290 - acc: 0.6269\n",
      "Epoch 5/10\n",
      "134/134 [==============================] - 2s 18ms/step - loss: 0.4866 - acc: 0.7388\n",
      "Epoch 6/10\n",
      "134/134 [==============================] - 2s 17ms/step - loss: 0.4111 - acc: 0.7910\n",
      "Epoch 7/10\n",
      "134/134 [==============================] - 2s 18ms/step - loss: 0.4212 - acc: 0.7985\n",
      "Epoch 8/10\n",
      "134/134 [==============================] - 2s 17ms/step - loss: 0.4644 - acc: 0.7985\n",
      "Epoch 9/10\n",
      "134/134 [==============================] - 2s 17ms/step - loss: 0.4307 - acc: 0.8358\n",
      "Epoch 10/10\n",
      "134/134 [==============================] - 2s 17ms/step - loss: 0.4008 - acc: 0.8060\n"
     ]
    },
    {
     "data": {
      "text/plain": [
       "<keras.callbacks.History at 0x19fa0faee48>"
      ]
     },
     "execution_count": 20,
     "metadata": {},
     "output_type": "execute_result"
    }
   ],
   "source": [
    "model.fit(X_train, y_train.iloc[:].values, batch_size = 20, epochs = 10, verbose = 1)"
   ]
  },
  {
   "cell_type": "code",
   "execution_count": 23,
   "metadata": {},
   "outputs": [
    {
     "name": "stdout",
     "output_type": "stream",
     "text": [
      "66.66666666666666\n"
     ]
    }
   ],
   "source": [
    "loss, acc = model.evaluate(X_test,y_test, verbose = 0)\n",
    "print(acc * 100)"
   ]
  },
  {
   "cell_type": "code",
   "execution_count": 23,
   "metadata": {},
   "outputs": [],
   "source": []
  },
  {
   "cell_type": "code",
   "execution_count": null,
   "metadata": {},
   "outputs": [],
   "source": []
  }
 ],
 "metadata": {
  "kernelspec": {
   "display_name": "Python 3",
   "language": "python",
   "name": "python3"
  },
  "language_info": {
   "codemirror_mode": {
    "name": "ipython",
    "version": 3
   },
   "file_extension": ".py",
   "mimetype": "text/x-python",
   "name": "python",
   "nbconvert_exporter": "python",
   "pygments_lexer": "ipython3",
   "version": "3.7.3"
  }
 },
 "nbformat": 4,
 "nbformat_minor": 2
}
