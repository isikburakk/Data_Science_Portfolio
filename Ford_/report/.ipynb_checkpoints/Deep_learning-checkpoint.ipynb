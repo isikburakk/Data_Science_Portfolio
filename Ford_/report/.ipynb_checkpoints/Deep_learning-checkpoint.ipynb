{
 "cells": [
  {
   "cell_type": "markdown",
   "metadata": {},
   "source": [
    "#  1. Import Python libraries"
   ]
  },
  {
   "cell_type": "code",
   "execution_count": 1,
   "metadata": {},
   "outputs": [
    {
     "data": {
      "text/plain": [
       "'C:\\\\Users\\\\burak\\\\Desktop\\\\Burak\\\\itu\\\\3. Semester\\\\Project\\\\tahsin_fırıncı'"
      ]
     },
     "execution_count": 1,
     "metadata": {},
     "output_type": "execute_result"
    }
   ],
   "source": [
    "pwd"
   ]
  },
  {
   "cell_type": "code",
   "execution_count": 2,
   "metadata": {},
   "outputs": [],
   "source": [
    "import os\n",
    "import csv\n",
    "import matplotlib as mpl\n",
    "import matplotlib.pyplot as plt\n",
    "from IPython.display import display\n",
    "%matplotlib inline\n",
    "\n",
    "import pandas as pd\n",
    "import numpy as np\n",
    "\n",
    "from PIL import Image\n",
    "\n",
    "from skimage.feature import hog\n",
    "from skimage.color import rgb2grey\n",
    "\n",
    "from sklearn.model_selection import train_test_split\n",
    "from sklearn.metrics import accuracy_score\n",
    "from sklearn.preprocessing import StandardScaler\n",
    "from sklearn.decomposition import PCA\n",
    "from sklearn.svm import SVC\n",
    "\n",
    "from sklearn.metrics import roc_curve, auc"
   ]
  },
  {
   "cell_type": "markdown",
   "metadata": {},
   "source": [
    "# 2. Create csv file"
   ]
  },
  {
   "cell_type": "code",
   "execution_count": 3,
   "metadata": {},
   "outputs": [],
   "source": [
    "Ok_Images_Directory = r\"C:\\\\Users\\\\burak\\\\Desktop\\\\Burak\\\\itu\\\\3. Semester\\\\Project\\\\tahsin_fırıncı\\\\OK_data_set\\\\\"\n",
    "NOk_Dents_Images_Directory = r\"C:\\\\Users\\\\burak\\\\Desktop\\\\Burak\\\\itu\\\\3. Semester\\\\Project\\\\tahsin_fırıncı\\\\NOK_data_set\\\\\"\n",
    "\n",
    "#NOk_Pimples_Images_Directory = r\"C:/Users/admin/Desktop/data_set/Pimples_2/\"\n",
    "#NOk_Scratch_Images_Directory = r\"C:/Users/admin/Desktop/data_set/Scratch_3/\"\n",
    "#NOk_Dents_Images_Directory = r\"C:/Users/admin/Desktop/data_set/Dents_1/\"\n",
    "\n"
   ]
  },
  {
   "cell_type": "code",
   "execution_count": 4,
   "metadata": {
    "scrolled": true
   },
   "outputs": [
    {
     "data": {
      "text/plain": [
       "['part5_ok_cam1_deg0_102.tiff',\n",
       " 'part5_ok_cam1_deg0_103.tiff',\n",
       " 'part5_ok_cam1_deg0_106.tiff',\n",
       " 'part5_ok_cam1_deg0_107.tiff',\n",
       " 'part5_ok_cam1_deg0_108.tiff',\n",
       " 'part5_ok_cam1_deg0_109.tiff',\n",
       " 'part5_ok_cam1_deg0_110.tiff',\n",
       " 'part5_ok_cam1_deg0_134.tiff',\n",
       " 'part5_ok_cam1_deg0_135.tiff',\n",
       " 'part5_ok_cam1_deg0_136.tiff',\n",
       " 'part5_ok_cam1_deg0_137.tiff',\n",
       " 'part5_ok_cam1_deg0_138.tiff',\n",
       " 'part5_ok_cam1_deg0_139.tiff',\n",
       " 'part5_ok_cam1_deg0_140.tiff',\n",
       " 'part5_ok_cam1_deg0_141.tiff',\n",
       " 'part5_ok_cam1_deg0_142.tiff',\n",
       " 'part5_ok_cam1_deg0_143.tiff',\n",
       " 'part5_ok_cam1_deg0_144.tiff',\n",
       " 'part5_ok_cam1_deg0_145.tiff',\n",
       " 'part5_ok_cam1_deg0_146.tiff',\n",
       " 'part5_ok_cam1_deg0_147.tiff',\n",
       " 'part5_ok_cam1_deg0_148.tiff',\n",
       " 'part5_ok_cam1_deg0_149.tiff',\n",
       " 'part5_ok_cam1_deg0_150.tiff',\n",
       " 'part5_ok_cam1_deg0_151.tiff',\n",
       " 'part5_ok_cam1_deg0_152.tiff',\n",
       " 'part5_ok_cam1_deg0_153.tiff',\n",
       " 'part5_ok_cam1_deg0_154.tiff',\n",
       " 'part5_ok_cam1_deg0_160.tiff',\n",
       " 'part5_ok_cam1_deg0_164.tiff',\n",
       " 'part5_ok_cam1_deg0_165.tiff',\n",
       " 'part5_ok_cam1_deg0_166.tiff',\n",
       " 'part5_ok_cam1_deg0_167.tiff',\n",
       " 'part5_ok_cam1_deg0_191.tiff',\n",
       " 'part5_ok_cam1_deg0_192.tiff',\n",
       " 'part5_ok_cam1_deg0_193.tiff',\n",
       " 'part5_ok_cam1_deg0_194.tiff',\n",
       " 'part5_ok_cam1_deg0_195.tiff',\n",
       " 'part5_ok_cam1_deg0_196.tiff',\n",
       " 'part5_ok_cam1_deg0_197.tiff',\n",
       " 'part5_ok_cam1_deg0_198.tiff',\n",
       " 'part5_ok_cam1_deg0_199.tiff',\n",
       " 'part5_ok_cam1_deg0_200.tiff',\n",
       " 'part5_ok_cam1_deg0_201.tiff',\n",
       " 'part5_ok_cam1_deg0_202.tiff',\n",
       " 'part5_ok_cam1_deg0_203.tiff',\n",
       " 'part5_ok_cam1_deg0_204.tiff',\n",
       " 'part5_ok_cam1_deg0_205.tiff',\n",
       " 'part5_ok_cam1_deg0_206.tiff',\n",
       " 'part5_ok_cam1_deg0_207.tiff',\n",
       " 'part5_ok_cam1_deg0_208.tiff',\n",
       " 'part5_ok_cam1_deg0_209.tiff',\n",
       " 'part5_ok_cam1_deg0_210.tiff',\n",
       " 'part5_ok_cam1_deg0_217.tiff',\n",
       " 'part5_ok_cam1_deg0_220.tiff',\n",
       " 'part5_ok_cam1_deg0_221.tiff',\n",
       " 'part5_ok_cam1_deg0_222.tiff',\n",
       " 'part5_ok_cam1_deg0_223.tiff',\n",
       " 'part5_ok_cam1_deg0_29.tiff',\n",
       " 'part5_ok_cam1_deg0_30.tiff',\n",
       " 'part5_ok_cam1_deg0_31.tiff',\n",
       " 'part5_ok_cam1_deg0_32.tiff',\n",
       " 'part5_ok_cam1_deg0_33.tiff',\n",
       " 'part5_ok_cam1_deg0_34.tiff',\n",
       " 'part5_ok_cam1_deg0_35.tiff',\n",
       " 'part5_ok_cam1_deg0_36.tiff',\n",
       " 'part5_ok_cam1_deg0_37.tiff',\n",
       " 'part5_ok_cam1_deg0_38.tiff',\n",
       " 'part5_ok_cam1_deg0_39.tiff',\n",
       " 'part5_ok_cam1_deg0_4.tiff',\n",
       " 'part5_ok_cam1_deg0_40.tiff',\n",
       " 'part5_ok_cam1_deg0_45.tiff',\n",
       " 'part5_ok_cam1_deg0_48.tiff',\n",
       " 'part5_ok_cam1_deg0_49.tiff',\n",
       " 'part5_ok_cam1_deg0_5.tiff',\n",
       " 'part5_ok_cam1_deg0_50.tiff',\n",
       " 'part5_ok_cam1_deg0_51.tiff',\n",
       " 'part5_ok_cam1_deg0_6.tiff',\n",
       " 'part5_ok_cam1_deg0_76.tiff',\n",
       " 'part5_ok_cam1_deg0_77.tiff',\n",
       " 'part5_ok_cam1_deg0_78.tiff',\n",
       " 'part5_ok_cam1_deg0_79.tiff',\n",
       " 'part5_ok_cam1_deg0_80.tiff',\n",
       " 'part5_ok_cam1_deg0_81.tiff',\n",
       " 'part5_ok_cam1_deg0_82.tiff',\n",
       " 'part5_ok_cam1_deg0_83.tiff',\n",
       " 'part5_ok_cam1_deg0_84.tiff',\n",
       " 'part5_ok_cam1_deg0_85.tiff',\n",
       " 'part5_ok_cam1_deg0_86.tiff',\n",
       " 'part5_ok_cam1_deg0_87.tiff',\n",
       " 'part5_ok_cam1_deg0_88.tiff',\n",
       " 'part5_ok_cam1_deg0_89.tiff',\n",
       " 'part5_ok_cam1_deg0_90.tiff',\n",
       " 'part5_ok_cam1_deg0_91.tiff',\n",
       " 'part5_ok_cam1_deg0_92.tiff',\n",
       " 'part5_ok_cam1_deg0_93.tiff',\n",
       " 'part5_ok_cam1_deg0_94.tiff',\n",
       " 'part5_ok_cam1_deg0_95.tiff',\n",
       " 'part5_ok_cam1_deg0_96.tiff',\n",
       " 'part5_ok_cam1_deg0_97.tiff']"
      ]
     },
     "execution_count": 4,
     "metadata": {},
     "output_type": "execute_result"
    }
   ],
   "source": [
    "os.listdir(Ok_Images_Directory)"
   ]
  },
  {
   "cell_type": "code",
   "execution_count": 5,
   "metadata": {},
   "outputs": [],
   "source": [
    "dic={}\n",
    "for filename in os.listdir(Ok_Images_Directory):\n",
    "    dic[filename[0:-5]]=1\n",
    "for filename in os.listdir(NOk_Dents_Images_Directory):\n",
    "    dic[filename[0:-5]]=0\n",
    "    \n",
    "#for filename in os.listdir(Ok_Images_Directory):\n",
    " #   dic['Ok_'+filename]=1\n",
    "#for filename in os.listdir(NOk_Pimples_Images_Directory):\n",
    " #   dic['NOk_'+\"P_\"+filename]=0\n",
    "#for filename in os.listdir(NOk_Scratch_Images_Directory):\n",
    " #   dic['NOk_'+\"S_\"+filename]=0\n",
    "#for filename in os.listdir(NOk_Dents_Images_Directory):\n",
    " #   dic['NOk_'+\"D_\"+filename]=0"
   ]
  },
  {
   "cell_type": "code",
   "execution_count": 39,
   "metadata": {},
   "outputs": [
    {
     "data": {
      "text/plain": [
       "1"
      ]
     },
     "execution_count": 39,
     "metadata": {},
     "output_type": "execute_result"
    }
   ],
   "source": [
    "dic[\"part5_ok_cam1_deg0_102\"]"
   ]
  },
  {
   "cell_type": "code",
   "execution_count": 7,
   "metadata": {},
   "outputs": [],
   "source": [
    "with open('mycsvfile.csv','wt') as f:\n",
    "    w = csv.writer(f)\n",
    "    w.writerows(dic.items())\n",
    "    \n"
   ]
  },
  {
   "cell_type": "markdown",
   "metadata": {},
   "source": [
    "# 3. Display image of each ok/nok metal sheet type"
   ]
  },
  {
   "cell_type": "code",
   "execution_count": 30,
   "metadata": {},
   "outputs": [],
   "source": [
    "labels = pd.read_csv(\"mycsvfile.csv\",names=[\"Image_File_Name\", \"class\"])"
   ]
  },
  {
   "cell_type": "code",
   "execution_count": 31,
   "metadata": {},
   "outputs": [
    {
     "data": {
      "text/html": [
       "<div>\n",
       "<style scoped>\n",
       "    .dataframe tbody tr th:only-of-type {\n",
       "        vertical-align: middle;\n",
       "    }\n",
       "\n",
       "    .dataframe tbody tr th {\n",
       "        vertical-align: top;\n",
       "    }\n",
       "\n",
       "    .dataframe thead th {\n",
       "        text-align: right;\n",
       "    }\n",
       "</style>\n",
       "<table border=\"1\" class=\"dataframe\">\n",
       "  <thead>\n",
       "    <tr style=\"text-align: right;\">\n",
       "      <th></th>\n",
       "      <th>Image_File_Name</th>\n",
       "      <th>class</th>\n",
       "    </tr>\n",
       "  </thead>\n",
       "  <tbody>\n",
       "    <tr>\n",
       "      <th>0</th>\n",
       "      <td>part5_ok_cam1_deg0_102</td>\n",
       "      <td>1</td>\n",
       "    </tr>\n",
       "    <tr>\n",
       "      <th>1</th>\n",
       "      <td>part5_ok_cam1_deg0_103</td>\n",
       "      <td>1</td>\n",
       "    </tr>\n",
       "    <tr>\n",
       "      <th>2</th>\n",
       "      <td>part5_ok_cam1_deg0_106</td>\n",
       "      <td>1</td>\n",
       "    </tr>\n",
       "    <tr>\n",
       "      <th>3</th>\n",
       "      <td>part5_ok_cam1_deg0_107</td>\n",
       "      <td>1</td>\n",
       "    </tr>\n",
       "    <tr>\n",
       "      <th>4</th>\n",
       "      <td>part5_ok_cam1_deg0_108</td>\n",
       "      <td>1</td>\n",
       "    </tr>\n",
       "  </tbody>\n",
       "</table>\n",
       "</div>"
      ],
      "text/plain": [
       "          Image_File_Name  class\n",
       "0  part5_ok_cam1_deg0_102      1\n",
       "1  part5_ok_cam1_deg0_103      1\n",
       "2  part5_ok_cam1_deg0_106      1\n",
       "3  part5_ok_cam1_deg0_107      1\n",
       "4  part5_ok_cam1_deg0_108      1"
      ]
     },
     "execution_count": 31,
     "metadata": {},
     "output_type": "execute_result"
    }
   ],
   "source": [
    "labels.head()"
   ]
  },
  {
   "cell_type": "code",
   "execution_count": 46,
   "metadata": {},
   "outputs": [],
   "source": [
    "def label_img(name):\n",
    "    word_label = dic[name]\n",
    "    if word_label == 1: return np.array([1, 0])\n",
    "    elif word_label == 0 : return np.array([0, 1])"
   ]
  },
  {
   "cell_type": "code",
   "execution_count": 47,
   "metadata": {},
   "outputs": [],
   "source": [
    "def load_training_data():\n",
    "    train_data = []\n",
    "    for img in os.listdir(DIR):\n",
    "        label = label_img(img)\n",
    "        path = os.path.join(DIR, img)\n",
    "        if \"DS_Store\" not in path:\n",
    "            img = Image.open(path)\n",
    "            img = img.convert('L')\n",
    "            train_data.append([np.array(img), label])\n",
    "            \n",
    "    shuffle(train_data)\n",
    "    return train_data"
   ]
  },
  {
   "cell_type": "code",
   "execution_count": 48,
   "metadata": {},
   "outputs": [
    {
     "ename": "NameError",
     "evalue": "name 'DIR' is not defined",
     "output_type": "error",
     "traceback": [
      "\u001b[1;31m---------------------------------------------------------------------------\u001b[0m",
      "\u001b[1;31mNameError\u001b[0m                                 Traceback (most recent call last)",
      "\u001b[1;32m<ipython-input-48-a7657735b3f6>\u001b[0m in \u001b[0;36m<module>\u001b[1;34m\u001b[0m\n\u001b[1;32m----> 1\u001b[1;33m \u001b[1;32mfor\u001b[0m \u001b[0mimg\u001b[0m \u001b[1;32min\u001b[0m \u001b[0mos\u001b[0m\u001b[1;33m.\u001b[0m\u001b[0mlistdir\u001b[0m\u001b[1;33m(\u001b[0m\u001b[0mDIR\u001b[0m\u001b[1;33m)\u001b[0m\u001b[1;33m:\u001b[0m\u001b[1;33m\u001b[0m\u001b[1;33m\u001b[0m\u001b[0m\n\u001b[0m\u001b[0;32m      2\u001b[0m     \u001b[0mlabel\u001b[0m \u001b[1;33m=\u001b[0m \u001b[0mlabel_img\u001b[0m\u001b[1;33m(\u001b[0m\u001b[0mimg\u001b[0m\u001b[1;33m)\u001b[0m\u001b[1;33m\u001b[0m\u001b[1;33m\u001b[0m\u001b[0m\n",
      "\u001b[1;31mNameError\u001b[0m: name 'DIR' is not defined"
     ]
    }
   ],
   "source": [
    "for img in os.listdir(DIR):\n",
    "    label = label_img(img)"
   ]
  },
  {
   "cell_type": "code",
   "execution_count": null,
   "metadata": {},
   "outputs": [],
   "source": []
  }
 ],
 "metadata": {
  "kernelspec": {
   "display_name": "Python 3",
   "language": "python",
   "name": "python3"
  },
  "language_info": {
   "codemirror_mode": {
    "name": "ipython",
    "version": 3
   },
   "file_extension": ".py",
   "mimetype": "text/x-python",
   "name": "python",
   "nbconvert_exporter": "python",
   "pygments_lexer": "ipython3",
   "version": "3.6.8"
  }
 },
 "nbformat": 4,
 "nbformat_minor": 2
}
