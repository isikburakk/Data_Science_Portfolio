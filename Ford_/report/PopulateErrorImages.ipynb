{
 "cells": [
  {
   "cell_type": "markdown",
   "metadata": {
    "collapsed": true
   },
   "source": [
    "# Reads Files and Populates Error Images\n",
    "1) Loop to read files in folde rone by one\n",
    "2) Open image file and its filter file\n",
    "3) Group failuremodes by color codes in filter, Red: Pimple, Green: Dent, Blue: Scrach\n",
    "4) Find the center location of each color group and create square images based on that center and save image "
   ]
  },
  {
   "cell_type": "code",
   "execution_count": 1,
   "metadata": {},
   "outputs": [
    {
     "name": "stdout",
     "output_type": "stream",
     "text": [
      "Requirement already satisfied: opencv-python in c:\\programdata\\anaconda2\\lib\\site-packages (4.1.0.25)\n",
      "Requirement already satisfied: numpy>=1.11.1 in c:\\programdata\\anaconda2\\lib\\site-packages (from opencv-python) (1.16.2)\n"
     ]
    },
    {
     "name": "stderr",
     "output_type": "stream",
     "text": [
      "DEPRECATION: Python 2.7 will reach the end of its life on January 1st, 2020. Please upgrade your Python as Python 2.7 won't be maintained after that date. A future version of pip will drop support for Python 2.7.\n"
     ]
    },
    {
     "name": "stdout",
     "output_type": "stream",
     "text": [
      "Requirement already satisfied: xlsxwriter in c:\\programdata\\anaconda2\\lib\\site-packages (1.1.5)\n"
     ]
    },
    {
     "name": "stderr",
     "output_type": "stream",
     "text": [
      "DEPRECATION: Python 2.7 will reach the end of its life on January 1st, 2020. Please upgrade your Python as Python 2.7 won't be maintained after that date. A future version of pip will drop support for Python 2.7.\n"
     ]
    }
   ],
   "source": [
    "!pip install opencv-python\n",
    "!pip install xlsxwriter "
   ]
  },
  {
   "cell_type": "code",
   "execution_count": 2,
   "metadata": {},
   "outputs": [],
   "source": [
    "import numpy as np\n",
    "import cv2\n",
    "import os\n",
    "import matplotlib.pyplot as plt\n",
    "import xlsxwriter \n",
    "import time as tm\n",
    "#e1 = cv2.getTickCount() # To count time\n",
    "from tqdm import tqdm\n",
    "\n"
   ]
  },
  {
   "cell_type": "code",
   "execution_count": 3,
   "metadata": {},
   "outputs": [],
   "source": [
    "Temptale = cv2.imread(\"./ColorTemplate.tif\",1)\n",
    "Rwi,Cli,Colori =  Temptale.shape\n",
    "#for i  in range(Rwi):\n",
    "#    for j  in range(Cli):\n",
    "#        print Temptale[i,j]"
   ]
  },
  {
   "cell_type": "code",
   "execution_count": 4,
   "metadata": {},
   "outputs": [],
   "source": [
    "#Definitions\n",
    "Images_Directory = \"./Images/\"\n",
    "Filters_Directory = \"./Filters/\"\n",
    "Marked_Directory = \"./Marked/\"\n",
    "Directory_P = \"./Pimples/\"\n",
    "Directory_D = \"./Dents/\"\n",
    "Directory_S = \"./Scratch/\"\n",
    "\n",
    "\n",
    "# Below color codes are based on RGB\n",
    "PimpleColor = [237,28,36] # Red\n",
    "DentColor = [34,177,76] # Green\n",
    "ScratchColor = [0,162,232] #Ligth Blue\n",
    "\n",
    "SizeFilter = 20\n",
    "FilterError = 10\n",
    "\n",
    "PopulationSize=50\n",
    "# OpenCV follows BGR order, while matplotlib likely follows RGB order.\n"
   ]
  },
  {
   "cell_type": "code",
   "execution_count": 6,
   "metadata": {},
   "outputs": [
    {
     "name": "stdout",
     "output_type": "stream",
     "text": [
      "Image Size: 3000 4096\n"
     ]
    },
    {
     "name": "stderr",
     "output_type": "stream",
     "text": [
      "100%|██████████| 3000/3000 [00:19<00:00, 152.35it/s]\n"
     ]
    },
    {
     "name": "stdout",
     "output_type": "stream",
     "text": [
      "Total Found: 41\n",
      "Image Size: 3000 4096\n"
     ]
    },
    {
     "name": "stderr",
     "output_type": "stream",
     "text": [
      "100%|██████████| 3000/3000 [00:20<00:00, 143.47it/s]\n"
     ]
    },
    {
     "name": "stdout",
     "output_type": "stream",
     "text": [
      "Total Found: 35\n",
      "Image Size: 3000 4096\n"
     ]
    },
    {
     "name": "stderr",
     "output_type": "stream",
     "text": [
      "100%|██████████| 3000/3000 [00:20<00:00, 165.81it/s]\n"
     ]
    },
    {
     "name": "stdout",
     "output_type": "stream",
     "text": [
      "Total Found: 44\n",
      "Image Size: 3000 4096\n"
     ]
    },
    {
     "name": "stderr",
     "output_type": "stream",
     "text": [
      "100%|██████████| 3000/3000 [00:19<00:00, 152.26it/s]\n"
     ]
    },
    {
     "name": "stdout",
     "output_type": "stream",
     "text": [
      "Total Found: 32\n",
      "Image Size: 3000 4096\n"
     ]
    },
    {
     "name": "stderr",
     "output_type": "stream",
     "text": [
      "100%|██████████| 3000/3000 [00:19<00:00, 153.08it/s]\n"
     ]
    },
    {
     "name": "stdout",
     "output_type": "stream",
     "text": [
      "Total Found: 37\n",
      "Image Size: 3000 4096\n"
     ]
    },
    {
     "name": "stderr",
     "output_type": "stream",
     "text": [
      "100%|██████████| 3000/3000 [00:19<00:00, 156.34it/s]\n"
     ]
    },
    {
     "name": "stdout",
     "output_type": "stream",
     "text": [
      "Total Found: 54\n",
      "Image Size: 3000 4096\n"
     ]
    },
    {
     "name": "stderr",
     "output_type": "stream",
     "text": [
      "100%|██████████| 3000/3000 [00:19<00:00, 151.00it/s]\n"
     ]
    },
    {
     "name": "stdout",
     "output_type": "stream",
     "text": [
      "Total Found: 50\n",
      "Image Size: 3000 4096\n"
     ]
    },
    {
     "name": "stderr",
     "output_type": "stream",
     "text": [
      "100%|██████████| 3000/3000 [00:19<00:00, 152.44it/s]\n"
     ]
    },
    {
     "name": "stdout",
     "output_type": "stream",
     "text": [
      "Total Found: 37\n",
      "Image Size: 3000 4096\n"
     ]
    },
    {
     "name": "stderr",
     "output_type": "stream",
     "text": [
      "100%|██████████| 3000/3000 [00:19<00:00, 151.07it/s]\n"
     ]
    },
    {
     "name": "stdout",
     "output_type": "stream",
     "text": [
      "Total Found: 39\n",
      "Image Size: 3000 4096\n"
     ]
    },
    {
     "name": "stderr",
     "output_type": "stream",
     "text": [
      "100%|██████████| 3000/3000 [00:19<00:00, 155.97it/s]\n"
     ]
    },
    {
     "name": "stdout",
     "output_type": "stream",
     "text": [
      "Total Found: 37\n",
      "Image Size: 3000 4096\n"
     ]
    },
    {
     "name": "stderr",
     "output_type": "stream",
     "text": [
      "100%|██████████| 3000/3000 [00:19<00:00, 155.18it/s]\n"
     ]
    },
    {
     "name": "stdout",
     "output_type": "stream",
     "text": [
      "Total Found: 34\n",
      "Image Size: 3000 4096\n"
     ]
    },
    {
     "name": "stderr",
     "output_type": "stream",
     "text": [
      "100%|██████████| 3000/3000 [00:19<00:00, 152.30it/s]\n"
     ]
    },
    {
     "name": "stdout",
     "output_type": "stream",
     "text": [
      "Total Found: 40\n",
      "Image Size: 3000 4096\n"
     ]
    },
    {
     "name": "stderr",
     "output_type": "stream",
     "text": [
      "100%|██████████| 3000/3000 [00:19<00:00, 153.26it/s]\n"
     ]
    },
    {
     "name": "stdout",
     "output_type": "stream",
     "text": [
      "Total Found: 39\n",
      "Image Size: 3000 4096\n"
     ]
    },
    {
     "name": "stderr",
     "output_type": "stream",
     "text": [
      "100%|██████████| 3000/3000 [00:19<00:00, 151.46it/s]\n"
     ]
    },
    {
     "name": "stdout",
     "output_type": "stream",
     "text": [
      "Total Found: 42\n",
      "Image Size: 3000 4096\n"
     ]
    },
    {
     "name": "stderr",
     "output_type": "stream",
     "text": [
      "100%|██████████| 3000/3000 [00:19<00:00, 155.01it/s]\n"
     ]
    },
    {
     "name": "stdout",
     "output_type": "stream",
     "text": [
      "Total Found: 43\n",
      "Image Size: 3000 4096\n"
     ]
    },
    {
     "name": "stderr",
     "output_type": "stream",
     "text": [
      "100%|██████████| 3000/3000 [00:19<00:00, 156.67it/s]\n"
     ]
    },
    {
     "name": "stdout",
     "output_type": "stream",
     "text": [
      "Total Found: 49\n",
      "Image Size: 3000 4096\n"
     ]
    },
    {
     "name": "stderr",
     "output_type": "stream",
     "text": [
      "100%|██████████| 3000/3000 [00:19<00:00, 152.01it/s]\n"
     ]
    },
    {
     "name": "stdout",
     "output_type": "stream",
     "text": [
      "Total Found: 53\n",
      "Image Size: 3000 4096\n"
     ]
    },
    {
     "name": "stderr",
     "output_type": "stream",
     "text": [
      "100%|██████████| 3000/3000 [00:20<00:00, 149.96it/s]\n"
     ]
    },
    {
     "name": "stdout",
     "output_type": "stream",
     "text": [
      "Total Found: 44\n",
      "Image Size: 3000 4096\n"
     ]
    },
    {
     "name": "stderr",
     "output_type": "stream",
     "text": [
      "100%|██████████| 3000/3000 [00:19<00:00, 154.70it/s]\n"
     ]
    },
    {
     "name": "stdout",
     "output_type": "stream",
     "text": [
      "Total Found: 42\n",
      "Image Size: 3000 4096\n"
     ]
    },
    {
     "name": "stderr",
     "output_type": "stream",
     "text": [
      "100%|██████████| 3000/3000 [00:19<00:00, 156.71it/s]\n"
     ]
    },
    {
     "name": "stdout",
     "output_type": "stream",
     "text": [
      "Total Found: 41\n",
      "Image Size: 3000 4096\n"
     ]
    },
    {
     "name": "stderr",
     "output_type": "stream",
     "text": [
      "100%|██████████| 3000/3000 [00:28<00:00, 105.41it/s]\n"
     ]
    },
    {
     "name": "stdout",
     "output_type": "stream",
     "text": [
      "Total Found: 41\n",
      "Image Size: 3000 4096\n"
     ]
    },
    {
     "name": "stderr",
     "output_type": "stream",
     "text": [
      "100%|██████████| 3000/3000 [00:30<00:00, 98.00it/s] \n"
     ]
    },
    {
     "name": "stdout",
     "output_type": "stream",
     "text": [
      "Total Found: 33\n",
      "Image Size: 3000 4096\n"
     ]
    },
    {
     "name": "stderr",
     "output_type": "stream",
     "text": [
      "100%|██████████| 3000/3000 [00:26<00:00, 111.77it/s]\n"
     ]
    },
    {
     "name": "stdout",
     "output_type": "stream",
     "text": [
      "Total Found: 36\n",
      "Image Size: 3000 4096\n"
     ]
    },
    {
     "name": "stderr",
     "output_type": "stream",
     "text": [
      "100%|██████████| 3000/3000 [00:27<00:00, 110.25it/s]\n"
     ]
    },
    {
     "name": "stdout",
     "output_type": "stream",
     "text": [
      "Total Found: 37\n",
      "Image Size: 3000 4096\n"
     ]
    },
    {
     "name": "stderr",
     "output_type": "stream",
     "text": [
      "100%|██████████| 3000/3000 [00:21<00:00, 138.45it/s]\n"
     ]
    },
    {
     "name": "stdout",
     "output_type": "stream",
     "text": [
      "Total Found: 42\n",
      "Image Size: 3000 4096\n"
     ]
    },
    {
     "name": "stderr",
     "output_type": "stream",
     "text": [
      "100%|██████████| 3000/3000 [00:18<00:00, 158.06it/s]\n"
     ]
    },
    {
     "name": "stdout",
     "output_type": "stream",
     "text": [
      "Total Found: 51\n",
      "Image Size: 3000 4096\n"
     ]
    },
    {
     "name": "stderr",
     "output_type": "stream",
     "text": [
      "100%|██████████| 3000/3000 [00:19<00:00, 156.82it/s]\n"
     ]
    },
    {
     "name": "stdout",
     "output_type": "stream",
     "text": [
      "Total Found: 39\n",
      "Image Size: 3000 4096\n"
     ]
    },
    {
     "name": "stderr",
     "output_type": "stream",
     "text": [
      "100%|██████████| 3000/3000 [00:18<00:00, 159.12it/s]\n"
     ]
    },
    {
     "name": "stdout",
     "output_type": "stream",
     "text": [
      "Total Found: 41\n",
      "Image Size: 3000 4096\n"
     ]
    },
    {
     "name": "stderr",
     "output_type": "stream",
     "text": [
      "100%|██████████| 3000/3000 [00:25<00:00, 118.99it/s]\n"
     ]
    },
    {
     "name": "stdout",
     "output_type": "stream",
     "text": [
      "Total Found: 50\n",
      "Image Size: 3000 4096\n"
     ]
    },
    {
     "name": "stderr",
     "output_type": "stream",
     "text": [
      "100%|██████████| 3000/3000 [00:37<00:00, 79.82it/s] \n"
     ]
    },
    {
     "name": "stdout",
     "output_type": "stream",
     "text": [
      "Total Found: 35\n",
      "Image Size: 3000 4096\n"
     ]
    },
    {
     "name": "stderr",
     "output_type": "stream",
     "text": [
      "100%|██████████| 3000/3000 [00:38<00:00, 77.97it/s] \n"
     ]
    },
    {
     "name": "stdout",
     "output_type": "stream",
     "text": [
      "Total Found: 43\n",
      "Image Size: 3000 4096\n"
     ]
    },
    {
     "name": "stderr",
     "output_type": "stream",
     "text": [
      "100%|██████████| 3000/3000 [00:33<00:00, 89.96it/s] \n"
     ]
    },
    {
     "name": "stdout",
     "output_type": "stream",
     "text": [
      "Total Found: 38\n",
      "Image Size: 3000 4096\n"
     ]
    },
    {
     "name": "stderr",
     "output_type": "stream",
     "text": [
      "100%|██████████| 3000/3000 [00:38<00:00, 78.15it/s] \n"
     ]
    },
    {
     "name": "stdout",
     "output_type": "stream",
     "text": [
      "Total Found: 38\n",
      "Image Size: 3000 4096\n"
     ]
    },
    {
     "name": "stderr",
     "output_type": "stream",
     "text": [
      "100%|██████████| 3000/3000 [00:31<00:00, 94.90it/s] \n"
     ]
    },
    {
     "name": "stdout",
     "output_type": "stream",
     "text": [
      "Total Found: 47\n",
      "Image Size: 3000 4096\n"
     ]
    },
    {
     "name": "stderr",
     "output_type": "stream",
     "text": [
      "100%|██████████| 3000/3000 [00:27<00:00, 107.28it/s]\n"
     ]
    },
    {
     "name": "stdout",
     "output_type": "stream",
     "text": [
      "Total Found: 46\n",
      "Image Size: 3000 4096\n"
     ]
    },
    {
     "name": "stderr",
     "output_type": "stream",
     "text": [
      "100%|██████████| 3000/3000 [00:23<00:00, 127.31it/s]\n"
     ]
    },
    {
     "name": "stdout",
     "output_type": "stream",
     "text": [
      "Total Found: 52\n",
      "Image Size: 3000 4096\n"
     ]
    },
    {
     "name": "stderr",
     "output_type": "stream",
     "text": [
      "100%|██████████| 3000/3000 [00:24<00:00, 124.56it/s]\n"
     ]
    },
    {
     "name": "stdout",
     "output_type": "stream",
     "text": [
      "Total Found: 0\n",
      "Image Size: 3000 4096\n"
     ]
    },
    {
     "name": "stderr",
     "output_type": "stream",
     "text": [
      "100%|██████████| 3000/3000 [00:21<00:00, 137.55it/s]\n"
     ]
    },
    {
     "name": "stdout",
     "output_type": "stream",
     "text": [
      "Total Found: 38\n",
      "Image Size: 3000 4096\n"
     ]
    },
    {
     "name": "stderr",
     "output_type": "stream",
     "text": [
      "100%|██████████| 3000/3000 [00:27<00:00, 110.44it/s]\n"
     ]
    },
    {
     "name": "stdout",
     "output_type": "stream",
     "text": [
      "Total Found: 53\n",
      "Image Size: 3000 4096\n"
     ]
    },
    {
     "name": "stderr",
     "output_type": "stream",
     "text": [
      "100%|██████████| 3000/3000 [00:24<00:00, 122.79it/s]\n"
     ]
    },
    {
     "name": "stdout",
     "output_type": "stream",
     "text": [
      "Total Found: 31\n",
      "Image Size: 3000 4096\n"
     ]
    },
    {
     "name": "stderr",
     "output_type": "stream",
     "text": [
      "100%|██████████| 3000/3000 [00:21<00:00, 139.40it/s]\n"
     ]
    },
    {
     "name": "stdout",
     "output_type": "stream",
     "text": [
      "Total Found: 36\n",
      "Image Size: 3000 4096\n"
     ]
    },
    {
     "name": "stderr",
     "output_type": "stream",
     "text": [
      "100%|██████████| 3000/3000 [00:21<00:00, 140.43it/s]\n"
     ]
    },
    {
     "name": "stdout",
     "output_type": "stream",
     "text": [
      "Total Found: 32\n"
     ]
    },
    {
     "ename": "ValueError",
     "evalue": "need more than 0 values to unpack",
     "output_type": "error",
     "traceback": [
      "\u001b[1;31m---------------------------------------------------------------------------\u001b[0m",
      "\u001b[1;31mValueError\u001b[0m                                Traceback (most recent call last)",
      "\u001b[1;32m<ipython-input-6-434a39bdb9d6>\u001b[0m in \u001b[0;36m<module>\u001b[1;34m()\u001b[0m\n\u001b[0;32m      8\u001b[0m         \u001b[0mfilt1\u001b[0m \u001b[1;33m=\u001b[0m \u001b[0mcv2\u001b[0m\u001b[1;33m.\u001b[0m\u001b[0mimread\u001b[0m\u001b[1;33m(\u001b[0m\u001b[0mFilters_Directory\u001b[0m\u001b[1;33m+\u001b[0m\u001b[0mBaseName\u001b[0m\u001b[1;33m+\u001b[0m\u001b[1;34m\".tiff\"\u001b[0m\u001b[1;33m,\u001b[0m\u001b[1;36m1\u001b[0m\u001b[1;33m)\u001b[0m \u001b[1;31m#read in color\u001b[0m\u001b[1;33m\u001b[0m\u001b[0m\n\u001b[0;32m      9\u001b[0m         \u001b[1;31m# OpenCV follows BGR order, while matplotlib likely follows RGB order.\u001b[0m\u001b[1;33m\u001b[0m\u001b[1;33m\u001b[0m\u001b[0m\n\u001b[1;32m---> 10\u001b[1;33m         \u001b[0mb1\u001b[0m\u001b[1;33m,\u001b[0m\u001b[0mg1\u001b[0m\u001b[1;33m,\u001b[0m\u001b[0mr1\u001b[0m \u001b[1;33m=\u001b[0m \u001b[0mcv2\u001b[0m\u001b[1;33m.\u001b[0m\u001b[0msplit\u001b[0m\u001b[1;33m(\u001b[0m\u001b[0mfilt1\u001b[0m\u001b[1;33m)\u001b[0m\u001b[1;33m\u001b[0m\u001b[0m\n\u001b[0m\u001b[0;32m     11\u001b[0m         \u001b[0mfilt1_rgb\u001b[0m \u001b[1;33m=\u001b[0m \u001b[0mcv2\u001b[0m\u001b[1;33m.\u001b[0m\u001b[0mmerge\u001b[0m\u001b[1;33m(\u001b[0m\u001b[1;33m[\u001b[0m\u001b[0mr1\u001b[0m\u001b[1;33m,\u001b[0m\u001b[0mg1\u001b[0m\u001b[1;33m,\u001b[0m\u001b[0mb1\u001b[0m\u001b[1;33m]\u001b[0m\u001b[1;33m)\u001b[0m\u001b[1;33m\u001b[0m\u001b[0m\n\u001b[0;32m     12\u001b[0m         \u001b[0mRw\u001b[0m\u001b[1;33m,\u001b[0m\u001b[0mCl\u001b[0m\u001b[1;33m,\u001b[0m\u001b[0mNot\u001b[0m \u001b[1;33m=\u001b[0m  \u001b[0mfilt1\u001b[0m\u001b[1;33m.\u001b[0m\u001b[0mshape\u001b[0m\u001b[1;33m\u001b[0m\u001b[0m\n",
      "\u001b[1;31mValueError\u001b[0m: need more than 0 values to unpack"
     ]
    }
   ],
   "source": [
    "#workbook = xlsxwriter.Workbook('./hello.xlsx')\n",
    "#worksheet = workbook.add_worksheet() \n",
    "\n",
    "for filename in os.listdir(Images_Directory):\n",
    "    if filename.endswith(\".tiff\"):\n",
    "        BaseName = filename[0:-5]\n",
    "        img_bw = cv2.imread(Images_Directory+filename,0) #read in greyscale\n",
    "        filt1 = cv2.imread(Filters_Directory+BaseName+\".tiff\",1) #read in color\n",
    "        # OpenCV follows BGR order, while matplotlib likely follows RGB order.\n",
    "        b1,g1,r1 = cv2.split(filt1)\n",
    "        filt1_rgb = cv2.merge([r1,g1,b1])\n",
    "        Rw,Cl,Not =  filt1.shape\n",
    "        #plt.imshow(filt1_rgb)\n",
    "        print \"Image Size: \" + str(Rw) + \" \" + str (Cl)\n",
    "        tm.sleep(1)\n",
    "        Pimple=1\n",
    "        Dent=1\n",
    "        Scrtch=1\n",
    "        Unknown = 1\n",
    "        Total = 0\n",
    "        Prev_Pimple = [0,0]\n",
    "        Prev_Dent = [0,0]\n",
    "        Prev_Scrtch = [0,0]\n",
    "        Prev_Unknown = [0,0]\n",
    "        FaultLocations = []\n",
    "        FaultLocations_Pimple = []\n",
    "        FaultLocations_Scrtch = []\n",
    "        FaultLocations_Dent = []\n",
    "        \n",
    "       \n",
    "        \n",
    "        #FindCenterPoints\n",
    "        for i  in tqdm(range(Rw)):\n",
    "            for j  in range(Cl):\n",
    "                b,g,r = filt1[i,j]\n",
    "                #worksheet.write(i, j, str([r,g,b])) \n",
    "                if not (b==g and b==r):\n",
    "                    if Total>0:\n",
    "                        Diff=np.sum(np.square(np.array(FaultLocations)-np.array([i,j])),1)\n",
    "                        Diff_Bool = np.size(Diff[Diff<SizeFilter**2])\n",
    "                    else:\n",
    "                        Diff_Bool = False\n",
    "                    if np.sum(np.square(np.array([r,g,b])-np.array(PimpleColor)))<FilterError**2 and not Diff_Bool:\n",
    "                       #print \"Found Pimple \" + str(Pimple) + \" -- \"+ str(i) + \",\" + str (j) \n",
    "                        Prev_Pimple = [i,j]\n",
    "                        FaultLocations_Pimple.append([i,j])\n",
    "                        FaultLocations.append([i,j])\n",
    "                        Pimple+=1\n",
    "                        Total+=1\n",
    "                    elif np.sum(np.square(np.array([r,g,b])-np.array(DentColor)))<FilterError**2 and not Diff_Bool:\n",
    "                        #print \"Found Dent \" + str(Dent)+ \" -- \"+ str(i) + \",\" + str (j)\n",
    "                        Prev_Dent = [i,j]\n",
    "                        FaultLocations_Dent.append([i,j])\n",
    "                        FaultLocations.append([i,j])\n",
    "                        Dent +=1\n",
    "                        Total+=1\n",
    "                    elif np.sum(np.square(np.array([r,g,b])-np.array(ScratchColor)))<FilterError**2 and not Diff_Bool:\n",
    "                        #print \"Found Scratch \" + str(Scrtch)+ \" -- \"+ str(i) + \",\" + str (j)\n",
    "                        Prev_Scrtch = [i,j]\n",
    "                        FaultLocations_Scrtch.append([i,j])\n",
    "                        FaultLocations.append([i,j])\n",
    "                        Scrtch+=1\n",
    "                        Total+=1\n",
    "                    #elif ((i-Prev_Unknown[0])**2+(j-Prev_Unknown[1])**2)>SizeFilter**2:\n",
    "                    #    print \"Found Unknown \" + str(Unknown)+ \" -- \"+ str(i) + \",\" + str (j)\n",
    "                    #    Prev_Unknown = [i,j]\n",
    "                    #    FaultLocations.append([i,j])  \n",
    "                    #    Unknown+=1\n",
    "                    #    Total+=1\n",
    "                    #    break \n",
    "        print \"Total Found: \" + str(Total)\n",
    "\n",
    "        img_clr = cv2.imread(Images_Directory+filename,1) #read in greyscale\n",
    "        for k in range(len(FaultLocations_Pimple)):\n",
    "            cntr = FaultLocations_Pimple[k]\n",
    "            cv2.rectangle(img_clr,(cntr[1]-PopulationSize,cntr[0]+PopulationSize),(cntr[1]+PopulationSize,cntr[0]-PopulationSize),(PimpleColor[2], PimpleColor[1],PimpleColor[0]),3)\n",
    "            cutfig = img_bw[cntr[0]-PopulationSize:cntr[0]+PopulationSize,cntr[1]-PopulationSize:cntr[1]+PopulationSize].copy()\n",
    "            cv2.imwrite(Directory_P+BaseName+\"_\"+str(k)+\".tiff\",cutfig)\n",
    "        for k in range(len(FaultLocations_Dent)):\n",
    "            cntr = FaultLocations_Dent[k]\n",
    "            cv2.rectangle(img_clr,(cntr[1]-PopulationSize,cntr[0]+PopulationSize),(cntr[1]+PopulationSize,cntr[0]-PopulationSize),(DentColor[2], DentColor[1],DentColor[0]),3)\n",
    "            cutfig = img_bw[cntr[0]-PopulationSize:cntr[0]+PopulationSize,cntr[1]-PopulationSize:cntr[1]+PopulationSize].copy()\n",
    "            cv2.imwrite(Directory_D+BaseName+\"_\"+str(k)+\".tiff\",cutfig)\n",
    "        for k in range(len(FaultLocations_Scrtch)):\n",
    "            cntr = FaultLocations_Scrtch[k]\n",
    "            cv2.rectangle(img_clr,(cntr[1]-PopulationSize,cntr[0]+PopulationSize),(cntr[1]+PopulationSize,cntr[0]-PopulationSize),(ScratchColor[2], ScratchColor[1],ScratchColor[0]),3)\n",
    "            cutfig = img_bw[cntr[0]-PopulationSize:cntr[0]+PopulationSize,cntr[1]-PopulationSize:cntr[1]+PopulationSize].copy()\n",
    "            cv2.imwrite(Directory_S+BaseName+\"_\"+str(k)+\".tiff\",cutfig)\n",
    "        \n",
    "        \n",
    "        \n",
    "        #Resize image \n",
    "        scale_percent = 25 # percent of original size\n",
    "        width = int(img_clr.shape[1] * scale_percent / 100)\n",
    "        height = int(img_clr.shape[0] * scale_percent / 100)\n",
    "        dim = (width, height)\n",
    "        resized = cv2.resize(img_clr, dim, interpolation = cv2.INTER_AREA)\n",
    "\n",
    "        cv2.imwrite(Marked_Directory+BaseName+\"_marked.tiff\",resized)\n",
    "    continue\n",
    "#workbook.close() "
   ]
  },
  {
   "cell_type": "code",
   "execution_count": null,
   "metadata": {
    "scrolled": true
   },
   "outputs": [],
   "source": [
    "plt.imshow(img_clr)\n"
   ]
  },
  {
   "cell_type": "code",
   "execution_count": null,
   "metadata": {},
   "outputs": [],
   "source": []
  },
  {
   "cell_type": "code",
   "execution_count": null,
   "metadata": {},
   "outputs": [],
   "source": []
  },
  {
   "cell_type": "code",
   "execution_count": null,
   "metadata": {},
   "outputs": [],
   "source": []
  }
 ],
 "metadata": {
  "kernelspec": {
   "display_name": "Python 2",
   "language": "python",
   "name": "python2"
  },
  "language_info": {
   "codemirror_mode": {
    "name": "ipython",
    "version": 2
   },
   "file_extension": ".py",
   "mimetype": "text/x-python",
   "name": "python",
   "nbconvert_exporter": "python",
   "pygments_lexer": "ipython2",
   "version": "2.7.16"
  }
 },
 "nbformat": 4,
 "nbformat_minor": 2
}
