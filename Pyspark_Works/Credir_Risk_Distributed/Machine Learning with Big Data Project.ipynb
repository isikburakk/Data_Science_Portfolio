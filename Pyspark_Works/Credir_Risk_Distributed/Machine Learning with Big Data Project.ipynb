{
 "cells": [
  {
   "cell_type": "code",
   "execution_count": 1,
   "metadata": {},
   "outputs": [
    {
     "name": "stderr",
     "output_type": "stream",
     "text": [
      "Using TensorFlow backend.\n"
     ]
    }
   ],
   "source": [
    "\n",
    "import pyspark\n",
    "import os\n",
    "from pyspark import SparkConf, SparkContext\n",
    "from pyspark.sql import SQLContext\n",
    "import pyspark.sql.functions as F\n",
    "from pyspark.ml.feature import Imputer\n",
    "import pandas as pd\n",
    "import tensorflow # Imports tensorflow\n",
    "import keras # Imports keras"
   ]
  },
  {
   "cell_type": "code",
   "execution_count": 2,
   "metadata": {},
   "outputs": [],
   "source": [
    "from pyspark.sql.functions import *\n",
    "from pyspark.ml.classification import  RandomForestClassifier\n",
    "from pyspark.ml.feature import StringIndexer, OneHotEncoderEstimator, VectorAssembler, VectorSlicer\n",
    "from pyspark.ml import Pipeline\n",
    "from pyspark.ml.evaluation import BinaryClassificationEvaluator\n",
    "from pyspark.ml.linalg import Vectors\n",
    "from pyspark.ml.tuning import ParamGridBuilder, TrainValidationSplit\n",
    "from pyspark.ml.classification import LogisticRegression\n",
    "from pyspark.ml.evaluation import BinaryClassificationEvaluator\n",
    "from pyspark.ml.classification import RandomForestClassifier\n",
    "from pyspark.ml.classification import DecisionTreeClassifier\n",
    "from pyspark.mllib.stat import Statistics\n",
    "from pyspark.ml.stat import Correlation\n",
    "from pyspark.ml.feature import VectorAssembler\n",
    "from pyspark.ml.classification import RandomForestClassifier\n",
    "from pyspark.ml.classification import DecisionTreeClassifier\n",
    "from pyspark.ml.evaluation import MulticlassClassificationEvaluator\n",
    "from sklearn.metrics import confusion_matrix\n",
    "import matplotlib.pyplot as plt\n",
    "import numpy as np\n",
    "import itertools"
   ]
  },
  {
   "cell_type": "code",
   "execution_count": 5,
   "metadata": {},
   "outputs": [],
   "source": [
    "conf=SparkConf().setMaster(\"local\")\n",
    "sc=SparkContext(conf=conf)\n",
    "sqlContext = SQLContext(sc)"
   ]
  },
  {
   "cell_type": "code",
   "execution_count": 4,
   "metadata": {},
   "outputs": [],
   "source": [
    "sc.stop()"
   ]
  },
  {
   "cell_type": "code",
   "execution_count": 6,
   "metadata": {
    "scrolled": true
   },
   "outputs": [
    {
     "name": "stdout",
     "output_type": "stream",
     "text": [
      "root\n",
      " |-- _c0: integer (nullable = true)\n",
      " |-- ID: integer (nullable = true)\n",
      " |-- Temerrut_flag: integer (nullable = true)\n",
      " |-- Basvuru_tarihi: string (nullable = true)\n",
      " |-- Kullanim_orani: double (nullable = true)\n",
      " |-- Musteri_yasi: integer (nullable = true)\n",
      " |-- Dpd_30_adeti: integer (nullable = true)\n",
      " |-- Borcun_gelire_orani: double (nullable = true)\n",
      " |-- Gelir: double (nullable = true)\n",
      " |-- Acik_kredi_sayisi: integer (nullable = true)\n",
      " |-- Onceki_temerrut_sayisi: integer (nullable = true)\n",
      " |-- Acik_ev_kredi_sayisi: integer (nullable = true)\n",
      " |-- Son_2_yil_dpd_31_60_adeti: integer (nullable = true)\n",
      " |-- Bakmakla_yukumlu_kisi_sayisi: double (nullable = true)\n",
      " |-- Guncel_yil_ort_vdsz_mev_tutari: double (nullable = true)\n",
      " |-- Onceki_yil_max_vdsz_mev_tutari: double (nullable = true)\n",
      " |-- Onceki_yil_min_vdsz_mev_tutari: double (nullable = true)\n",
      " |-- Rotatif_krediler_kullanim_orani: string (nullable = true)\n",
      " |-- Kredi_vadesi: string (nullable = true)\n",
      " |-- Guncel_yil_gunluk_ort_kk_risk_tutari: double (nullable = true)\n",
      " |-- Guncel_vdsz_mev_tutari: double (nullable = true)\n",
      " |-- SGK_kodu: double (nullable = true)\n",
      " |-- Evin_sahiplik_durumu: string (nullable = true)\n",
      " |-- Istenen_evin_fiyati: integer (nullable = true)\n",
      " |-- Toplam_calisma_suresi: double (nullable = true)\n",
      " |-- Onceki_yil_ort_vdsz_mev_tutari: double (nullable = true)\n",
      " |-- Calisma_tipi: integer (nullable = true)\n",
      " |-- Son_1_yil_kredi_basvuru_sayisi: integer (nullable = true)\n",
      " |-- Son_6_ay_kredi_basvuru_sayisi: integer (nullable = true)\n",
      " |-- Son_3_ay_kredi_basvuru_sayisi: integer (nullable = true)\n",
      " |-- Son_2_yil_kabul_edilmis_kredi_sayisi: integer (nullable = true)\n",
      " |-- Son_1_yil_kabul_edilmis_kredi_sayisi: integer (nullable = true)\n",
      " |-- Son_6_ay_kabul_edilmis_kredi_sayisi: integer (nullable = true)\n",
      " |-- Son_3_ay_kabul_edilmis_kredi_sayisi: integer (nullable = true)\n",
      " |-- KK_flag: integer (nullable = true)\n",
      " |-- KK_limiti: double (nullable = true)\n",
      " |-- Dissal_kredi_skoru: integer (nullable = true)\n",
      " |-- Isyeri_tel_no: integer (nullable = true)\n",
      " |-- Evin_yasi: double (nullable = true)\n",
      " |-- Evin_bulundugu_sok_ort_ev_yasi: double (nullable = true)\n",
      " |-- En_son_calisma_gun_sayisi: double (nullable = true)\n",
      " |-- Yasadigi_yerin_nufus_yogunlugu: double (nullable = true)\n",
      " |-- Arac_yasi: double (nullable = true)\n",
      " |-- Arac_flag: integer (nullable = true)\n",
      " |-- Son_12_ay_kk_kullanim_orani: double (nullable = true)\n",
      " |-- Son_6_ay_kk_kullanim_orani: double (nullable = true)\n",
      " |-- Son_3_ay_kk_kullanim_orani: double (nullable = true)\n",
      "\n"
     ]
    }
   ],
   "source": [
    "data = sqlContext.read.format('com.databricks.spark.csv').options(header='true', inferschema='true').load('data.csv')\n",
    "data.printSchema()"
   ]
  },
  {
   "cell_type": "code",
   "execution_count": 7,
   "metadata": {},
   "outputs": [],
   "source": [
    "drop_list = ['_c0', 'ID', 'Basvuru_tarihi']\n",
    "data = data.select([column for column in data.columns if column not in drop_list])"
   ]
  },
  {
   "cell_type": "code",
   "execution_count": 8,
   "metadata": {},
   "outputs": [],
   "source": [
    "from pyspark.sql.functions import col, count, isnan, lit, sum\n",
    "\n",
    "def count_not_null(c, nan_as_null=False):\n",
    "    \"\"\"Use conversion between boolean and integer\n",
    "    - False -> 0\n",
    "    - True ->  1\n",
    "    \"\"\"\n",
    "    pred = col(c).isNotNull() & (~isnan(c) if nan_as_null else lit(True))\n",
    "    return sum(pred.cast(\"integer\")).alias(c)"
   ]
  },
  {
   "cell_type": "code",
   "execution_count": 9,
   "metadata": {
    "scrolled": true
   },
   "outputs": [],
   "source": [
    "exprs = [(count_not_null(c) / count(\"*\")).alias(c) for c in data.columns]\n",
    "completeness = data.agg(*exprs).toPandas()"
   ]
  },
  {
   "cell_type": "code",
   "execution_count": 10,
   "metadata": {
    "scrolled": true
   },
   "outputs": [
    {
     "data": {
      "text/plain": [
       "{'Temerrut_flag': {0: 1.0},\n",
       " 'Kullanim_orani': {0: 1.0},\n",
       " 'Musteri_yasi': {0: 1.0},\n",
       " 'Dpd_30_adeti': {0: 1.0},\n",
       " 'Borcun_gelire_orani': {0: 1.0},\n",
       " 'Gelir': {0: 1.0},\n",
       " 'Acik_kredi_sayisi': {0: 1.0},\n",
       " 'Onceki_temerrut_sayisi': {0: 1.0},\n",
       " 'Acik_ev_kredi_sayisi': {0: 1.0},\n",
       " 'Son_2_yil_dpd_31_60_adeti': {0: 1.0},\n",
       " 'Bakmakla_yukumlu_kisi_sayisi': {0: 0.97384},\n",
       " 'Guncel_yil_ort_vdsz_mev_tutari': {0: 0.7908733333333333},\n",
       " 'Onceki_yil_max_vdsz_mev_tutari': {0: 0.7909466666666667},\n",
       " 'Onceki_yil_min_vdsz_mev_tutari': {0: 0.7909733333333333},\n",
       " 'Rotatif_krediler_kullanim_orani': {0: 0.7896733333333333},\n",
       " 'Kredi_vadesi': {0: 1.0},\n",
       " 'Guncel_yil_gunluk_ort_kk_risk_tutari': {0: 0.36102},\n",
       " 'Guncel_vdsz_mev_tutari': {0: 0.028373333333333334},\n",
       " 'SGK_kodu': {0: 0.01058},\n",
       " 'Evin_sahiplik_durumu': {0: 1.0},\n",
       " 'Istenen_evin_fiyati': {0: 1.0},\n",
       " 'Toplam_calisma_suresi': {0: 0.2904},\n",
       " 'Onceki_yil_ort_vdsz_mev_tutari': {0: 0.028373333333333334},\n",
       " 'Calisma_tipi': {0: 1.0},\n",
       " 'Son_1_yil_kredi_basvuru_sayisi': {0: 1.0},\n",
       " 'Son_6_ay_kredi_basvuru_sayisi': {0: 1.0},\n",
       " 'Son_3_ay_kredi_basvuru_sayisi': {0: 1.0},\n",
       " 'Son_2_yil_kabul_edilmis_kredi_sayisi': {0: 1.0},\n",
       " 'Son_1_yil_kabul_edilmis_kredi_sayisi': {0: 1.0},\n",
       " 'Son_6_ay_kabul_edilmis_kredi_sayisi': {0: 1.0},\n",
       " 'Son_3_ay_kabul_edilmis_kredi_sayisi': {0: 1.0},\n",
       " 'KK_flag': {0: 1.0},\n",
       " 'KK_limiti': {0: 0.5017},\n",
       " 'Dissal_kredi_skoru': {0: 1.0},\n",
       " 'Isyeri_tel_no': {0: 1.0},\n",
       " 'Evin_yasi': {0: 1.0},\n",
       " 'Evin_bulundugu_sok_ort_ev_yasi': {0: 1.0},\n",
       " 'En_son_calisma_gun_sayisi': {0: 0.018966666666666666},\n",
       " 'Yasadigi_yerin_nufus_yogunlugu': {0: 1.0},\n",
       " 'Arac_yasi': {0: 1.0},\n",
       " 'Arac_flag': {0: 1.0},\n",
       " 'Son_12_ay_kk_kullanim_orani': {0: 1.0},\n",
       " 'Son_6_ay_kk_kullanim_orani': {0: 1.0},\n",
       " 'Son_3_ay_kk_kullanim_orani': {0: 1.0}}"
      ]
     },
     "execution_count": 10,
     "metadata": {},
     "output_type": "execute_result"
    }
   ],
   "source": [
    "completeness.to_dict()"
   ]
  },
  {
   "cell_type": "code",
   "execution_count": 11,
   "metadata": {
    "scrolled": true
   },
   "outputs": [
    {
     "name": "stdout",
     "output_type": "stream",
     "text": [
      "root\n",
      " |-- Temerrut_flag: integer (nullable = true)\n",
      " |-- Kullanim_orani: double (nullable = true)\n",
      " |-- Musteri_yasi: integer (nullable = true)\n",
      " |-- Dpd_30_adeti: integer (nullable = true)\n",
      " |-- Borcun_gelire_orani: double (nullable = true)\n",
      " |-- Gelir: double (nullable = true)\n",
      " |-- Acik_kredi_sayisi: integer (nullable = true)\n",
      " |-- Onceki_temerrut_sayisi: integer (nullable = true)\n",
      " |-- Acik_ev_kredi_sayisi: integer (nullable = true)\n",
      " |-- Son_2_yil_dpd_31_60_adeti: integer (nullable = true)\n",
      " |-- Kredi_vadesi: string (nullable = true)\n",
      " |-- Evin_sahiplik_durumu: string (nullable = true)\n",
      " |-- Istenen_evin_fiyati: integer (nullable = true)\n",
      " |-- Calisma_tipi: integer (nullable = true)\n",
      " |-- Son_1_yil_kredi_basvuru_sayisi: integer (nullable = true)\n",
      " |-- Son_6_ay_kredi_basvuru_sayisi: integer (nullable = true)\n",
      " |-- Son_3_ay_kredi_basvuru_sayisi: integer (nullable = true)\n",
      " |-- Son_2_yil_kabul_edilmis_kredi_sayisi: integer (nullable = true)\n",
      " |-- Son_1_yil_kabul_edilmis_kredi_sayisi: integer (nullable = true)\n",
      " |-- Son_6_ay_kabul_edilmis_kredi_sayisi: integer (nullable = true)\n",
      " |-- Son_3_ay_kabul_edilmis_kredi_sayisi: integer (nullable = true)\n",
      " |-- KK_flag: integer (nullable = true)\n",
      " |-- Dissal_kredi_skoru: integer (nullable = true)\n",
      " |-- Evin_yasi: double (nullable = true)\n",
      " |-- Evin_bulundugu_sok_ort_ev_yasi: double (nullable = true)\n",
      " |-- Yasadigi_yerin_nufus_yogunlugu: double (nullable = true)\n",
      " |-- Arac_yasi: double (nullable = true)\n",
      " |-- Arac_flag: integer (nullable = true)\n",
      " |-- Son_12_ay_kk_kullanim_orani: double (nullable = true)\n",
      " |-- Son_6_ay_kk_kullanim_orani: double (nullable = true)\n",
      " |-- Son_3_ay_kk_kullanim_orani: double (nullable = true)\n",
      "\n"
     ]
    }
   ],
   "source": [
    "drop_list = ['Bakmakla_yukumlu_kisi_sayisi', 'Guncel_yil_ort_vdsz_mev_tutari', 'Onceki_yil_max_vdsz_mev_tutari',\n",
    "            'Onceki_yil_min_vdsz_mev_tutari', 'Rotatif_krediler_kullanim_orani', 'Guncel_yil_gunluk_ort_kk_risk_tutari',\n",
    "            'Guncel_vdsz_mev_tutari', 'SGK_kodu', 'Toplam_calisma_suresi', 'Onceki_yil_ort_vdsz_mev_tutari', 'KK_limiti',\n",
    "            'En_son_calisma_gun_sayisi', 'Isyeri_tel_no']\n",
    "data = data.select([column for column in data.columns if column not in drop_list])\n",
    "data.printSchema()"
   ]
  },
  {
   "cell_type": "code",
   "execution_count": 12,
   "metadata": {
    "scrolled": true
   },
   "outputs": [
    {
     "data": {
      "text/html": [
       "<div>\n",
       "<style scoped>\n",
       "    .dataframe tbody tr th:only-of-type {\n",
       "        vertical-align: middle;\n",
       "    }\n",
       "\n",
       "    .dataframe tbody tr th {\n",
       "        vertical-align: top;\n",
       "    }\n",
       "\n",
       "    .dataframe thead th {\n",
       "        text-align: right;\n",
       "    }\n",
       "</style>\n",
       "<table border=\"1\" class=\"dataframe\">\n",
       "  <thead>\n",
       "    <tr style=\"text-align: right;\">\n",
       "      <th></th>\n",
       "      <th>summary</th>\n",
       "      <th>Temerrut_flag</th>\n",
       "      <th>Kullanim_orani</th>\n",
       "      <th>Musteri_yasi</th>\n",
       "      <th>Dpd_30_adeti</th>\n",
       "      <th>Borcun_gelire_orani</th>\n",
       "      <th>Gelir</th>\n",
       "      <th>Acik_kredi_sayisi</th>\n",
       "      <th>Onceki_temerrut_sayisi</th>\n",
       "      <th>Acik_ev_kredi_sayisi</th>\n",
       "      <th>...</th>\n",
       "      <th>KK_flag</th>\n",
       "      <th>Dissal_kredi_skoru</th>\n",
       "      <th>Evin_yasi</th>\n",
       "      <th>Evin_bulundugu_sok_ort_ev_yasi</th>\n",
       "      <th>Yasadigi_yerin_nufus_yogunlugu</th>\n",
       "      <th>Arac_yasi</th>\n",
       "      <th>Arac_flag</th>\n",
       "      <th>Son_12_ay_kk_kullanim_orani</th>\n",
       "      <th>Son_6_ay_kk_kullanim_orani</th>\n",
       "      <th>Son_3_ay_kk_kullanim_orani</th>\n",
       "    </tr>\n",
       "  </thead>\n",
       "  <tbody>\n",
       "    <tr>\n",
       "      <th>0</th>\n",
       "      <td>count</td>\n",
       "      <td>150000</td>\n",
       "      <td>150000</td>\n",
       "      <td>150000</td>\n",
       "      <td>150000</td>\n",
       "      <td>150000</td>\n",
       "      <td>150000</td>\n",
       "      <td>150000</td>\n",
       "      <td>150000</td>\n",
       "      <td>150000</td>\n",
       "      <td>...</td>\n",
       "      <td>150000</td>\n",
       "      <td>150000</td>\n",
       "      <td>150000</td>\n",
       "      <td>150000</td>\n",
       "      <td>150000</td>\n",
       "      <td>150000</td>\n",
       "      <td>150000</td>\n",
       "      <td>150000</td>\n",
       "      <td>150000</td>\n",
       "      <td>150000</td>\n",
       "    </tr>\n",
       "    <tr>\n",
       "      <th>1</th>\n",
       "      <td>mean</td>\n",
       "      <td>0.06684</td>\n",
       "      <td>0.3191958274812765</td>\n",
       "      <td>52.295206666666665</td>\n",
       "      <td>0.30208666666666667</td>\n",
       "      <td>1.2869633745276492</td>\n",
       "      <td>6670.221237396816</td>\n",
       "      <td>8.45276</td>\n",
       "      <td>0.26597333333333334</td>\n",
       "      <td>1.01824</td>\n",
       "      <td>...</td>\n",
       "      <td>0.5017</td>\n",
       "      <td>1499.5202333333334</td>\n",
       "      <td>1.051883073333331</td>\n",
       "      <td>1.1313164188399727</td>\n",
       "      <td>0.020863774200010066</td>\n",
       "      <td>3.00126</td>\n",
       "      <td>0.37477333333333335</td>\n",
       "      <td>0.5269471087855635</td>\n",
       "      <td>0.6094595195927325</td>\n",
       "      <td>0.6236508695457744</td>\n",
       "    </tr>\n",
       "    <tr>\n",
       "      <th>2</th>\n",
       "      <td>stddev</td>\n",
       "      <td>0.24974553092872043</td>\n",
       "      <td>0.3494813808829608</td>\n",
       "      <td>14.771865863100352</td>\n",
       "      <td>2.1134537508701925</td>\n",
       "      <td>1.884543943661449</td>\n",
       "      <td>12880.445756228004</td>\n",
       "      <td>5.145950989643292</td>\n",
       "      <td>4.169303787594438</td>\n",
       "      <td>1.1297709848828545</td>\n",
       "      <td>...</td>\n",
       "      <td>0.4999987766570161</td>\n",
       "      <td>288.6729169682646</td>\n",
       "      <td>0.5490326029846994</td>\n",
       "      <td>0.6101384946398969</td>\n",
       "      <td>0.013814647806887136</td>\n",
       "      <td>4.693336261314281</td>\n",
       "      <td>0.4840659501430059</td>\n",
       "      <td>0.14781774882044998</td>\n",
       "      <td>0.22824408278007977</td>\n",
       "      <td>0.2213779180692427</td>\n",
       "    </tr>\n",
       "    <tr>\n",
       "      <th>3</th>\n",
       "      <td>min</td>\n",
       "      <td>0</td>\n",
       "      <td>0.0</td>\n",
       "      <td>0</td>\n",
       "      <td>0</td>\n",
       "      <td>0.0</td>\n",
       "      <td>0.0</td>\n",
       "      <td>0</td>\n",
       "      <td>0</td>\n",
       "      <td>0</td>\n",
       "      <td>...</td>\n",
       "      <td>0</td>\n",
       "      <td>1000</td>\n",
       "      <td>0.1</td>\n",
       "      <td>0.085951</td>\n",
       "      <td>5.33E-4</td>\n",
       "      <td>0.0</td>\n",
       "      <td>0</td>\n",
       "      <td>0.009999999</td>\n",
       "      <td>0.00436927179</td>\n",
       "      <td>0.054369266789999995</td>\n",
       "    </tr>\n",
       "    <tr>\n",
       "      <th>4</th>\n",
       "      <td>max</td>\n",
       "      <td>1</td>\n",
       "      <td>1.0</td>\n",
       "      <td>109</td>\n",
       "      <td>98</td>\n",
       "      <td>5.0</td>\n",
       "      <td>3008750.0</td>\n",
       "      <td>58</td>\n",
       "      <td>98</td>\n",
       "      <td>54</td>\n",
       "      <td>...</td>\n",
       "      <td>1</td>\n",
       "      <td>2000</td>\n",
       "      <td>2.0</td>\n",
       "      <td>2.5987</td>\n",
       "      <td>0.072508</td>\n",
       "      <td>15.0</td>\n",
       "      <td>1</td>\n",
       "      <td>1.0</td>\n",
       "      <td>1.0</td>\n",
       "      <td>1.0</td>\n",
       "    </tr>\n",
       "  </tbody>\n",
       "</table>\n",
       "<p>5 rows × 32 columns</p>\n",
       "</div>"
      ],
      "text/plain": [
       "  summary        Temerrut_flag      Kullanim_orani        Musteri_yasi  \\\n",
       "0   count               150000              150000              150000   \n",
       "1    mean              0.06684  0.3191958274812765  52.295206666666665   \n",
       "2  stddev  0.24974553092872043  0.3494813808829608  14.771865863100352   \n",
       "3     min                    0                 0.0                   0   \n",
       "4     max                    1                 1.0                 109   \n",
       "\n",
       "          Dpd_30_adeti Borcun_gelire_orani               Gelir  \\\n",
       "0               150000              150000              150000   \n",
       "1  0.30208666666666667  1.2869633745276492   6670.221237396816   \n",
       "2   2.1134537508701925   1.884543943661449  12880.445756228004   \n",
       "3                    0                 0.0                 0.0   \n",
       "4                   98                 5.0           3008750.0   \n",
       "\n",
       "   Acik_kredi_sayisi Onceki_temerrut_sayisi Acik_ev_kredi_sayisi  ...  \\\n",
       "0             150000                 150000               150000  ...   \n",
       "1            8.45276    0.26597333333333334              1.01824  ...   \n",
       "2  5.145950989643292      4.169303787594438   1.1297709848828545  ...   \n",
       "3                  0                      0                    0  ...   \n",
       "4                 58                     98                   54  ...   \n",
       "\n",
       "              KK_flag  Dissal_kredi_skoru           Evin_yasi  \\\n",
       "0              150000              150000              150000   \n",
       "1              0.5017  1499.5202333333334   1.051883073333331   \n",
       "2  0.4999987766570161   288.6729169682646  0.5490326029846994   \n",
       "3                   0                1000                 0.1   \n",
       "4                   1                2000                 2.0   \n",
       "\n",
       "  Evin_bulundugu_sok_ort_ev_yasi Yasadigi_yerin_nufus_yogunlugu  \\\n",
       "0                         150000                         150000   \n",
       "1             1.1313164188399727           0.020863774200010066   \n",
       "2             0.6101384946398969           0.013814647806887136   \n",
       "3                       0.085951                        5.33E-4   \n",
       "4                         2.5987                       0.072508   \n",
       "\n",
       "           Arac_yasi            Arac_flag Son_12_ay_kk_kullanim_orani  \\\n",
       "0             150000               150000                      150000   \n",
       "1            3.00126  0.37477333333333335          0.5269471087855635   \n",
       "2  4.693336261314281   0.4840659501430059         0.14781774882044998   \n",
       "3                0.0                    0                 0.009999999   \n",
       "4               15.0                    1                         1.0   \n",
       "\n",
       "  Son_6_ay_kk_kullanim_orani Son_3_ay_kk_kullanim_orani  \n",
       "0                     150000                     150000  \n",
       "1         0.6094595195927325         0.6236508695457744  \n",
       "2        0.22824408278007977         0.2213779180692427  \n",
       "3              0.00436927179       0.054369266789999995  \n",
       "4                        1.0                        1.0  \n",
       "\n",
       "[5 rows x 32 columns]"
      ]
     },
     "execution_count": 12,
     "metadata": {},
     "output_type": "execute_result"
    }
   ],
   "source": [
    "## Feature Selection with Feature Importance Score\n",
    "data.describe().toPandas() #Default rate oranı 6,68%"
   ]
  },
  {
   "cell_type": "code",
   "execution_count": 13,
   "metadata": {},
   "outputs": [],
   "source": [
    "#Data Preprocessing\n",
    "# one hot encoding and assembling\n",
    "#encoding_var = [i[0] for i in df.dtypes if (i[1]=='string') & (i[0]!='y')]\n",
    "num_var = [i[0] for i in data.dtypes if ((i[1]=='int') | (i[1]=='double')) & (i[0]!='Temerrut_flag')]\n",
    "\n",
    "#string_indexes = [StringIndexer(inputCol = c, outputCol = 'IDX_' + c, handleInvalid = 'keep') for c in encoding_var]\n",
    "#onehot_indexes = [OneHotEncoderEstimator(inputCols = ['IDX_' + c], outputCols = ['OHE_' + c]) for c in encoding_var]\n",
    "#label_indexes = StringIndexer(inputCol = 'y', outputCol = 'label', handleInvalid = 'keep')\n",
    "assembler = VectorAssembler(inputCols = num_var , outputCol = \"features\")\n",
    "rf = RandomForestClassifier(labelCol=\"Temerrut_flag\", featuresCol=\"features\", seed = 8464,\n",
    "                            numTrees=10, cacheNodeIds = True, subsamplingRate = 0.7)\n",
    "\n",
    "pipe = Pipeline(stages = [assembler,rf])"
   ]
  },
  {
   "cell_type": "code",
   "execution_count": 14,
   "metadata": {},
   "outputs": [],
   "source": [
    "assembled = assembler.transform(data)"
   ]
  },
  {
   "cell_type": "code",
   "execution_count": 19,
   "metadata": {},
   "outputs": [
    {
     "data": {
      "text/plain": [
       "[Row(features=DenseVector([0.7661, 45.0, 2.0, 0.803, 9120.0, 13.0, 0.0, 6.0, 0.0, 959346.0, 5.0, 4.0, 3.0, 0.0, 0.0, 0.0, 0.0, 0.0, 1.0, 1926.0, 1.198, 1.3286, 0.0188, 12.0, 1.0, 0.4577, 0.458, 0.4963])),\n",
       " Row(features=DenseVector([0.9572, 40.0, 0.0, 0.1219, 2600.0, 4.0, 0.0, 0.0, 0.0, 613856.0, 3.0, 4.0, 3.0, 0.0, 2.0, 1.0, 1.0, 1.0, 1.0, 1596.0, 1.93, 1.9628, 0.0035, 2.0, 1.0, 0.4096, 0.4012, 0.4491])),\n",
       " Row(features=DenseVector([0.6582, 38.0, 1.0, 0.0851, 3042.0, 2.0, 1.0, 0.0, 0.0, 412920.0, 6.0, 4.0, 3.0, 0.0, 0.0, 0.0, 0.0, 0.0, 0.0, 1802.0, 1.836, 2.3152, 0.01, 7.0, 1.0, 0.3866, 0.3809, 0.4138])),\n",
       " Row(features=DenseVector([0.2338, 30.0, 0.0, 0.036, 3300.0, 5.0, 0.0, 0.0, 0.0, 978835.0, 3.0, 2.0, 1.0, 1.0, 3.0, 2.0, 2.0, 0.0, 1.0, 1801.0, 1.196, 1.5237, 0.008, 12.0, 1.0, 0.3023, 0.3004, 0.3121])),\n",
       " Row(features=DenseVector([0.9072, 49.0, 1.0, 0.0249, 63588.0, 7.0, 0.0, 1.0, 0.0, 919228.0, 4.0, 3.0, 2.0, 2.0, 5.0, 4.0, 3.0, 1.0, 1.0, 1068.0, 1.201, 1.5565, 0.0287, 1.0, 1.0, 0.4991, 0.4902, 0.5356])),\n",
       " Row(features=DenseVector([0.2132, 74.0, 0.0, 0.3756, 3500.0, 3.0, 0.0, 1.0, 0.0, 429311.0, 5.0, 4.0, 3.0, 0.0, 3.0, 2.0, 2.0, 0.0, 0.0, 1367.0, 1.097, 1.3493, 0.0358, 3.0, 1.0, 0.7421, 0.7438, 0.7544])),\n",
       " Row(features=DenseVector([0.3057, 57.0, 0.0, 5.0, 6670.2212, 8.0, 0.0, 3.0, 0.0, 705530.0, 6.0, 1.0, 0.0, 0.0, 4.0, 3.0, 3.0, 1.0, 0.0, 1302.0, 1.604, 2.0676, 0.0358, 15.0, 1.0, 0.5731, 1.0, 1.0])),\n",
       " Row(features=DenseVector([0.7545, 39.0, 0.0, 0.2099, 3500.0, 8.0, 0.0, 0.0, 0.0, 879344.0, 3.0, 2.0, 1.0, 1.0, 0.0, 0.0, 0.0, 0.0, 0.0, 1015.0, 0.204, 0.2348, 0.0031, 7.0, 1.0, 0.3975, 0.3921, 0.4298])),\n",
       " Row(features=DenseVector([0.117, 27.0, 0.0, 5.0, 6670.2212, 2.0, 0.0, 0.0, 0.0, 675418.0, 1.0, 3.0, 2.0, 2.0, 1.0, 0.0, 0.0, 0.0, 1.0, 1275.0, 0.587, 0.5576, 0.0186, 13.0, 1.0, 0.2712, 0.73, 0.7358])),\n",
       " Row(features=DenseVector([0.1892, 57.0, 0.0, 0.6063, 23684.0, 9.0, 0.0, 4.0, 0.0, 936915.0, 4.0, 0.0, 0.0, 0.0, 3.0, 2.0, 2.0, 0.0, 0.0, 1384.0, 1.19, 1.3352, 0.0197, 3.0, 1.0, 0.5719, 0.5761, 0.5855]))]"
      ]
     },
     "execution_count": 19,
     "metadata": {},
     "output_type": "execute_result"
    }
   ],
   "source": [
    "assembled.select(\"features\").rdd.take(10)"
   ]
  },
  {
   "cell_type": "code",
   "execution_count": 13,
   "metadata": {},
   "outputs": [],
   "source": [
    "mod = pipe.fit(data)"
   ]
  },
  {
   "cell_type": "code",
   "execution_count": 14,
   "metadata": {},
   "outputs": [],
   "source": [
    "data2 = mod.transform(data)"
   ]
  },
  {
   "cell_type": "code",
   "execution_count": 15,
   "metadata": {},
   "outputs": [
    {
     "data": {
      "text/plain": [
       "SparseVector(28, {0: 0.2154, 1: 0.0087, 2: 0.1198, 3: 0.0037, 4: 0.0004, 5: 0.0062, 6: 0.4474, 7: 0.002, 8: 0.1572, 9: 0.0009, 11: 0.0005, 13: 0.0003, 14: 0.0004, 15: 0.0008, 16: 0.0003, 17: 0.0001, 19: 0.0007, 20: 0.0002, 21: 0.0006, 22: 0.0006, 23: 0.0003, 25: 0.0144, 26: 0.003, 27: 0.0162})"
      ]
     },
     "execution_count": 15,
     "metadata": {},
     "output_type": "execute_result"
    }
   ],
   "source": [
    "mod.stages[-1].featureImportances"
   ]
  },
  {
   "cell_type": "code",
   "execution_count": 16,
   "metadata": {},
   "outputs": [],
   "source": [
    "def ExtractFeatureImp(featureImp, dataset, featuresCol):\n",
    "    list_extract = []\n",
    "    for i in dataset.schema[featuresCol].metadata[\"ml_attr\"][\"attrs\"]:\n",
    "        list_extract = list_extract + dataset.schema[featuresCol].metadata[\"ml_attr\"][\"attrs\"][i]\n",
    "    varlist = pd.DataFrame(list_extract)\n",
    "    varlist['score'] = varlist['idx'].apply(lambda x: featureImp[x])\n",
    "    return(varlist.sort_values('score', ascending = False))"
   ]
  },
  {
   "cell_type": "code",
   "execution_count": 17,
   "metadata": {},
   "outputs": [
    {
     "data": {
      "text/html": [
       "<div>\n",
       "<style scoped>\n",
       "    .dataframe tbody tr th:only-of-type {\n",
       "        vertical-align: middle;\n",
       "    }\n",
       "\n",
       "    .dataframe tbody tr th {\n",
       "        vertical-align: top;\n",
       "    }\n",
       "\n",
       "    .dataframe thead th {\n",
       "        text-align: right;\n",
       "    }\n",
       "</style>\n",
       "<table border=\"1\" class=\"dataframe\">\n",
       "  <thead>\n",
       "    <tr style=\"text-align: right;\">\n",
       "      <th></th>\n",
       "      <th>idx</th>\n",
       "      <th>name</th>\n",
       "      <th>score</th>\n",
       "    </tr>\n",
       "  </thead>\n",
       "  <tbody>\n",
       "    <tr>\n",
       "      <th>6</th>\n",
       "      <td>6</td>\n",
       "      <td>Onceki_temerrut_sayisi</td>\n",
       "      <td>0.447381</td>\n",
       "    </tr>\n",
       "    <tr>\n",
       "      <th>0</th>\n",
       "      <td>0</td>\n",
       "      <td>Kullanim_orani</td>\n",
       "      <td>0.215441</td>\n",
       "    </tr>\n",
       "    <tr>\n",
       "      <th>8</th>\n",
       "      <td>8</td>\n",
       "      <td>Son_2_yil_dpd_31_60_adeti</td>\n",
       "      <td>0.157214</td>\n",
       "    </tr>\n",
       "    <tr>\n",
       "      <th>2</th>\n",
       "      <td>2</td>\n",
       "      <td>Dpd_30_adeti</td>\n",
       "      <td>0.119814</td>\n",
       "    </tr>\n",
       "    <tr>\n",
       "      <th>27</th>\n",
       "      <td>27</td>\n",
       "      <td>Son_3_ay_kk_kullanim_orani</td>\n",
       "      <td>0.016186</td>\n",
       "    </tr>\n",
       "    <tr>\n",
       "      <th>25</th>\n",
       "      <td>25</td>\n",
       "      <td>Son_12_ay_kk_kullanim_orani</td>\n",
       "      <td>0.014386</td>\n",
       "    </tr>\n",
       "    <tr>\n",
       "      <th>1</th>\n",
       "      <td>1</td>\n",
       "      <td>Musteri_yasi</td>\n",
       "      <td>0.008653</td>\n",
       "    </tr>\n",
       "    <tr>\n",
       "      <th>5</th>\n",
       "      <td>5</td>\n",
       "      <td>Acik_kredi_sayisi</td>\n",
       "      <td>0.006212</td>\n",
       "    </tr>\n",
       "    <tr>\n",
       "      <th>3</th>\n",
       "      <td>3</td>\n",
       "      <td>Borcun_gelire_orani</td>\n",
       "      <td>0.003655</td>\n",
       "    </tr>\n",
       "    <tr>\n",
       "      <th>26</th>\n",
       "      <td>26</td>\n",
       "      <td>Son_6_ay_kk_kullanim_orani</td>\n",
       "      <td>0.002985</td>\n",
       "    </tr>\n",
       "  </tbody>\n",
       "</table>\n",
       "</div>"
      ],
      "text/plain": [
       "    idx                         name     score\n",
       "6     6       Onceki_temerrut_sayisi  0.447381\n",
       "0     0               Kullanim_orani  0.215441\n",
       "8     8    Son_2_yil_dpd_31_60_adeti  0.157214\n",
       "2     2                 Dpd_30_adeti  0.119814\n",
       "27   27   Son_3_ay_kk_kullanim_orani  0.016186\n",
       "25   25  Son_12_ay_kk_kullanim_orani  0.014386\n",
       "1     1                 Musteri_yasi  0.008653\n",
       "5     5            Acik_kredi_sayisi  0.006212\n",
       "3     3          Borcun_gelire_orani  0.003655\n",
       "26   26   Son_6_ay_kk_kullanim_orani  0.002985"
      ]
     },
     "execution_count": 17,
     "metadata": {},
     "output_type": "execute_result"
    }
   ],
   "source": [
    "ExtractFeatureImp(mod.stages[-1].featureImportances, data2, \"features\").head(10)"
   ]
  },
  {
   "cell_type": "code",
   "execution_count": 18,
   "metadata": {},
   "outputs": [
    {
     "data": {
      "text/html": [
       "<div>\n",
       "<style scoped>\n",
       "    .dataframe tbody tr th:only-of-type {\n",
       "        vertical-align: middle;\n",
       "    }\n",
       "\n",
       "    .dataframe tbody tr th {\n",
       "        vertical-align: top;\n",
       "    }\n",
       "\n",
       "    .dataframe thead th {\n",
       "        text-align: right;\n",
       "    }\n",
       "</style>\n",
       "<table border=\"1\" class=\"dataframe\">\n",
       "  <thead>\n",
       "    <tr style=\"text-align: right;\">\n",
       "      <th></th>\n",
       "      <th>name</th>\n",
       "      <th>score</th>\n",
       "    </tr>\n",
       "  </thead>\n",
       "  <tbody>\n",
       "    <tr>\n",
       "      <th>6</th>\n",
       "      <td>Onceki_temerrut_sayisi</td>\n",
       "      <td>0.447381</td>\n",
       "    </tr>\n",
       "    <tr>\n",
       "      <th>0</th>\n",
       "      <td>Kullanim_orani</td>\n",
       "      <td>0.215441</td>\n",
       "    </tr>\n",
       "    <tr>\n",
       "      <th>8</th>\n",
       "      <td>Son_2_yil_dpd_31_60_adeti</td>\n",
       "      <td>0.157214</td>\n",
       "    </tr>\n",
       "    <tr>\n",
       "      <th>2</th>\n",
       "      <td>Dpd_30_adeti</td>\n",
       "      <td>0.119814</td>\n",
       "    </tr>\n",
       "    <tr>\n",
       "      <th>27</th>\n",
       "      <td>Son_3_ay_kk_kullanim_orani</td>\n",
       "      <td>0.016186</td>\n",
       "    </tr>\n",
       "    <tr>\n",
       "      <th>25</th>\n",
       "      <td>Son_12_ay_kk_kullanim_orani</td>\n",
       "      <td>0.014386</td>\n",
       "    </tr>\n",
       "    <tr>\n",
       "      <th>1</th>\n",
       "      <td>Musteri_yasi</td>\n",
       "      <td>0.008653</td>\n",
       "    </tr>\n",
       "    <tr>\n",
       "      <th>5</th>\n",
       "      <td>Acik_kredi_sayisi</td>\n",
       "      <td>0.006212</td>\n",
       "    </tr>\n",
       "    <tr>\n",
       "      <th>3</th>\n",
       "      <td>Borcun_gelire_orani</td>\n",
       "      <td>0.003655</td>\n",
       "    </tr>\n",
       "    <tr>\n",
       "      <th>26</th>\n",
       "      <td>Son_6_ay_kk_kullanim_orani</td>\n",
       "      <td>0.002985</td>\n",
       "    </tr>\n",
       "  </tbody>\n",
       "</table>\n",
       "</div>"
      ],
      "text/plain": [
       "                           name     score\n",
       "6        Onceki_temerrut_sayisi  0.447381\n",
       "0                Kullanim_orani  0.215441\n",
       "8     Son_2_yil_dpd_31_60_adeti  0.157214\n",
       "2                  Dpd_30_adeti  0.119814\n",
       "27   Son_3_ay_kk_kullanim_orani  0.016186\n",
       "25  Son_12_ay_kk_kullanim_orani  0.014386\n",
       "1                  Musteri_yasi  0.008653\n",
       "5             Acik_kredi_sayisi  0.006212\n",
       "3           Borcun_gelire_orani  0.003655\n",
       "26   Son_6_ay_kk_kullanim_orani  0.002985"
      ]
     },
     "execution_count": 18,
     "metadata": {},
     "output_type": "execute_result"
    }
   ],
   "source": [
    "var_list = ExtractFeatureImp(mod.stages[-1].featureImportances, data2, \"features\").head(10)\n",
    "var_list.iloc[:,1:3]"
   ]
  },
  {
   "cell_type": "code",
   "execution_count": 20,
   "metadata": {},
   "outputs": [
    {
     "data": {
      "image/png": "[encoded data removed]",
      "text/plain": [
       "<Figure size 720x360 with 1 Axes>"
      ]
     },
     "metadata": {
      "needs_background": "light"
     },
     "output_type": "display_data"
    }
   ],
   "source": [
    "import pandas as pd\n",
    "import matplotlib.pyplot as plt\n",
    "%matplotlib inline\n",
    "score = var_list['score']*100\n",
    "name = var_list['name']\n",
    "FeatureImportance = {\"Score\":score, \"Feature\" : name}\n",
    "FeatureImportance = pd.DataFrame(FeatureImportance)\n",
    "\n",
    "FeatureImportance.plot(figsize = (10,5), kind = \"bar\", color = \"orange\",\n",
    "                               x = \"Feature\", y = \"Score\", legend = False)\n",
    "\n",
    "plt.xlabel(\"\", fontsize = 10)\n",
    "plt.ylabel(\"Feature importance score\", fontsize = 10)\n",
    "plt.title(\"Feature Selection by Using Feature Importance Score\", fontsize = 15)\n",
    "plt.xticks(size = 10)\n",
    "plt.yticks(size = 10)\n",
    "plt.show()"
   ]
  },
  {
   "cell_type": "code",
   "execution_count": 57,
   "metadata": {},
   "outputs": [],
   "source": [
    "idx = var_list['idx']"
   ]
  },
  {
   "cell_type": "code",
   "execution_count": 44,
   "metadata": {},
   "outputs": [],
   "source": [
    "#### Logistic regression\n",
    "from pyspark.ml.linalg import Vectors\n",
    "from pyspark.ml.feature import VectorAssembler\n",
    "log_data = data[['Temerrut_flag','Onceki_temerrut_sayisi', 'Kullanim_orani', 'Son_2_yil_dpd_31_60_adeti','Son_3_ay_kk_kullanim_orani', \n",
    "               'Son_12_ay_kk_kullanim_orani', 'Musteri_yasi', 'Acik_kredi_sayisi', 'Borcun_gelire_orani', 'Son_6_ay_kk_kullanim_orani']]"
   ]
  },
  {
   "cell_type": "code",
   "execution_count": 68,
   "metadata": {},
   "outputs": [],
   "source": [
    "# Transform all features into a vector using VectorAssembler. \n",
    "del assembler\n",
    "categoricalColumns = []\n",
    "stages = []\n",
    "numericCols = ['Onceki_temerrut_sayisi', 'Kullanim_orani', 'Son_2_yil_dpd_31_60_adeti','Son_3_ay_kk_kullanim_orani', \n",
    "               'Son_12_ay_kk_kullanim_orani', 'Musteri_yasi', 'Acik_kredi_sayisi', 'Borcun_gelire_orani', 'Son_6_ay_kk_kullanim_orani']\n",
    "assemblerInputs = [c + \"classVec\" for c in categoricalColumns] + numericCols\n",
    "assembler = VectorAssembler(inputCols=assemblerInputs, outputCol=\"features\")\n",
    "stages += [assembler]\n",
    "label_stringIdx = StringIndexer(inputCol = 'Temerrut_flag', outputCol=\"label\")\n",
    "stages += [label_stringIdx]"
   ]
  },
  {
   "cell_type": "code",
   "execution_count": 75,
   "metadata": {},
   "outputs": [],
   "source": [
    "partialPipeline = Pipeline().setStages(stages)\n",
    "pipelineModel = partialPipeline.fit(log_data)\n",
    "preppedDataDF = pipelineModel.transform(log_data)"
   ]
  },
  {
   "cell_type": "code",
   "execution_count": 70,
   "metadata": {},
   "outputs": [],
   "source": [
    "# Fit model to prepped data\n",
    "lrModel = LogisticRegression().fit(preppedDataDF)"
   ]
  },
  {
   "cell_type": "code",
   "execution_count": 80,
   "metadata": {},
   "outputs": [
    {
     "name": "stdout",
     "output_type": "stream",
     "text": [
      "Train dataset obs count: 105045\n",
      "Test dataset obs count: 44955\n"
     ]
    }
   ],
   "source": [
    "cols = log_data.columns\n",
    "selectedcols = [\"label\", \"features\"] + cols\n",
    "dataset = preppedDataDF.select(selectedcols)\n",
    "### Randomly split data into training and test sets. set seed for reproducibility\n",
    "(trainingData, testData) = dataset.randomSplit([0.7, 0.3], seed=100)\n",
    "print('Train dataset obs count:',trainingData.count())\n",
    "print('Test dataset obs count:', testData.count())"
   ]
  },
  {
   "cell_type": "code",
   "execution_count": 81,
   "metadata": {},
   "outputs": [],
   "source": [
    "# Create initial LogisticRegression model\n",
    "lr = LogisticRegression(labelCol=\"label\", featuresCol=\"features\", maxIter=10)\n",
    "\n",
    "# Train model with Training Data\n",
    "lrModel = lr.fit(trainingData)\n",
    "# Make predictions on test data using the transform() method.\n",
    "# LogisticRegression.transform() will only use the 'features' column.\n",
    "predictions = lrModel.transform(testData)"
   ]
  },
  {
   "cell_type": "code",
   "execution_count": 82,
   "metadata": {},
   "outputs": [
    {
     "data": {
      "text/plain": [
       "0.79128319512507"
      ]
     },
     "execution_count": 82,
     "metadata": {},
     "output_type": "execute_result"
    }
   ],
   "source": [
    "evaluator = BinaryClassificationEvaluator(rawPredictionCol=\"rawPrediction\")\n",
    "evaluator.evaluate(predictions)"
   ]
  },
  {
   "cell_type": "code",
   "execution_count": 83,
   "metadata": {},
   "outputs": [
    {
     "name": "stdout",
     "output_type": "stream",
     "text": [
      "Logistic regression gini value is: 0.5825663902501399\n"
     ]
    }
   ],
   "source": [
    "roc = evaluator.evaluate(predictions)\n",
    "gini= (2*roc)-1; \n",
    "print('Logistic regression gini value is:', gini)"
   ]
  },
  {
   "cell_type": "markdown",
   "metadata": {},
   "source": [
    "# Confusion Matrix for Logistic Regression"
   ]
  },
  {
   "cell_type": "code",
   "execution_count": 86,
   "metadata": {},
   "outputs": [
    {
     "name": "stdout",
     "output_type": "stream",
     "text": [
      "Test Error = 0.0668891\n",
      "0.9331108886664442\n"
     ]
    }
   ],
   "source": [
    "# Select (prediction, true label) and compute test error\n",
    "evaluator = MulticlassClassificationEvaluator(\n",
    "    labelCol=\"label\", predictionCol=\"prediction\", metricName=\"accuracy\")\n",
    "accuracylr = evaluator.evaluate(predictions)\n",
    "print(\"Test Error = %g\" % (1.0 - accuracylr))\n",
    "print(accuracylr)"
   ]
  },
  {
   "cell_type": "code",
   "execution_count": 114,
   "metadata": {},
   "outputs": [
    {
     "data": {
      "text/plain": [
       "array([[41923,    31],\n",
       "       [ 2976,    25]], dtype=int64)"
      ]
     },
     "execution_count": 114,
     "metadata": {},
     "output_type": "execute_result"
    }
   ],
   "source": [
    "y_true = predictions.select(\"label\")\n",
    "y_true = y_true.toPandas()\n",
    "y_pred = predictions.select(\"prediction\")\n",
    "y_pred = y_pred.toPandas()\n",
    "cnf_matrix = confusion_matrix(y_true, y_pred)\n",
    "cnf_matrix"
   ]
  },
  {
   "cell_type": "code",
   "execution_count": 106,
   "metadata": {},
   "outputs": [
    {
     "data": {
      "text/plain": [
       "<matplotlib.axes._subplots.AxesSubplot at 0x1b905530438>"
      ]
     },
     "execution_count": 106,
     "metadata": {},
     "output_type": "execute_result"
    },
    {
     "data": {
      "image/png": "[encoded data removed]",
      "text/plain": [
       "<Figure size 576x360 with 2 Axes>"
      ]
     },
     "metadata": {
      "needs_background": "light"
     },
     "output_type": "display_data"
    }
   ],
   "source": [
    "import seaborn as sns\n",
    "plt.figure(figsize = (8,5))\n",
    "sn.heatmap(cnf_matrix, annot=True)"
   ]
  },
  {
   "cell_type": "markdown",
   "metadata": {},
   "source": [
    "# Random Forest"
   ]
  },
  {
   "cell_type": "code",
   "execution_count": 115,
   "metadata": {},
   "outputs": [],
   "source": [
    "# Random Forest\n",
    "# Create an initial RandomForest model.\n",
    "rf = RandomForestClassifier(labelCol=\"label\", featuresCol=\"features\")\n",
    "# Train model with Training Data\n",
    "rfModel = rf.fit(trainingData)"
   ]
  },
  {
   "cell_type": "code",
   "execution_count": 116,
   "metadata": {},
   "outputs": [],
   "source": [
    "# Make predictions on test data using the Transformer.transform() method.\n",
    "predictions_r = rfModel.transform(testData)"
   ]
  },
  {
   "cell_type": "code",
   "execution_count": 117,
   "metadata": {},
   "outputs": [
    {
     "data": {
      "text/plain": [
       "0.8237494193391259"
      ]
     },
     "execution_count": 117,
     "metadata": {},
     "output_type": "execute_result"
    }
   ],
   "source": [
    "evaluator = BinaryClassificationEvaluator()\n",
    "evaluator.evaluate(predictions_r)"
   ]
  },
  {
   "cell_type": "code",
   "execution_count": 118,
   "metadata": {},
   "outputs": [
    {
     "name": "stdout",
     "output_type": "stream",
     "text": [
      "Random forest gini value is: 0.6474988386782519\n"
     ]
    }
   ],
   "source": [
    "roc_r = evaluator.evaluate(predictions_r)\n",
    "gini_r = (2*roc_r)-1; \n",
    "print('Random forest gini value is:', gini_r)"
   ]
  },
  {
   "cell_type": "markdown",
   "metadata": {},
   "source": [
    "# Confusion Matrix for Random Forest"
   ]
  },
  {
   "cell_type": "code",
   "execution_count": 130,
   "metadata": {},
   "outputs": [
    {
     "name": "stdout",
     "output_type": "stream",
     "text": [
      "Test Error = 0.0634857\n",
      "0.9365142920698476\n"
     ]
    }
   ],
   "source": [
    "# Select (prediction, true label) and compute test error\n",
    "evaluator = MulticlassClassificationEvaluator(\n",
    "    labelCol=\"label\", predictionCol=\"prediction\", metricName=\"accuracy\")\n",
    "accuracyrf = evaluator.evaluate(predictions_r)\n",
    "print(\"Test Error = %g\" % (1.0 - accuracyrf))\n",
    "print(accuracyrf)"
   ]
  },
  {
   "cell_type": "code",
   "execution_count": 138,
   "metadata": {},
   "outputs": [
    {
     "data": {
      "text/plain": [
       "array([[41831,   123],\n",
       "       [ 2731,   270]], dtype=int64)"
      ]
     },
     "execution_count": 138,
     "metadata": {},
     "output_type": "execute_result"
    }
   ],
   "source": [
    "y_true = predictions_r.select(\"label\")\n",
    "y_true = y_true.toPandas()\n",
    "y_pred = predictions_r.select(\"prediction\")\n",
    "y_pred = y_pred.toPandas()\n",
    "cnf_matrix = confusion_matrix(y_true, y_pred)\n",
    "cnf_matrix"
   ]
  },
  {
   "cell_type": "markdown",
   "metadata": {},
   "source": [
    "# Decision Tree"
   ]
  },
  {
   "cell_type": "code",
   "execution_count": 121,
   "metadata": {},
   "outputs": [],
   "source": [
    "#Decision Tree\n",
    "# Create initial Decision Tree Model\n",
    "dt = DecisionTreeClassifier(labelCol=\"label\", featuresCol=\"features\", maxDepth=3)\n",
    "\n",
    "# Train model with Training Data\n",
    "dtModel = dt.fit(trainingData)"
   ]
  },
  {
   "cell_type": "code",
   "execution_count": 122,
   "metadata": {},
   "outputs": [
    {
     "name": "stdout",
     "output_type": "stream",
     "text": [
      "numNodes =  7\n",
      "depth =  3\n"
     ]
    }
   ],
   "source": [
    "print(\"numNodes = \", dtModel.numNodes)\n",
    "print(\"depth = \", dtModel.depth)"
   ]
  },
  {
   "cell_type": "code",
   "execution_count": 133,
   "metadata": {},
   "outputs": [],
   "source": [
    "# Make predictions on test data using the Transformer.transform() method.\n",
    "predictions_dt = dtModel.transform(testData)"
   ]
  },
  {
   "cell_type": "code",
   "execution_count": 134,
   "metadata": {},
   "outputs": [
    {
     "data": {
      "text/plain": [
       "0.3390419930735456"
      ]
     },
     "execution_count": 134,
     "metadata": {},
     "output_type": "execute_result"
    }
   ],
   "source": [
    "evaluator = BinaryClassificationEvaluator()\n",
    "evaluator.evaluate(predictions_dt)"
   ]
  },
  {
   "cell_type": "code",
   "execution_count": 135,
   "metadata": {},
   "outputs": [
    {
     "name": "stdout",
     "output_type": "stream",
     "text": [
      "Decision tree gini value is: 0.3390419930735456\n"
     ]
    }
   ],
   "source": [
    "gini_dt = evaluator.evaluate(predictions_dt)\n",
    "print('Decision tree gini value is:', gini_dt)"
   ]
  },
  {
   "cell_type": "markdown",
   "metadata": {},
   "source": [
    "# Confusion Matrix for Decision Tree"
   ]
  },
  {
   "cell_type": "code",
   "execution_count": 136,
   "metadata": {},
   "outputs": [],
   "source": [
    "# Select (prediction, true label) and compute test error\n",
    "evaluator = MulticlassClassificationEvaluator(\n",
    "    labelCol=\"label\", predictionCol=\"prediction\", metricName=\"accuracy\")\n",
    "accuracydt = evaluator.evaluate(predictions_dt)"
   ]
  },
  {
   "cell_type": "code",
   "execution_count": 127,
   "metadata": {},
   "outputs": [
    {
     "name": "stdout",
     "output_type": "stream",
     "text": [
      "Test Error = 0.0643532\n",
      "0.9356467578689801\n"
     ]
    }
   ],
   "source": [
    "print(\"Test Error = %g\" % (1.0 - accuracydt))\n",
    "print(accuracydt)"
   ]
  },
  {
   "cell_type": "code",
   "execution_count": 137,
   "metadata": {},
   "outputs": [
    {
     "data": {
      "text/plain": [
       "array([[41831,   123],\n",
       "       [ 2731,   270]], dtype=int64)"
      ]
     },
     "execution_count": 137,
     "metadata": {},
     "output_type": "execute_result"
    }
   ],
   "source": [
    "y_true = predictions_dt.select(\"label\")\n",
    "y_true = y_true.toPandas()\n",
    "y_pred = predictions_dt.select(\"prediction\")\n",
    "y_pred = y_pred.toPandas()\n",
    "cnf_matrix"
   ]
  }
 ],
 "metadata": {
  "kernelspec": {
   "display_name": "Python 3",
   "language": "python",
   "name": "python3"
  },
  "language_info": {
   "codemirror_mode": {
    "name": "ipython",
    "version": 3
   },
   "file_extension": ".py",
   "mimetype": "text/x-python",
   "name": "python",
   "nbconvert_exporter": "python",
   "pygments_lexer": "ipython3",
   "version": "3.6.8"
  }
 },
 "nbformat": 4,
 "nbformat_minor": 2
}
