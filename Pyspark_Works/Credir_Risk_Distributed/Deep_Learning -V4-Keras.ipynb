{
 "cells": [
  {
   "cell_type": "code",
   "execution_count": 42,
   "metadata": {
    "scrolled": true
   },
   "outputs": [],
   "source": [
    "# Spark Session, Pipeline, Functions, and Metrics\n",
    "from pyspark import SparkContext, SparkConf\n",
    "from pyspark.sql import SQLContext\n",
    "from pyspark.ml.feature import OneHotEncoderEstimator, StringIndexer, StandardScaler, VectorAssembler\n",
    "from pyspark.ml import Pipeline\n",
    "from pyspark.sql.functions import rand\n",
    "from pyspark.mllib.evaluation import MulticlassMetrics\n",
    "\n",
    "import pandas as pd\n",
    "\n",
    "# Keras / Deep Learning\n",
    "from keras.models import Sequential\n",
    "from keras.layers.core import Dense, Dropout, Activation\n",
    "from keras import optimizers, regularizers\n",
    "from keras.optimizers import Adam\n",
    "from sklearn.model_selection import train_test_split\n",
    "\n",
    "# Elephas for Deep Learning on Spark\n",
    "from elephas.ml_model import ElephasEstimator"
   ]
  },
  {
   "cell_type": "code",
   "execution_count": 17,
   "metadata": {},
   "outputs": [],
   "source": [
    "from pyspark.sql.functions import *\n",
    "from pyspark.ml.classification import  RandomForestClassifier\n",
    "from pyspark.ml.feature import StringIndexer, OneHotEncoderEstimator, VectorAssembler, VectorSlicer\n",
    "from pyspark.ml import Pipeline\n",
    "from pyspark.ml.evaluation import BinaryClassificationEvaluator\n",
    "from pyspark.ml.linalg import Vectors\n",
    "from pyspark.ml.tuning import ParamGridBuilder, TrainValidationSplit\n",
    "from pyspark.ml.classification import LogisticRegression\n",
    "from pyspark.ml.evaluation import BinaryClassificationEvaluator\n",
    "from pyspark.ml.classification import RandomForestClassifier\n",
    "from pyspark.ml.classification import DecisionTreeClassifier\n",
    "from pyspark.mllib.stat import Statistics\n",
    "from pyspark.ml.stat import Correlation\n",
    "from pyspark.ml.feature import VectorAssembler\n",
    "from pyspark.ml.classification import RandomForestClassifier\n",
    "from pyspark.ml.classification import DecisionTreeClassifier\n",
    "from pyspark.ml.evaluation import MulticlassClassificationEvaluator\n",
    "from sklearn.metrics import confusion_matrix\n",
    "import matplotlib.pyplot as plt\n",
    "import numpy as np\n",
    "import itertools"
   ]
  },
  {
   "cell_type": "code",
   "execution_count": 21,
   "metadata": {},
   "outputs": [],
   "source": [
    "conf=SparkConf().setMaster(\"local\")\n",
    "sc=SparkContext(conf=conf)\n",
    "sqlContext = SQLContext(sc)"
   ]
  },
  {
   "cell_type": "code",
   "execution_count": 20,
   "metadata": {},
   "outputs": [],
   "source": [
    "#sc.stop()"
   ]
  },
  {
   "cell_type": "code",
   "execution_count": 28,
   "metadata": {
    "scrolled": false
   },
   "outputs": [
    {
     "name": "stdout",
     "output_type": "stream",
     "text": [
      "root\n",
      " |-- _c0: integer (nullable = true)\n",
      " |-- ID: integer (nullable = true)\n",
      " |-- Temerrut_flag: integer (nullable = true)\n",
      " |-- Basvuru_tarihi: string (nullable = true)\n",
      " |-- Kullanim_orani: double (nullable = true)\n",
      " |-- Musteri_yasi: integer (nullable = true)\n",
      " |-- Dpd_30_adeti: integer (nullable = true)\n",
      " |-- Borcun_gelire_orani: double (nullable = true)\n",
      " |-- Gelir: double (nullable = true)\n",
      " |-- Acik_kredi_sayisi: integer (nullable = true)\n",
      " |-- Onceki_temerrut_sayisi: integer (nullable = true)\n",
      " |-- Acik_ev_kredi_sayisi: integer (nullable = true)\n",
      " |-- Son_2_yil_dpd_31_60_adeti: integer (nullable = true)\n",
      " |-- Bakmakla_yukumlu_kisi_sayisi: double (nullable = true)\n",
      " |-- Guncel_yil_ort_vdsz_mev_tutari: double (nullable = true)\n",
      " |-- Onceki_yil_max_vdsz_mev_tutari: double (nullable = true)\n",
      " |-- Onceki_yil_min_vdsz_mev_tutari: double (nullable = true)\n",
      " |-- Rotatif_krediler_kullanim_orani: string (nullable = true)\n",
      " |-- Kredi_vadesi: string (nullable = true)\n",
      " |-- Guncel_yil_gunluk_ort_kk_risk_tutari: double (nullable = true)\n",
      " |-- Guncel_vdsz_mev_tutari: double (nullable = true)\n",
      " |-- SGK_kodu: double (nullable = true)\n",
      " |-- Evin_sahiplik_durumu: string (nullable = true)\n",
      " |-- Istenen_evin_fiyati: integer (nullable = true)\n",
      " |-- Toplam_calisma_suresi: double (nullable = true)\n",
      " |-- Onceki_yil_ort_vdsz_mev_tutari: double (nullable = true)\n",
      " |-- Calisma_tipi: integer (nullable = true)\n",
      " |-- Son_1_yil_kredi_basvuru_sayisi: integer (nullable = true)\n",
      " |-- Son_6_ay_kredi_basvuru_sayisi: integer (nullable = true)\n",
      " |-- Son_3_ay_kredi_basvuru_sayisi: integer (nullable = true)\n",
      " |-- Son_2_yil_kabul_edilmis_kredi_sayisi: integer (nullable = true)\n",
      " |-- Son_1_yil_kabul_edilmis_kredi_sayisi: integer (nullable = true)\n",
      " |-- Son_6_ay_kabul_edilmis_kredi_sayisi: integer (nullable = true)\n",
      " |-- Son_3_ay_kabul_edilmis_kredi_sayisi: integer (nullable = true)\n",
      " |-- KK_flag: integer (nullable = true)\n",
      " |-- KK_limiti: double (nullable = true)\n",
      " |-- Dissal_kredi_skoru: integer (nullable = true)\n",
      " |-- Isyeri_tel_no: integer (nullable = true)\n",
      " |-- Evin_yasi: double (nullable = true)\n",
      " |-- Evin_bulundugu_sok_ort_ev_yasi: double (nullable = true)\n",
      " |-- En_son_calisma_gun_sayisi: double (nullable = true)\n",
      " |-- Yasadigi_yerin_nufus_yogunlugu: double (nullable = true)\n",
      " |-- Arac_yasi: double (nullable = true)\n",
      " |-- Arac_flag: integer (nullable = true)\n",
      " |-- Son_12_ay_kk_kullanim_orani: double (nullable = true)\n",
      " |-- Son_6_ay_kk_kullanim_orani: double (nullable = true)\n",
      " |-- Son_3_ay_kk_kullanim_orani: double (nullable = true)\n",
      "\n"
     ]
    }
   ],
   "source": [
    "data = sqlContext.read.format('com.databricks.spark.csv').options(header='true', inferschema='true').load('data.csv')\n",
    "data.printSchema()"
   ]
  },
  {
   "cell_type": "code",
   "execution_count": 29,
   "metadata": {},
   "outputs": [],
   "source": [
    "drop_list = ['_c0', 'ID', 'Basvuru_tarihi']\n",
    "data = data.select([column for column in data.columns if column not in drop_list])"
   ]
  },
  {
   "cell_type": "code",
   "execution_count": 30,
   "metadata": {},
   "outputs": [],
   "source": [
    "from pyspark.sql.functions import col, count, isnan, lit, sum\n",
    "\n",
    "def count_not_null(c, nan_as_null=False):\n",
    "    \"\"\"Use conversion between boolean and integer\n",
    "    - False -> 0\n",
    "    - True ->  1\n",
    "    \"\"\"\n",
    "    pred = col(c).isNotNull() & (~isnan(c) if nan_as_null else lit(True))\n",
    "    return sum(pred.cast(\"integer\")).alias(c)"
   ]
  },
  {
   "cell_type": "code",
   "execution_count": 31,
   "metadata": {},
   "outputs": [],
   "source": [
    "exprs = [(count_not_null(c) / count(\"*\")).alias(c) for c in data.columns]\n",
    "completeness = data.agg(*exprs).toPandas()"
   ]
  },
  {
   "cell_type": "code",
   "execution_count": 32,
   "metadata": {},
   "outputs": [
    {
     "data": {
      "text/plain": [
       "{'Temerrut_flag': {0: 1.0},\n",
       " 'Kullanim_orani': {0: 1.0},\n",
       " 'Musteri_yasi': {0: 1.0},\n",
       " 'Dpd_30_adeti': {0: 1.0},\n",
       " 'Borcun_gelire_orani': {0: 1.0},\n",
       " 'Gelir': {0: 1.0},\n",
       " 'Acik_kredi_sayisi': {0: 1.0},\n",
       " 'Onceki_temerrut_sayisi': {0: 1.0},\n",
       " 'Acik_ev_kredi_sayisi': {0: 1.0},\n",
       " 'Son_2_yil_dpd_31_60_adeti': {0: 1.0},\n",
       " 'Bakmakla_yukumlu_kisi_sayisi': {0: 0.97384},\n",
       " 'Guncel_yil_ort_vdsz_mev_tutari': {0: 0.7908733333333333},\n",
       " 'Onceki_yil_max_vdsz_mev_tutari': {0: 0.7909466666666667},\n",
       " 'Onceki_yil_min_vdsz_mev_tutari': {0: 0.7909733333333333},\n",
       " 'Rotatif_krediler_kullanim_orani': {0: 0.7896733333333333},\n",
       " 'Kredi_vadesi': {0: 1.0},\n",
       " 'Guncel_yil_gunluk_ort_kk_risk_tutari': {0: 0.36102},\n",
       " 'Guncel_vdsz_mev_tutari': {0: 0.028373333333333334},\n",
       " 'SGK_kodu': {0: 0.01058},\n",
       " 'Evin_sahiplik_durumu': {0: 1.0},\n",
       " 'Istenen_evin_fiyati': {0: 1.0},\n",
       " 'Toplam_calisma_suresi': {0: 0.2904},\n",
       " 'Onceki_yil_ort_vdsz_mev_tutari': {0: 0.028373333333333334},\n",
       " 'Calisma_tipi': {0: 1.0},\n",
       " 'Son_1_yil_kredi_basvuru_sayisi': {0: 1.0},\n",
       " 'Son_6_ay_kredi_basvuru_sayisi': {0: 1.0},\n",
       " 'Son_3_ay_kredi_basvuru_sayisi': {0: 1.0},\n",
       " 'Son_2_yil_kabul_edilmis_kredi_sayisi': {0: 1.0},\n",
       " 'Son_1_yil_kabul_edilmis_kredi_sayisi': {0: 1.0},\n",
       " 'Son_6_ay_kabul_edilmis_kredi_sayisi': {0: 1.0},\n",
       " 'Son_3_ay_kabul_edilmis_kredi_sayisi': {0: 1.0},\n",
       " 'KK_flag': {0: 1.0},\n",
       " 'KK_limiti': {0: 0.5017},\n",
       " 'Dissal_kredi_skoru': {0: 1.0},\n",
       " 'Isyeri_tel_no': {0: 1.0},\n",
       " 'Evin_yasi': {0: 1.0},\n",
       " 'Evin_bulundugu_sok_ort_ev_yasi': {0: 1.0},\n",
       " 'En_son_calisma_gun_sayisi': {0: 0.018966666666666666},\n",
       " 'Yasadigi_yerin_nufus_yogunlugu': {0: 1.0},\n",
       " 'Arac_yasi': {0: 1.0},\n",
       " 'Arac_flag': {0: 1.0},\n",
       " 'Son_12_ay_kk_kullanim_orani': {0: 1.0},\n",
       " 'Son_6_ay_kk_kullanim_orani': {0: 1.0},\n",
       " 'Son_3_ay_kk_kullanim_orani': {0: 1.0}}"
      ]
     },
     "execution_count": 32,
     "metadata": {},
     "output_type": "execute_result"
    }
   ],
   "source": [
    "completeness.to_dict()"
   ]
  },
  {
   "cell_type": "code",
   "execution_count": 33,
   "metadata": {},
   "outputs": [
    {
     "name": "stdout",
     "output_type": "stream",
     "text": [
      "root\n",
      " |-- Temerrut_flag: integer (nullable = true)\n",
      " |-- Kullanim_orani: double (nullable = true)\n",
      " |-- Musteri_yasi: integer (nullable = true)\n",
      " |-- Dpd_30_adeti: integer (nullable = true)\n",
      " |-- Borcun_gelire_orani: double (nullable = true)\n",
      " |-- Gelir: double (nullable = true)\n",
      " |-- Acik_kredi_sayisi: integer (nullable = true)\n",
      " |-- Onceki_temerrut_sayisi: integer (nullable = true)\n",
      " |-- Acik_ev_kredi_sayisi: integer (nullable = true)\n",
      " |-- Son_2_yil_dpd_31_60_adeti: integer (nullable = true)\n",
      " |-- Kredi_vadesi: string (nullable = true)\n",
      " |-- Evin_sahiplik_durumu: string (nullable = true)\n",
      " |-- Istenen_evin_fiyati: integer (nullable = true)\n",
      " |-- Calisma_tipi: integer (nullable = true)\n",
      " |-- Son_1_yil_kredi_basvuru_sayisi: integer (nullable = true)\n",
      " |-- Son_6_ay_kredi_basvuru_sayisi: integer (nullable = true)\n",
      " |-- Son_3_ay_kredi_basvuru_sayisi: integer (nullable = true)\n",
      " |-- Son_2_yil_kabul_edilmis_kredi_sayisi: integer (nullable = true)\n",
      " |-- Son_1_yil_kabul_edilmis_kredi_sayisi: integer (nullable = true)\n",
      " |-- Son_6_ay_kabul_edilmis_kredi_sayisi: integer (nullable = true)\n",
      " |-- Son_3_ay_kabul_edilmis_kredi_sayisi: integer (nullable = true)\n",
      " |-- KK_flag: integer (nullable = true)\n",
      " |-- Dissal_kredi_skoru: integer (nullable = true)\n",
      " |-- Evin_yasi: double (nullable = true)\n",
      " |-- Evin_bulundugu_sok_ort_ev_yasi: double (nullable = true)\n",
      " |-- Yasadigi_yerin_nufus_yogunlugu: double (nullable = true)\n",
      " |-- Arac_yasi: double (nullable = true)\n",
      " |-- Arac_flag: integer (nullable = true)\n",
      " |-- Son_12_ay_kk_kullanim_orani: double (nullable = true)\n",
      " |-- Son_6_ay_kk_kullanim_orani: double (nullable = true)\n",
      " |-- Son_3_ay_kk_kullanim_orani: double (nullable = true)\n",
      "\n"
     ]
    }
   ],
   "source": [
    "drop_list = ['Bakmakla_yukumlu_kisi_sayisi', 'Guncel_yil_ort_vdsz_mev_tutari', 'Onceki_yil_max_vdsz_mev_tutari',\n",
    "            'Onceki_yil_min_vdsz_mev_tutari', 'Rotatif_krediler_kullanim_orani', 'Guncel_yil_gunluk_ort_kk_risk_tutari',\n",
    "            'Guncel_vdsz_mev_tutari', 'SGK_kodu', 'Toplam_calisma_suresi', 'Onceki_yil_ort_vdsz_mev_tutari', 'KK_limiti',\n",
    "            'En_son_calisma_gun_sayisi', 'Isyeri_tel_no']\n",
    "data = data.select([column for column in data.columns if column not in drop_list])\n",
    "data.printSchema()"
   ]
  },
  {
   "cell_type": "markdown",
   "metadata": {},
   "source": [
    "<div class=\"alert alert-block alert-info\">\n",
    "<b>Step 8:</b> DENEME\n",
    "</div>"
   ]
  },
  {
   "cell_type": "code",
   "execution_count": 15,
   "metadata": {},
   "outputs": [
    {
     "name": "stdout",
     "output_type": "stream",
     "text": [
      "root\n",
      " |-- Temerrut_flag: integer (nullable = true)\n",
      " |-- Musteri_yasi: integer (nullable = true)\n",
      " |-- Dpd_30_adeti: integer (nullable = true)\n",
      "\n"
     ]
    }
   ],
   "source": [
    "#deneme=[\"Temerrut_flag\",\"Musteri_yasi\",\"Dpd_30_adeti\"]\n",
    "#data = data.select([column for column in data.columns if column in deneme])\n",
    "#data.printSchema()"
   ]
  },
  {
   "cell_type": "markdown",
   "metadata": {},
   "source": [
    "<div class=\"alert alert-block alert-info\">\n",
    "<b>Step 8:</b> DENEME\n",
    "</div>"
   ]
  },
  {
   "cell_type": "code",
   "execution_count": 76,
   "metadata": {},
   "outputs": [],
   "source": [
    "df=data.toPandas()"
   ]
  },
  {
   "cell_type": "code",
   "execution_count": 77,
   "metadata": {},
   "outputs": [],
   "source": [
    "df.drop([\"Evin_sahiplik_durumu\",\"Kredi_vadesi\"],inplace=True,axis=1)"
   ]
  },
  {
   "cell_type": "code",
   "execution_count": 78,
   "metadata": {},
   "outputs": [],
   "source": [
    "y=df.Temerrut_flag\n",
    "X=df.iloc[:,1:]"
   ]
  },
  {
   "cell_type": "code",
   "execution_count": 79,
   "metadata": {},
   "outputs": [
    {
     "data": {
      "text/html": [
       "<div>\n",
       "<style scoped>\n",
       "    .dataframe tbody tr th:only-of-type {\n",
       "        vertical-align: middle;\n",
       "    }\n",
       "\n",
       "    .dataframe tbody tr th {\n",
       "        vertical-align: top;\n",
       "    }\n",
       "\n",
       "    .dataframe thead th {\n",
       "        text-align: right;\n",
       "    }\n",
       "</style>\n",
       "<table border=\"1\" class=\"dataframe\">\n",
       "  <thead>\n",
       "    <tr style=\"text-align: right;\">\n",
       "      <th></th>\n",
       "      <th>Kullanim_orani</th>\n",
       "      <th>Musteri_yasi</th>\n",
       "      <th>Dpd_30_adeti</th>\n",
       "      <th>Borcun_gelire_orani</th>\n",
       "      <th>Gelir</th>\n",
       "      <th>Acik_kredi_sayisi</th>\n",
       "      <th>Onceki_temerrut_sayisi</th>\n",
       "      <th>Acik_ev_kredi_sayisi</th>\n",
       "      <th>Son_2_yil_dpd_31_60_adeti</th>\n",
       "      <th>Istenen_evin_fiyati</th>\n",
       "      <th>...</th>\n",
       "      <th>KK_flag</th>\n",
       "      <th>Dissal_kredi_skoru</th>\n",
       "      <th>Evin_yasi</th>\n",
       "      <th>Evin_bulundugu_sok_ort_ev_yasi</th>\n",
       "      <th>Yasadigi_yerin_nufus_yogunlugu</th>\n",
       "      <th>Arac_yasi</th>\n",
       "      <th>Arac_flag</th>\n",
       "      <th>Son_12_ay_kk_kullanim_orani</th>\n",
       "      <th>Son_6_ay_kk_kullanim_orani</th>\n",
       "      <th>Son_3_ay_kk_kullanim_orani</th>\n",
       "    </tr>\n",
       "  </thead>\n",
       "  <tbody>\n",
       "    <tr>\n",
       "      <th>0</th>\n",
       "      <td>0.766127</td>\n",
       "      <td>45</td>\n",
       "      <td>2</td>\n",
       "      <td>0.802982</td>\n",
       "      <td>9120.0</td>\n",
       "      <td>13</td>\n",
       "      <td>0</td>\n",
       "      <td>6</td>\n",
       "      <td>0</td>\n",
       "      <td>959346</td>\n",
       "      <td>...</td>\n",
       "      <td>1</td>\n",
       "      <td>1926</td>\n",
       "      <td>1.198</td>\n",
       "      <td>1.328582</td>\n",
       "      <td>0.018801</td>\n",
       "      <td>12.0</td>\n",
       "      <td>1</td>\n",
       "      <td>0.457661</td>\n",
       "      <td>0.458030</td>\n",
       "      <td>0.496336</td>\n",
       "    </tr>\n",
       "    <tr>\n",
       "      <th>1</th>\n",
       "      <td>0.957151</td>\n",
       "      <td>40</td>\n",
       "      <td>0</td>\n",
       "      <td>0.121876</td>\n",
       "      <td>2600.0</td>\n",
       "      <td>4</td>\n",
       "      <td>0</td>\n",
       "      <td>0</td>\n",
       "      <td>0</td>\n",
       "      <td>613856</td>\n",
       "      <td>...</td>\n",
       "      <td>1</td>\n",
       "      <td>1596</td>\n",
       "      <td>1.930</td>\n",
       "      <td>1.962810</td>\n",
       "      <td>0.003541</td>\n",
       "      <td>2.0</td>\n",
       "      <td>1</td>\n",
       "      <td>0.409572</td>\n",
       "      <td>0.401219</td>\n",
       "      <td>0.449076</td>\n",
       "    </tr>\n",
       "    <tr>\n",
       "      <th>2</th>\n",
       "      <td>0.658180</td>\n",
       "      <td>38</td>\n",
       "      <td>1</td>\n",
       "      <td>0.085113</td>\n",
       "      <td>3042.0</td>\n",
       "      <td>2</td>\n",
       "      <td>1</td>\n",
       "      <td>0</td>\n",
       "      <td>0</td>\n",
       "      <td>412920</td>\n",
       "      <td>...</td>\n",
       "      <td>0</td>\n",
       "      <td>1802</td>\n",
       "      <td>1.836</td>\n",
       "      <td>2.315196</td>\n",
       "      <td>0.010032</td>\n",
       "      <td>7.0</td>\n",
       "      <td>1</td>\n",
       "      <td>0.386582</td>\n",
       "      <td>0.380851</td>\n",
       "      <td>0.413760</td>\n",
       "    </tr>\n",
       "    <tr>\n",
       "      <th>3</th>\n",
       "      <td>0.233810</td>\n",
       "      <td>30</td>\n",
       "      <td>0</td>\n",
       "      <td>0.036050</td>\n",
       "      <td>3300.0</td>\n",
       "      <td>5</td>\n",
       "      <td>0</td>\n",
       "      <td>0</td>\n",
       "      <td>0</td>\n",
       "      <td>978835</td>\n",
       "      <td>...</td>\n",
       "      <td>1</td>\n",
       "      <td>1801</td>\n",
       "      <td>1.196</td>\n",
       "      <td>1.523704</td>\n",
       "      <td>0.008019</td>\n",
       "      <td>12.0</td>\n",
       "      <td>1</td>\n",
       "      <td>0.302338</td>\n",
       "      <td>0.300360</td>\n",
       "      <td>0.312051</td>\n",
       "    </tr>\n",
       "    <tr>\n",
       "      <th>4</th>\n",
       "      <td>0.907239</td>\n",
       "      <td>49</td>\n",
       "      <td>1</td>\n",
       "      <td>0.024926</td>\n",
       "      <td>63588.0</td>\n",
       "      <td>7</td>\n",
       "      <td>0</td>\n",
       "      <td>1</td>\n",
       "      <td>0</td>\n",
       "      <td>919228</td>\n",
       "      <td>...</td>\n",
       "      <td>1</td>\n",
       "      <td>1068</td>\n",
       "      <td>1.201</td>\n",
       "      <td>1.556496</td>\n",
       "      <td>0.028663</td>\n",
       "      <td>1.0</td>\n",
       "      <td>1</td>\n",
       "      <td>0.499072</td>\n",
       "      <td>0.490249</td>\n",
       "      <td>0.535611</td>\n",
       "    </tr>\n",
       "  </tbody>\n",
       "</table>\n",
       "<p>5 rows × 28 columns</p>\n",
       "</div>"
      ],
      "text/plain": [
       "   Kullanim_orani  Musteri_yasi  Dpd_30_adeti  Borcun_gelire_orani    Gelir  \\\n",
       "0        0.766127            45             2             0.802982   9120.0   \n",
       "1        0.957151            40             0             0.121876   2600.0   \n",
       "2        0.658180            38             1             0.085113   3042.0   \n",
       "3        0.233810            30             0             0.036050   3300.0   \n",
       "4        0.907239            49             1             0.024926  63588.0   \n",
       "\n",
       "   Acik_kredi_sayisi  Onceki_temerrut_sayisi  Acik_ev_kredi_sayisi  \\\n",
       "0                 13                       0                     6   \n",
       "1                  4                       0                     0   \n",
       "2                  2                       1                     0   \n",
       "3                  5                       0                     0   \n",
       "4                  7                       0                     1   \n",
       "\n",
       "   Son_2_yil_dpd_31_60_adeti  Istenen_evin_fiyati  ...  KK_flag  \\\n",
       "0                          0               959346  ...        1   \n",
       "1                          0               613856  ...        1   \n",
       "2                          0               412920  ...        0   \n",
       "3                          0               978835  ...        1   \n",
       "4                          0               919228  ...        1   \n",
       "\n",
       "   Dissal_kredi_skoru  Evin_yasi  Evin_bulundugu_sok_ort_ev_yasi  \\\n",
       "0                1926      1.198                        1.328582   \n",
       "1                1596      1.930                        1.962810   \n",
       "2                1802      1.836                        2.315196   \n",
       "3                1801      1.196                        1.523704   \n",
       "4                1068      1.201                        1.556496   \n",
       "\n",
       "   Yasadigi_yerin_nufus_yogunlugu  Arac_yasi  Arac_flag  \\\n",
       "0                        0.018801       12.0          1   \n",
       "1                        0.003541        2.0          1   \n",
       "2                        0.010032        7.0          1   \n",
       "3                        0.008019       12.0          1   \n",
       "4                        0.028663        1.0          1   \n",
       "\n",
       "   Son_12_ay_kk_kullanim_orani  Son_6_ay_kk_kullanim_orani  \\\n",
       "0                     0.457661                    0.458030   \n",
       "1                     0.409572                    0.401219   \n",
       "2                     0.386582                    0.380851   \n",
       "3                     0.302338                    0.300360   \n",
       "4                     0.499072                    0.490249   \n",
       "\n",
       "   Son_3_ay_kk_kullanim_orani  \n",
       "0                    0.496336  \n",
       "1                    0.449076  \n",
       "2                    0.413760  \n",
       "3                    0.312051  \n",
       "4                    0.535611  \n",
       "\n",
       "[5 rows x 28 columns]"
      ]
     },
     "execution_count": 79,
     "metadata": {},
     "output_type": "execute_result"
    }
   ],
   "source": [
    "X.head()"
   ]
  },
  {
   "cell_type": "code",
   "execution_count": 172,
   "metadata": {},
   "outputs": [],
   "source": [
    "X_train, X_test, y_train, y_test = train_test_split(X, y, test_size=0.33, random_state=42)"
   ]
  },
  {
   "cell_type": "code",
   "execution_count": 135,
   "metadata": {},
   "outputs": [],
   "source": [
    "#from imblearn.over_sampling import SMOTE\n",
    "#sm = SMOTE(random_state=2)\n",
    "#X_train, y_train = sm.fit_sample(X_train, y_train.ravel())"
   ]
  },
  {
   "cell_type": "code",
   "execution_count": 173,
   "metadata": {},
   "outputs": [],
   "source": [
    "# Number of Classes\n",
    "nb_classes = len(set(y_train))\n",
    "\n",
    "# Number of Inputs or Input Dimensions\n",
    "input_dim = X_train.shape[1]"
   ]
  },
  {
   "cell_type": "code",
   "execution_count": 174,
   "metadata": {},
   "outputs": [],
   "source": [
    "# Set up Deep Learning Model / Architecture\n",
    "model = Sequential()\n",
    "model.add(Dense(256, input_shape=(input_dim,), activity_regularizer=regularizers.l2(0.01)))\n",
    "model.add(Activation('relu'))\n",
    "model.add(Dropout(rate=0.3))\n",
    "model.add(Dense(256, activity_regularizer=regularizers.l2(0.01)))\n",
    "model.add(Activation('relu'))\n",
    "model.add(Dropout(rate=0.3))\n",
    "model.add(Dense(nb_classes))\n",
    "model.add(Activation('sigmoid'))\n",
    "model.compile(loss='binary_crossentropy', optimizer='adam')"
   ]
  },
  {
   "cell_type": "code",
   "execution_count": 175,
   "metadata": {},
   "outputs": [
    {
     "name": "stdout",
     "output_type": "stream",
     "text": [
      "_________________________________________________________________\n",
      "Layer (type)                 Output Shape              Param #   \n",
      "=================================================================\n",
      "dense_30 (Dense)             (None, 256)               7424      \n",
      "_________________________________________________________________\n",
      "activation_18 (Activation)   (None, 256)               0         \n",
      "_________________________________________________________________\n",
      "dropout_13 (Dropout)         (None, 256)               0         \n",
      "_________________________________________________________________\n",
      "dense_31 (Dense)             (None, 256)               65792     \n",
      "_________________________________________________________________\n",
      "activation_19 (Activation)   (None, 256)               0         \n",
      "_________________________________________________________________\n",
      "dropout_14 (Dropout)         (None, 256)               0         \n",
      "_________________________________________________________________\n",
      "dense_32 (Dense)             (None, 2)                 514       \n",
      "_________________________________________________________________\n",
      "activation_20 (Activation)   (None, 2)                 0         \n",
      "=================================================================\n",
      "Total params: 73,730\n",
      "Trainable params: 73,730\n",
      "Non-trainable params: 0\n",
      "_________________________________________________________________\n"
     ]
    }
   ],
   "source": [
    "model.summary()"
   ]
  },
  {
   "cell_type": "code",
   "execution_count": 176,
   "metadata": {
    "scrolled": false
   },
   "outputs": [
    {
     "name": "stdout",
     "output_type": "stream",
     "text": [
      "Epoch 1/10\n",
      "100500/100500 [==============================] - 5s 49us/step - loss: 110814943727025.0469\n",
      "Epoch 2/10\n",
      "100500/100500 [==============================] - 3s 26us/step - loss: 78045886682860.9062\n",
      "Epoch 3/10\n",
      "100500/100500 [==============================] - 3s 26us/step - loss: 60295038651498.9844\n",
      "Epoch 4/10\n",
      "100500/100500 [==============================] - 3s 26us/step - loss: 46753759491535.6016\n",
      "Epoch 5/10\n",
      "100500/100500 [==============================] - 3s 26us/step - loss: 36276993868672.6406\n",
      "Epoch 6/10\n",
      "100500/100500 [==============================] - 3s 26us/step - loss: 28114870018659.3438\n",
      "Epoch 7/10\n",
      "100500/100500 [==============================] - 3s 25us/step - loss: 21683319133036.2578\n",
      "Epoch 8/10\n",
      "100500/100500 [==============================] - 3s 26us/step - loss: 16670085539789.0527\n",
      "Epoch 9/10\n",
      "100500/100500 [==============================] - 3s 26us/step - loss: 12761769243785.5527\n",
      "Epoch 10/10\n",
      "100500/100500 [==============================] - 3s 26us/step - loss: 9723906967378.7852\n",
      "training time: 28.782150506973267\n",
      "49500/49500 [==============================] - 3s 60us/step\n"
     ]
    },
    {
     "data": {
      "text/plain": [
       "23520042976.059475"
      ]
     },
     "execution_count": 176,
     "metadata": {},
     "output_type": "execute_result"
    }
   ],
   "source": [
    "# Compile your model, choose an appropriate optimizer, loss function and metric to track.\n",
    "\n",
    "model.compile(optimizer='adam',#'sgd'\n",
    "             loss='sparse_categorical_crossentropy',\n",
    "             ) \n",
    "             \n",
    "             \n",
    "# Train your model, adjust batch size and epochs iteratively. Optionally time your training.\n",
    " \n",
    "import time\n",
    "start = time.time()\n",
    "model.fit(X_train, y_train, epochs=10, batch_size=10000) \n",
    "end=time.time()\n",
    "print(\"training time:\", (end-start))\n",
    "\n",
    "# Test your model on the secluded test set\n",
    "\n",
    "model.evaluate(X_test, y_test)\n"
   ]
  },
  {
   "cell_type": "code",
   "execution_count": 177,
   "metadata": {},
   "outputs": [
    {
     "data": {
      "text/html": [
       "<div>\n",
       "<style scoped>\n",
       "    .dataframe tbody tr th:only-of-type {\n",
       "        vertical-align: middle;\n",
       "    }\n",
       "\n",
       "    .dataframe tbody tr th {\n",
       "        vertical-align: top;\n",
       "    }\n",
       "\n",
       "    .dataframe thead th {\n",
       "        text-align: right;\n",
       "    }\n",
       "</style>\n",
       "<table border=\"1\" class=\"dataframe\">\n",
       "  <thead>\n",
       "    <tr style=\"text-align: right;\">\n",
       "      <th></th>\n",
       "      <th>Temerrut_flag</th>\n",
       "      <th>Kullanim_orani</th>\n",
       "      <th>Musteri_yasi</th>\n",
       "      <th>Dpd_30_adeti</th>\n",
       "      <th>Borcun_gelire_orani</th>\n",
       "      <th>Gelir</th>\n",
       "      <th>Acik_kredi_sayisi</th>\n",
       "      <th>Onceki_temerrut_sayisi</th>\n",
       "      <th>Acik_ev_kredi_sayisi</th>\n",
       "      <th>Son_2_yil_dpd_31_60_adeti</th>\n",
       "      <th>...</th>\n",
       "      <th>KK_flag</th>\n",
       "      <th>Dissal_kredi_skoru</th>\n",
       "      <th>Evin_yasi</th>\n",
       "      <th>Evin_bulundugu_sok_ort_ev_yasi</th>\n",
       "      <th>Yasadigi_yerin_nufus_yogunlugu</th>\n",
       "      <th>Arac_yasi</th>\n",
       "      <th>Arac_flag</th>\n",
       "      <th>Son_12_ay_kk_kullanim_orani</th>\n",
       "      <th>Son_6_ay_kk_kullanim_orani</th>\n",
       "      <th>Son_3_ay_kk_kullanim_orani</th>\n",
       "    </tr>\n",
       "  </thead>\n",
       "  <tbody>\n",
       "    <tr>\n",
       "      <th>0</th>\n",
       "      <td>1</td>\n",
       "      <td>0.766127</td>\n",
       "      <td>45</td>\n",
       "      <td>2</td>\n",
       "      <td>0.802982</td>\n",
       "      <td>9120.0</td>\n",
       "      <td>13</td>\n",
       "      <td>0</td>\n",
       "      <td>6</td>\n",
       "      <td>0</td>\n",
       "      <td>...</td>\n",
       "      <td>1</td>\n",
       "      <td>1926</td>\n",
       "      <td>1.198</td>\n",
       "      <td>1.328582</td>\n",
       "      <td>0.018801</td>\n",
       "      <td>12.0</td>\n",
       "      <td>1</td>\n",
       "      <td>0.457661</td>\n",
       "      <td>0.458030</td>\n",
       "      <td>0.496336</td>\n",
       "    </tr>\n",
       "    <tr>\n",
       "      <th>1</th>\n",
       "      <td>0</td>\n",
       "      <td>0.957151</td>\n",
       "      <td>40</td>\n",
       "      <td>0</td>\n",
       "      <td>0.121876</td>\n",
       "      <td>2600.0</td>\n",
       "      <td>4</td>\n",
       "      <td>0</td>\n",
       "      <td>0</td>\n",
       "      <td>0</td>\n",
       "      <td>...</td>\n",
       "      <td>1</td>\n",
       "      <td>1596</td>\n",
       "      <td>1.930</td>\n",
       "      <td>1.962810</td>\n",
       "      <td>0.003541</td>\n",
       "      <td>2.0</td>\n",
       "      <td>1</td>\n",
       "      <td>0.409572</td>\n",
       "      <td>0.401219</td>\n",
       "      <td>0.449076</td>\n",
       "    </tr>\n",
       "    <tr>\n",
       "      <th>2</th>\n",
       "      <td>0</td>\n",
       "      <td>0.658180</td>\n",
       "      <td>38</td>\n",
       "      <td>1</td>\n",
       "      <td>0.085113</td>\n",
       "      <td>3042.0</td>\n",
       "      <td>2</td>\n",
       "      <td>1</td>\n",
       "      <td>0</td>\n",
       "      <td>0</td>\n",
       "      <td>...</td>\n",
       "      <td>0</td>\n",
       "      <td>1802</td>\n",
       "      <td>1.836</td>\n",
       "      <td>2.315196</td>\n",
       "      <td>0.010032</td>\n",
       "      <td>7.0</td>\n",
       "      <td>1</td>\n",
       "      <td>0.386582</td>\n",
       "      <td>0.380851</td>\n",
       "      <td>0.413760</td>\n",
       "    </tr>\n",
       "    <tr>\n",
       "      <th>3</th>\n",
       "      <td>0</td>\n",
       "      <td>0.233810</td>\n",
       "      <td>30</td>\n",
       "      <td>0</td>\n",
       "      <td>0.036050</td>\n",
       "      <td>3300.0</td>\n",
       "      <td>5</td>\n",
       "      <td>0</td>\n",
       "      <td>0</td>\n",
       "      <td>0</td>\n",
       "      <td>...</td>\n",
       "      <td>1</td>\n",
       "      <td>1801</td>\n",
       "      <td>1.196</td>\n",
       "      <td>1.523704</td>\n",
       "      <td>0.008019</td>\n",
       "      <td>12.0</td>\n",
       "      <td>1</td>\n",
       "      <td>0.302338</td>\n",
       "      <td>0.300360</td>\n",
       "      <td>0.312051</td>\n",
       "    </tr>\n",
       "    <tr>\n",
       "      <th>4</th>\n",
       "      <td>0</td>\n",
       "      <td>0.907239</td>\n",
       "      <td>49</td>\n",
       "      <td>1</td>\n",
       "      <td>0.024926</td>\n",
       "      <td>63588.0</td>\n",
       "      <td>7</td>\n",
       "      <td>0</td>\n",
       "      <td>1</td>\n",
       "      <td>0</td>\n",
       "      <td>...</td>\n",
       "      <td>1</td>\n",
       "      <td>1068</td>\n",
       "      <td>1.201</td>\n",
       "      <td>1.556496</td>\n",
       "      <td>0.028663</td>\n",
       "      <td>1.0</td>\n",
       "      <td>1</td>\n",
       "      <td>0.499072</td>\n",
       "      <td>0.490249</td>\n",
       "      <td>0.535611</td>\n",
       "    </tr>\n",
       "  </tbody>\n",
       "</table>\n",
       "<p>5 rows × 29 columns</p>\n",
       "</div>"
      ],
      "text/plain": [
       "   Temerrut_flag  Kullanim_orani  Musteri_yasi  Dpd_30_adeti  \\\n",
       "0              1        0.766127            45             2   \n",
       "1              0        0.957151            40             0   \n",
       "2              0        0.658180            38             1   \n",
       "3              0        0.233810            30             0   \n",
       "4              0        0.907239            49             1   \n",
       "\n",
       "   Borcun_gelire_orani    Gelir  Acik_kredi_sayisi  Onceki_temerrut_sayisi  \\\n",
       "0             0.802982   9120.0                 13                       0   \n",
       "1             0.121876   2600.0                  4                       0   \n",
       "2             0.085113   3042.0                  2                       1   \n",
       "3             0.036050   3300.0                  5                       0   \n",
       "4             0.024926  63588.0                  7                       0   \n",
       "\n",
       "   Acik_ev_kredi_sayisi  Son_2_yil_dpd_31_60_adeti  ...  KK_flag  \\\n",
       "0                     6                          0  ...        1   \n",
       "1                     0                          0  ...        1   \n",
       "2                     0                          0  ...        0   \n",
       "3                     0                          0  ...        1   \n",
       "4                     1                          0  ...        1   \n",
       "\n",
       "   Dissal_kredi_skoru  Evin_yasi  Evin_bulundugu_sok_ort_ev_yasi  \\\n",
       "0                1926      1.198                        1.328582   \n",
       "1                1596      1.930                        1.962810   \n",
       "2                1802      1.836                        2.315196   \n",
       "3                1801      1.196                        1.523704   \n",
       "4                1068      1.201                        1.556496   \n",
       "\n",
       "   Yasadigi_yerin_nufus_yogunlugu  Arac_yasi  Arac_flag  \\\n",
       "0                        0.018801       12.0          1   \n",
       "1                        0.003541        2.0          1   \n",
       "2                        0.010032        7.0          1   \n",
       "3                        0.008019       12.0          1   \n",
       "4                        0.028663        1.0          1   \n",
       "\n",
       "   Son_12_ay_kk_kullanim_orani  Son_6_ay_kk_kullanim_orani  \\\n",
       "0                     0.457661                    0.458030   \n",
       "1                     0.409572                    0.401219   \n",
       "2                     0.386582                    0.380851   \n",
       "3                     0.302338                    0.300360   \n",
       "4                     0.499072                    0.490249   \n",
       "\n",
       "   Son_3_ay_kk_kullanim_orani  \n",
       "0                    0.496336  \n",
       "1                    0.449076  \n",
       "2                    0.413760  \n",
       "3                    0.312051  \n",
       "4                    0.535611  \n",
       "\n",
       "[5 rows x 29 columns]"
      ]
     },
     "execution_count": 177,
     "metadata": {},
     "output_type": "execute_result"
    }
   ],
   "source": [
    "df.head()"
   ]
  },
  {
   "cell_type": "code",
   "execution_count": 178,
   "metadata": {},
   "outputs": [],
   "source": [
    "classifier = Sequential()\n",
    "#First Hidden Layer\n",
    "classifier.add(Dense(4, activation='relu', kernel_initializer='random_normal', input_dim=input_dim))\n",
    "#Second  Hidden Layer\n",
    "classifier.add(Dense(4, activation='relu', kernel_initializer='random_normal'))\n",
    "#classifier.add(Activation('relu'))\n",
    "#classifier.add(Dropout(rate=0.3))\n",
    "#classifier.add(Dense(256, activity_regularizer=regularizers.l2(0.01)))\n",
    "#classifier.add(Activation('relu'))\n",
    "#classifier.add(Dropout(rate=0.3))\n",
    "#classifier.add(Dense(nb_classes))\n",
    "#classifier.add(Activation('sigmoid'))\n",
    "#Output Layer\n",
    "classifier.add(Dense(1, activation='sigmoid', kernel_initializer='random_normal'))"
   ]
  },
  {
   "cell_type": "code",
   "execution_count": 193,
   "metadata": {},
   "outputs": [],
   "source": [
    "#Compiling the neural network\n",
    "classifier.compile(optimizer ='adam',loss='binary_crossentropy', metrics =['accuracy'])"
   ]
  },
  {
   "cell_type": "code",
   "execution_count": 195,
   "metadata": {},
   "outputs": [
    {
     "name": "stdout",
     "output_type": "stream",
     "text": [
      "_________________________________________________________________\n",
      "Layer (type)                 Output Shape              Param #   \n",
      "=================================================================\n",
      "dense_33 (Dense)             (None, 4)                 116       \n",
      "_________________________________________________________________\n",
      "dense_34 (Dense)             (None, 4)                 20        \n",
      "_________________________________________________________________\n",
      "dense_35 (Dense)             (None, 1)                 5         \n",
      "=================================================================\n",
      "Total params: 141\n",
      "Trainable params: 141\n",
      "Non-trainable params: 0\n",
      "_________________________________________________________________\n"
     ]
    }
   ],
   "source": [
    "classifier.summary()"
   ]
  },
  {
   "cell_type": "code",
   "execution_count": 196,
   "metadata": {},
   "outputs": [
    {
     "name": "stdout",
     "output_type": "stream",
     "text": [
      "Epoch 1/10\n",
      "100500/100500 [==============================] - 2s 23us/step - loss: 0.2595 - acc: 0.9326\n",
      "Epoch 2/10\n",
      "100500/100500 [==============================] - 0s 2us/step - loss: 0.2576 - acc: 0.9326\n",
      "Epoch 3/10\n",
      "100500/100500 [==============================] - 0s 2us/step - loss: 0.2575 - acc: 0.9326\n",
      "Epoch 4/10\n",
      "100500/100500 [==============================] - 0s 2us/step - loss: 0.2569 - acc: 0.9326\n",
      "Epoch 5/10\n",
      "100500/100500 [==============================] - 0s 2us/step - loss: 0.2567 - acc: 0.9326\n",
      "Epoch 6/10\n",
      "100500/100500 [==============================] - 0s 2us/step - loss: 0.2577 - acc: 0.9326\n",
      "Epoch 7/10\n",
      "100500/100500 [==============================] - 0s 2us/step - loss: 0.2559 - acc: 0.9326\n",
      "Epoch 8/10\n",
      "100500/100500 [==============================] - 0s 2us/step - loss: 0.2551 - acc: 0.9326\n",
      "Epoch 9/10\n",
      "100500/100500 [==============================] - 0s 2us/step - loss: 0.2545 - acc: 0.9326\n",
      "Epoch 10/10\n",
      "100500/100500 [==============================] - 0s 2us/step - loss: 0.2541 - acc: 0.9326\n"
     ]
    },
    {
     "data": {
      "text/plain": [
       "<keras.callbacks.History at 0x1d65f89fe10>"
      ]
     },
     "execution_count": 196,
     "metadata": {},
     "output_type": "execute_result"
    }
   ],
   "source": [
    "#Fitting the data to the training dataset\n",
    "classifier.fit(X_train,y_train, batch_size=10000, epochs=10)"
   ]
  },
  {
   "cell_type": "code",
   "execution_count": 181,
   "metadata": {},
   "outputs": [
    {
     "data": {
      "text/plain": [
       "0    139974\n",
       "1     10026\n",
       "Name: Temerrut_flag, dtype: int64"
      ]
     },
     "execution_count": 181,
     "metadata": {},
     "output_type": "execute_result"
    }
   ],
   "source": [
    "df.Temerrut_flag.value_counts()"
   ]
  },
  {
   "cell_type": "code",
   "execution_count": 197,
   "metadata": {},
   "outputs": [
    {
     "name": "stdout",
     "output_type": "stream",
     "text": [
      "[[46247     0]\n",
      " [ 3253     0]]\n"
     ]
    }
   ],
   "source": [
    "y_pred=classifier.predict(X_test)\n",
    "y_pred =(y_pred>0.5)\n",
    "from sklearn.metrics import confusion_matrix\n",
    "cm = confusion_matrix(y_test, y_pred)\n",
    "print(cm)"
   ]
  },
  {
   "cell_type": "code",
   "execution_count": 183,
   "metadata": {},
   "outputs": [
    {
     "data": {
      "text/plain": [
       "49500"
      ]
     },
     "execution_count": 183,
     "metadata": {},
     "output_type": "execute_result"
    }
   ],
   "source": [
    "len(classifier.predict_proba(X_test))"
   ]
  },
  {
   "cell_type": "code",
   "execution_count": 184,
   "metadata": {},
   "outputs": [
    {
     "data": {
      "image/png": "[encoded data removed]",
      "text/plain": [
       "<Figure size 432x288 with 1 Axes>"
      ]
     },
     "metadata": {
      "needs_background": "light"
     },
     "output_type": "display_data"
    }
   ],
   "source": [
    "from sklearn.metrics import roc_auc_score\n",
    "from sklearn.metrics import roc_curve\n",
    "logit_roc_auc = roc_auc_score(y_test, y_pred)\n",
    "fpr, tpr, thresholds = roc_curve(y_test, classifier.predict_proba(X_test))\n",
    "plt.figure()\n",
    "plt.plot(fpr, tpr, label='Decision Tree (area = %0.2f)' % logit_roc_auc)\n",
    "plt.plot([0, 1], [0, 1],'r--')\n",
    "plt.xlim([0.0, 1.0])\n",
    "plt.ylim([0.0, 1.0])\n",
    "plt.xlabel('False Positive Rate')\n",
    "plt.ylabel('True Positive Rate')\n",
    "plt.title('Receiver operating characteristic')\n",
    "plt.legend(loc=\"lower right\")\n",
    "plt.savefig('Log_ROC')\n",
    "plt.show()"
   ]
  },
  {
   "cell_type": "code",
   "execution_count": null,
   "metadata": {},
   "outputs": [],
   "source": [
    "X_t"
   ]
  }
 ],
 "metadata": {
  "kernelspec": {
   "display_name": "Python 3",
   "language": "python",
   "name": "python3"
  },
  "language_info": {
   "codemirror_mode": {
    "name": "ipython",
    "version": 3
   },
   "file_extension": ".py",
   "mimetype": "text/x-python",
   "name": "python",
   "nbconvert_exporter": "python",
   "pygments_lexer": "ipython3",
   "version": "3.6.8"
  }
 },
 "nbformat": 4,
 "nbformat_minor": 2
}
